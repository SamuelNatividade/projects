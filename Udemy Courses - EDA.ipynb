{
 "cells": [
  {
   "cell_type": "markdown",
   "metadata": {},
   "source": [
    "## Análise dos cursos da Udemy"
   ]
  },
  {
   "cell_type": "markdown",
   "metadata": {},
   "source": [
    "#### Importando bibliotecas"
   ]
  },
  {
   "cell_type": "code",
   "execution_count": 99,
   "metadata": {},
   "outputs": [],
   "source": [
    "import pandas as pd\n",
    "import numpy as np\n",
    "import matplotlib.pyplot as plt\n",
    "import seaborn as sns\n",
    "from datetime import datetime"
   ]
  },
  {
   "cell_type": "markdown",
   "metadata": {},
   "source": [
    "### Lendo a base"
   ]
  },
  {
   "cell_type": "code",
   "execution_count": 3,
   "metadata": {},
   "outputs": [],
   "source": [
    "data = pd.read_csv(r'C:\\Users\\user\\Desktop\\Python Files\\Bases Kaggle\\udemy_courses.csv')"
   ]
  },
  {
   "cell_type": "markdown",
   "metadata": {},
   "source": [
    "## Tendo as primeiras impressões dos dados"
   ]
  },
  {
   "cell_type": "code",
   "execution_count": 9,
   "metadata": {},
   "outputs": [
    {
     "data": {
      "text/html": [
       "<div>\n",
       "<style scoped>\n",
       "    .dataframe tbody tr th:only-of-type {\n",
       "        vertical-align: middle;\n",
       "    }\n",
       "\n",
       "    .dataframe tbody tr th {\n",
       "        vertical-align: top;\n",
       "    }\n",
       "\n",
       "    .dataframe thead th {\n",
       "        text-align: right;\n",
       "    }\n",
       "</style>\n",
       "<table border=\"1\" class=\"dataframe\">\n",
       "  <thead>\n",
       "    <tr style=\"text-align: right;\">\n",
       "      <th></th>\n",
       "      <th>course_id</th>\n",
       "      <th>course_title</th>\n",
       "      <th>url</th>\n",
       "      <th>is_paid</th>\n",
       "      <th>price</th>\n",
       "      <th>num_subscribers</th>\n",
       "      <th>num_reviews</th>\n",
       "      <th>num_lectures</th>\n",
       "      <th>level</th>\n",
       "      <th>content_duration</th>\n",
       "      <th>published_timestamp</th>\n",
       "      <th>subject</th>\n",
       "    </tr>\n",
       "  </thead>\n",
       "  <tbody>\n",
       "    <tr>\n",
       "      <td>0</td>\n",
       "      <td>1070968</td>\n",
       "      <td>Ultimate Investment Banking Course</td>\n",
       "      <td>https://www.udemy.com/ultimate-investment-bank...</td>\n",
       "      <td>True</td>\n",
       "      <td>200</td>\n",
       "      <td>2147</td>\n",
       "      <td>23</td>\n",
       "      <td>51</td>\n",
       "      <td>All Levels</td>\n",
       "      <td>1.5 hours</td>\n",
       "      <td>2017-01-18T20:58:58Z</td>\n",
       "      <td>Business Finance</td>\n",
       "    </tr>\n",
       "    <tr>\n",
       "      <td>1</td>\n",
       "      <td>1113822</td>\n",
       "      <td>Complete GST Course &amp; Certification - Grow You...</td>\n",
       "      <td>https://www.udemy.com/goods-and-services-tax/</td>\n",
       "      <td>True</td>\n",
       "      <td>75</td>\n",
       "      <td>2792</td>\n",
       "      <td>923</td>\n",
       "      <td>274</td>\n",
       "      <td>All Levels</td>\n",
       "      <td>39 hours</td>\n",
       "      <td>2017-03-09T16:34:20Z</td>\n",
       "      <td>Business Finance</td>\n",
       "    </tr>\n",
       "    <tr>\n",
       "      <td>2</td>\n",
       "      <td>1006314</td>\n",
       "      <td>Financial Modeling for Business Analysts and C...</td>\n",
       "      <td>https://www.udemy.com/financial-modeling-for-b...</td>\n",
       "      <td>True</td>\n",
       "      <td>45</td>\n",
       "      <td>2174</td>\n",
       "      <td>74</td>\n",
       "      <td>51</td>\n",
       "      <td>Intermediate Level</td>\n",
       "      <td>2.5 hours</td>\n",
       "      <td>2016-12-19T19:26:30Z</td>\n",
       "      <td>Business Finance</td>\n",
       "    </tr>\n",
       "    <tr>\n",
       "      <td>3</td>\n",
       "      <td>1210588</td>\n",
       "      <td>Beginner to Pro - Financial Analysis in Excel ...</td>\n",
       "      <td>https://www.udemy.com/complete-excel-finance-c...</td>\n",
       "      <td>True</td>\n",
       "      <td>95</td>\n",
       "      <td>2451</td>\n",
       "      <td>11</td>\n",
       "      <td>36</td>\n",
       "      <td>All Levels</td>\n",
       "      <td>3 hours</td>\n",
       "      <td>2017-05-30T20:07:24Z</td>\n",
       "      <td>Business Finance</td>\n",
       "    </tr>\n",
       "    <tr>\n",
       "      <td>4</td>\n",
       "      <td>1011058</td>\n",
       "      <td>How To Maximize Your Profits Trading Options</td>\n",
       "      <td>https://www.udemy.com/how-to-maximize-your-pro...</td>\n",
       "      <td>True</td>\n",
       "      <td>200</td>\n",
       "      <td>1276</td>\n",
       "      <td>45</td>\n",
       "      <td>26</td>\n",
       "      <td>Intermediate Level</td>\n",
       "      <td>2 hours</td>\n",
       "      <td>2016-12-13T14:57:18Z</td>\n",
       "      <td>Business Finance</td>\n",
       "    </tr>\n",
       "    <tr>\n",
       "      <td>5</td>\n",
       "      <td>192870</td>\n",
       "      <td>Trading Penny Stocks: A Guide for All Levels I...</td>\n",
       "      <td>https://www.udemy.com/trading-penny-stocks-a-g...</td>\n",
       "      <td>True</td>\n",
       "      <td>150</td>\n",
       "      <td>9221</td>\n",
       "      <td>138</td>\n",
       "      <td>25</td>\n",
       "      <td>All Levels</td>\n",
       "      <td>3 hours</td>\n",
       "      <td>2014-05-02T15:13:30Z</td>\n",
       "      <td>Business Finance</td>\n",
       "    </tr>\n",
       "    <tr>\n",
       "      <td>6</td>\n",
       "      <td>739964</td>\n",
       "      <td>Investing And Trading For Beginners: Mastering...</td>\n",
       "      <td>https://www.udemy.com/investing-and-trading-fo...</td>\n",
       "      <td>True</td>\n",
       "      <td>65</td>\n",
       "      <td>1540</td>\n",
       "      <td>178</td>\n",
       "      <td>26</td>\n",
       "      <td>Beginner Level</td>\n",
       "      <td>1 hour</td>\n",
       "      <td>2016-02-21T18:23:12Z</td>\n",
       "      <td>Business Finance</td>\n",
       "    </tr>\n",
       "    <tr>\n",
       "      <td>7</td>\n",
       "      <td>403100</td>\n",
       "      <td>Trading Stock Chart Patterns For Immediate, Ex...</td>\n",
       "      <td>https://www.udemy.com/trading-chart-patterns-f...</td>\n",
       "      <td>True</td>\n",
       "      <td>95</td>\n",
       "      <td>2917</td>\n",
       "      <td>148</td>\n",
       "      <td>23</td>\n",
       "      <td>All Levels</td>\n",
       "      <td>2.5 hours</td>\n",
       "      <td>2015-01-30T22:13:03Z</td>\n",
       "      <td>Business Finance</td>\n",
       "    </tr>\n",
       "    <tr>\n",
       "      <td>8</td>\n",
       "      <td>476268</td>\n",
       "      <td>Options Trading 3 : Advanced Stock Profit and ...</td>\n",
       "      <td>https://www.udemy.com/day-trading-stock-option...</td>\n",
       "      <td>True</td>\n",
       "      <td>195</td>\n",
       "      <td>5172</td>\n",
       "      <td>34</td>\n",
       "      <td>38</td>\n",
       "      <td>Expert Level</td>\n",
       "      <td>2.5 hours</td>\n",
       "      <td>2015-05-28T00:14:03Z</td>\n",
       "      <td>Business Finance</td>\n",
       "    </tr>\n",
       "    <tr>\n",
       "      <td>9</td>\n",
       "      <td>1167710</td>\n",
       "      <td>The Only Investment Strategy You Need For Your...</td>\n",
       "      <td>https://www.udemy.com/the-only-investment-stra...</td>\n",
       "      <td>True</td>\n",
       "      <td>200</td>\n",
       "      <td>827</td>\n",
       "      <td>14</td>\n",
       "      <td>15</td>\n",
       "      <td>All Levels</td>\n",
       "      <td>1 hour</td>\n",
       "      <td>2017-04-18T18:13:32Z</td>\n",
       "      <td>Business Finance</td>\n",
       "    </tr>\n",
       "  </tbody>\n",
       "</table>\n",
       "</div>"
      ],
      "text/plain": [
       "   course_id                                       course_title  \\\n",
       "0    1070968                 Ultimate Investment Banking Course   \n",
       "1    1113822  Complete GST Course & Certification - Grow You...   \n",
       "2    1006314  Financial Modeling for Business Analysts and C...   \n",
       "3    1210588  Beginner to Pro - Financial Analysis in Excel ...   \n",
       "4    1011058       How To Maximize Your Profits Trading Options   \n",
       "5     192870  Trading Penny Stocks: A Guide for All Levels I...   \n",
       "6     739964  Investing And Trading For Beginners: Mastering...   \n",
       "7     403100  Trading Stock Chart Patterns For Immediate, Ex...   \n",
       "8     476268  Options Trading 3 : Advanced Stock Profit and ...   \n",
       "9    1167710  The Only Investment Strategy You Need For Your...   \n",
       "\n",
       "                                                 url is_paid price  \\\n",
       "0  https://www.udemy.com/ultimate-investment-bank...    True   200   \n",
       "1      https://www.udemy.com/goods-and-services-tax/    True    75   \n",
       "2  https://www.udemy.com/financial-modeling-for-b...    True    45   \n",
       "3  https://www.udemy.com/complete-excel-finance-c...    True    95   \n",
       "4  https://www.udemy.com/how-to-maximize-your-pro...    True   200   \n",
       "5  https://www.udemy.com/trading-penny-stocks-a-g...    True   150   \n",
       "6  https://www.udemy.com/investing-and-trading-fo...    True    65   \n",
       "7  https://www.udemy.com/trading-chart-patterns-f...    True    95   \n",
       "8  https://www.udemy.com/day-trading-stock-option...    True   195   \n",
       "9  https://www.udemy.com/the-only-investment-stra...    True   200   \n",
       "\n",
       "   num_subscribers  num_reviews  num_lectures               level  \\\n",
       "0             2147           23            51          All Levels   \n",
       "1             2792          923           274          All Levels   \n",
       "2             2174           74            51  Intermediate Level   \n",
       "3             2451           11            36          All Levels   \n",
       "4             1276           45            26  Intermediate Level   \n",
       "5             9221          138            25          All Levels   \n",
       "6             1540          178            26      Beginner Level   \n",
       "7             2917          148            23          All Levels   \n",
       "8             5172           34            38        Expert Level   \n",
       "9              827           14            15          All Levels   \n",
       "\n",
       "  content_duration   published_timestamp           subject  \n",
       "0        1.5 hours  2017-01-18T20:58:58Z  Business Finance  \n",
       "1         39 hours  2017-03-09T16:34:20Z  Business Finance  \n",
       "2        2.5 hours  2016-12-19T19:26:30Z  Business Finance  \n",
       "3          3 hours  2017-05-30T20:07:24Z  Business Finance  \n",
       "4          2 hours  2016-12-13T14:57:18Z  Business Finance  \n",
       "5          3 hours  2014-05-02T15:13:30Z  Business Finance  \n",
       "6           1 hour  2016-02-21T18:23:12Z  Business Finance  \n",
       "7        2.5 hours  2015-01-30T22:13:03Z  Business Finance  \n",
       "8        2.5 hours  2015-05-28T00:14:03Z  Business Finance  \n",
       "9           1 hour  2017-04-18T18:13:32Z  Business Finance  "
      ]
     },
     "execution_count": 9,
     "metadata": {},
     "output_type": "execute_result"
    }
   ],
   "source": [
    "data.head(10)"
   ]
  },
  {
   "cell_type": "code",
   "execution_count": 7,
   "metadata": {},
   "outputs": [
    {
     "data": {
      "text/plain": [
       "(3683, 12)"
      ]
     },
     "execution_count": 7,
     "metadata": {},
     "output_type": "execute_result"
    }
   ],
   "source": [
    "data.shape"
   ]
  },
  {
   "cell_type": "code",
   "execution_count": 15,
   "metadata": {},
   "outputs": [
    {
     "name": "stdout",
     "output_type": "stream",
     "text": [
      "<class 'pandas.core.frame.DataFrame'>\n",
      "RangeIndex: 3683 entries, 0 to 3682\n",
      "Data columns (total 12 columns):\n",
      "course_id              3683 non-null int64\n",
      "course_title           3683 non-null object\n",
      "url                    3683 non-null object\n",
      "is_paid                3683 non-null object\n",
      "price                  3683 non-null object\n",
      "num_subscribers        3683 non-null int64\n",
      "num_reviews            3683 non-null int64\n",
      "num_lectures           3683 non-null int64\n",
      "level                  3683 non-null object\n",
      "content_duration       3683 non-null object\n",
      "published_timestamp    3683 non-null object\n",
      "subject                3683 non-null object\n",
      "dtypes: int64(4), object(8)\n",
      "memory usage: 345.4+ KB\n"
     ]
    }
   ],
   "source": [
    "data.info()"
   ]
  },
  {
   "cell_type": "markdown",
   "metadata": {},
   "source": [
    "## Podemos ver que as funções timestamp, tempo de curso e price não estão no formato adequado... temos que alterar"
   ]
  },
  {
   "cell_type": "markdown",
   "metadata": {},
   "source": [
    "### Começando pela content_duration"
   ]
  },
  {
   "cell_type": "code",
   "execution_count": 55,
   "metadata": {},
   "outputs": [
    {
     "data": {
      "text/plain": [
       "array(['1.5 hours', '39 hours', '2.5 hours', '3 hours', '2 hours',\n",
       "       '1 hour', '5 hours', '7 hours', '4 hours', '35 mins', '4.5 hours',\n",
       "       '6.5 hours', '10 hours', '5.5 hours', '7.5 hours', '11.5 hours',\n",
       "       '16 hours', '3.5 hours', '9 hours', '8.5 hours', '11 hours',\n",
       "       '42 mins', '9.5 hours', '218 questions', '18 questions', '33 mins',\n",
       "       '62 hours', '8 mins', '41 mins', '31.5 hours', '20 hours',\n",
       "       '6 hours', '46.5 hours', '43 mins', '17.5 hours', '12 hours',\n",
       "       '32 mins', '24 hours', '19.5 hours', '20.5 hours', '30 mins',\n",
       "       '10.5 hours', '31 mins', '36 mins', '8 hours', '29 hours',\n",
       "       '26 hours', '24.5 hours', '13 hours', '44 mins', '34 mins',\n",
       "       '12.5 hours', '19 mins', '37 mins', '40 mins', '18 hours',\n",
       "       '33 hours', '71.5 hours', '47 hours', '14.5 hours', '39 mins',\n",
       "       '18.5 hours', '43.5 hours', '38 mins', '14 hours', '28 mins',\n",
       "       '24 questions', '45 hours', '70 hours', '0', '29.5 hours',\n",
       "       '82 questions', '13.5 hours', '27 mins', '21 hours', '68.5 hours',\n",
       "       '30 hours', '17 hours', '16.5 hours', '15 hours', '78.5 hours',\n",
       "       '29 mins', '34 hours', '31 hours', '15.5 hours', '28.5 hours',\n",
       "       '23 hours', 'Beginner Level', '38 hours', '32.5 hours', '19 hours',\n",
       "       '37.5 hours', '25 hours', '25.5 hours', '60 hours', '22.5 hours',\n",
       "       '21.5 hours', '27.5 hours', '44.5 hours', '51 hours', '57 hours',\n",
       "       '76.5 hours', '22 hours', '30.5 hours', '43 hours', '42 hours',\n",
       "       '26.5 hours', '48.5 hours', '23.5 hours', '66.5 hours'],\n",
       "      dtype=object)"
      ]
     },
     "execution_count": 55,
     "metadata": {},
     "output_type": "execute_result"
    }
   ],
   "source": [
    "data['content_duration'].unique()"
   ]
  },
  {
   "cell_type": "markdown",
   "metadata": {},
   "source": [
    "## Lets filter only data with hours and hour in the dataset"
   ]
  },
  {
   "cell_type": "code",
   "execution_count": 57,
   "metadata": {},
   "outputs": [],
   "source": [
    "data = data[data['content_duration'].str.contains('hour')]"
   ]
  },
  {
   "cell_type": "code",
   "execution_count": 58,
   "metadata": {},
   "outputs": [
    {
     "data": {
      "text/html": [
       "<div>\n",
       "<style scoped>\n",
       "    .dataframe tbody tr th:only-of-type {\n",
       "        vertical-align: middle;\n",
       "    }\n",
       "\n",
       "    .dataframe tbody tr th {\n",
       "        vertical-align: top;\n",
       "    }\n",
       "\n",
       "    .dataframe thead th {\n",
       "        text-align: right;\n",
       "    }\n",
       "</style>\n",
       "<table border=\"1\" class=\"dataframe\">\n",
       "  <thead>\n",
       "    <tr style=\"text-align: right;\">\n",
       "      <th></th>\n",
       "      <th>course_id</th>\n",
       "      <th>course_title</th>\n",
       "      <th>url</th>\n",
       "      <th>is_paid</th>\n",
       "      <th>price</th>\n",
       "      <th>num_subscribers</th>\n",
       "      <th>num_reviews</th>\n",
       "      <th>num_lectures</th>\n",
       "      <th>level</th>\n",
       "      <th>content_duration</th>\n",
       "      <th>published_timestamp</th>\n",
       "      <th>subject</th>\n",
       "    </tr>\n",
       "  </thead>\n",
       "  <tbody>\n",
       "    <tr>\n",
       "      <td>0</td>\n",
       "      <td>1070968</td>\n",
       "      <td>Ultimate Investment Banking Course</td>\n",
       "      <td>https://www.udemy.com/ultimate-investment-bank...</td>\n",
       "      <td>True</td>\n",
       "      <td>200</td>\n",
       "      <td>2147</td>\n",
       "      <td>23</td>\n",
       "      <td>51</td>\n",
       "      <td>All Levels</td>\n",
       "      <td>1.5 hours</td>\n",
       "      <td>2017-01-18T20:58:58Z</td>\n",
       "      <td>Business Finance</td>\n",
       "    </tr>\n",
       "    <tr>\n",
       "      <td>1</td>\n",
       "      <td>1113822</td>\n",
       "      <td>Complete GST Course &amp; Certification - Grow You...</td>\n",
       "      <td>https://www.udemy.com/goods-and-services-tax/</td>\n",
       "      <td>True</td>\n",
       "      <td>75</td>\n",
       "      <td>2792</td>\n",
       "      <td>923</td>\n",
       "      <td>274</td>\n",
       "      <td>All Levels</td>\n",
       "      <td>39 hours</td>\n",
       "      <td>2017-03-09T16:34:20Z</td>\n",
       "      <td>Business Finance</td>\n",
       "    </tr>\n",
       "    <tr>\n",
       "      <td>2</td>\n",
       "      <td>1006314</td>\n",
       "      <td>Financial Modeling for Business Analysts and C...</td>\n",
       "      <td>https://www.udemy.com/financial-modeling-for-b...</td>\n",
       "      <td>True</td>\n",
       "      <td>45</td>\n",
       "      <td>2174</td>\n",
       "      <td>74</td>\n",
       "      <td>51</td>\n",
       "      <td>Intermediate Level</td>\n",
       "      <td>2.5 hours</td>\n",
       "      <td>2016-12-19T19:26:30Z</td>\n",
       "      <td>Business Finance</td>\n",
       "    </tr>\n",
       "    <tr>\n",
       "      <td>3</td>\n",
       "      <td>1210588</td>\n",
       "      <td>Beginner to Pro - Financial Analysis in Excel ...</td>\n",
       "      <td>https://www.udemy.com/complete-excel-finance-c...</td>\n",
       "      <td>True</td>\n",
       "      <td>95</td>\n",
       "      <td>2451</td>\n",
       "      <td>11</td>\n",
       "      <td>36</td>\n",
       "      <td>All Levels</td>\n",
       "      <td>3 hours</td>\n",
       "      <td>2017-05-30T20:07:24Z</td>\n",
       "      <td>Business Finance</td>\n",
       "    </tr>\n",
       "    <tr>\n",
       "      <td>4</td>\n",
       "      <td>1011058</td>\n",
       "      <td>How To Maximize Your Profits Trading Options</td>\n",
       "      <td>https://www.udemy.com/how-to-maximize-your-pro...</td>\n",
       "      <td>True</td>\n",
       "      <td>200</td>\n",
       "      <td>1276</td>\n",
       "      <td>45</td>\n",
       "      <td>26</td>\n",
       "      <td>Intermediate Level</td>\n",
       "      <td>2 hours</td>\n",
       "      <td>2016-12-13T14:57:18Z</td>\n",
       "      <td>Business Finance</td>\n",
       "    </tr>\n",
       "  </tbody>\n",
       "</table>\n",
       "</div>"
      ],
      "text/plain": [
       "   course_id                                       course_title  \\\n",
       "0    1070968                 Ultimate Investment Banking Course   \n",
       "1    1113822  Complete GST Course & Certification - Grow You...   \n",
       "2    1006314  Financial Modeling for Business Analysts and C...   \n",
       "3    1210588  Beginner to Pro - Financial Analysis in Excel ...   \n",
       "4    1011058       How To Maximize Your Profits Trading Options   \n",
       "\n",
       "                                                 url is_paid price  \\\n",
       "0  https://www.udemy.com/ultimate-investment-bank...    True   200   \n",
       "1      https://www.udemy.com/goods-and-services-tax/    True    75   \n",
       "2  https://www.udemy.com/financial-modeling-for-b...    True    45   \n",
       "3  https://www.udemy.com/complete-excel-finance-c...    True    95   \n",
       "4  https://www.udemy.com/how-to-maximize-your-pro...    True   200   \n",
       "\n",
       "   num_subscribers  num_reviews  num_lectures               level  \\\n",
       "0             2147           23            51          All Levels   \n",
       "1             2792          923           274          All Levels   \n",
       "2             2174           74            51  Intermediate Level   \n",
       "3             2451           11            36          All Levels   \n",
       "4             1276           45            26  Intermediate Level   \n",
       "\n",
       "  content_duration   published_timestamp           subject  \n",
       "0        1.5 hours  2017-01-18T20:58:58Z  Business Finance  \n",
       "1         39 hours  2017-03-09T16:34:20Z  Business Finance  \n",
       "2        2.5 hours  2016-12-19T19:26:30Z  Business Finance  \n",
       "3          3 hours  2017-05-30T20:07:24Z  Business Finance  \n",
       "4          2 hours  2016-12-13T14:57:18Z  Business Finance  "
      ]
     },
     "execution_count": 58,
     "metadata": {},
     "output_type": "execute_result"
    }
   ],
   "source": [
    "data.head()"
   ]
  },
  {
   "cell_type": "code",
   "execution_count": 60,
   "metadata": {},
   "outputs": [],
   "source": [
    "def ajuste_hour(hour):\n",
    "    hora = hour.replace('hour','')\n",
    "    hora1 = hora.replace('s','')\n",
    "    output = float(hora1)\n",
    "    return output"
   ]
  },
  {
   "cell_type": "code",
   "execution_count": 64,
   "metadata": {},
   "outputs": [
    {
     "name": "stderr",
     "output_type": "stream",
     "text": [
      "C:\\Users\\user\\Anaconda3\\lib\\site-packages\\ipykernel_launcher.py:1: SettingWithCopyWarning: \n",
      "A value is trying to be set on a copy of a slice from a DataFrame.\n",
      "Try using .loc[row_indexer,col_indexer] = value instead\n",
      "\n",
      "See the caveats in the documentation: http://pandas.pydata.org/pandas-docs/stable/user_guide/indexing.html#returning-a-view-versus-a-copy\n",
      "  \"\"\"Entry point for launching an IPython kernel.\n"
     ]
    }
   ],
   "source": [
    "data['content_duration'] = data['content_duration'].apply(ajuste_hour)"
   ]
  },
  {
   "cell_type": "markdown",
   "metadata": {},
   "source": [
    "## Vamos checar pra ver se o content duration mudou para float"
   ]
  },
  {
   "cell_type": "code",
   "execution_count": 72,
   "metadata": {},
   "outputs": [
    {
     "name": "stdout",
     "output_type": "stream",
     "text": [
      "<class 'pandas.core.frame.DataFrame'>\n",
      "Int64Index: 3351 entries, 0 to 3682\n",
      "Data columns (total 12 columns):\n",
      "course_id              3351 non-null int64\n",
      "course_title           3351 non-null object\n",
      "url                    3351 non-null object\n",
      "is_paid                3351 non-null object\n",
      "price                  3351 non-null object\n",
      "num_subscribers        3351 non-null int64\n",
      "num_reviews            3351 non-null int64\n",
      "num_lectures           3351 non-null int64\n",
      "level                  3351 non-null object\n",
      "content_duration       3351 non-null float64\n",
      "published_timestamp    3351 non-null object\n",
      "subject                3351 non-null object\n",
      "dtypes: float64(1), int64(4), object(7)\n",
      "memory usage: 340.3+ KB\n"
     ]
    }
   ],
   "source": [
    "# sim mudou... já alteramos pelo menos um dado\n",
    "data.info()"
   ]
  },
  {
   "cell_type": "markdown",
   "metadata": {},
   "source": [
    "## Agora temos que limpar o price"
   ]
  },
  {
   "cell_type": "code",
   "execution_count": 75,
   "metadata": {},
   "outputs": [
    {
     "data": {
      "text/plain": [
       "array(['200', '75', '45', '95', '150', '65', '195', '30', '20', '50',\n",
       "       '175', '140', '115', '190', '125', '60', '145', '105', '155',\n",
       "       '185', '180', '120', '25', '160', '40', '100', 'Free', '90', '35',\n",
       "       '80', '70', '55', '165', '130', '85', '170', '110', '135'],\n",
       "      dtype=object)"
      ]
     },
     "execution_count": 75,
     "metadata": {},
     "output_type": "execute_result"
    }
   ],
   "source": [
    "data['price'].unique()"
   ]
  },
  {
   "cell_type": "markdown",
   "metadata": {},
   "source": [
    "## Nós temos cursos gratuitos"
   ]
  },
  {
   "cell_type": "code",
   "execution_count": 77,
   "metadata": {},
   "outputs": [],
   "source": [
    "def free_course(course):\n",
    "    price = course.replace('Free','0')\n",
    "    price1 = float(price)\n",
    "    return price1"
   ]
  },
  {
   "cell_type": "code",
   "execution_count": 79,
   "metadata": {},
   "outputs": [
    {
     "name": "stderr",
     "output_type": "stream",
     "text": [
      "C:\\Users\\user\\Anaconda3\\lib\\site-packages\\ipykernel_launcher.py:1: SettingWithCopyWarning: \n",
      "A value is trying to be set on a copy of a slice from a DataFrame.\n",
      "Try using .loc[row_indexer,col_indexer] = value instead\n",
      "\n",
      "See the caveats in the documentation: http://pandas.pydata.org/pandas-docs/stable/user_guide/indexing.html#returning-a-view-versus-a-copy\n",
      "  \"\"\"Entry point for launching an IPython kernel.\n"
     ]
    }
   ],
   "source": [
    "data['price'] = data['price'].apply(free_course)"
   ]
  },
  {
   "cell_type": "code",
   "execution_count": 81,
   "metadata": {},
   "outputs": [
    {
     "name": "stdout",
     "output_type": "stream",
     "text": [
      "<class 'pandas.core.frame.DataFrame'>\n",
      "Int64Index: 3351 entries, 0 to 3682\n",
      "Data columns (total 12 columns):\n",
      "course_id              3351 non-null int64\n",
      "course_title           3351 non-null object\n",
      "url                    3351 non-null object\n",
      "is_paid                3351 non-null object\n",
      "price                  3351 non-null float64\n",
      "num_subscribers        3351 non-null int64\n",
      "num_reviews            3351 non-null int64\n",
      "num_lectures           3351 non-null int64\n",
      "level                  3351 non-null object\n",
      "content_duration       3351 non-null float64\n",
      "published_timestamp    3351 non-null object\n",
      "subject                3351 non-null object\n",
      "dtypes: float64(2), int64(4), object(6)\n",
      "memory usage: 340.3+ KB\n"
     ]
    }
   ],
   "source": [
    "data.info()"
   ]
  },
  {
   "cell_type": "markdown",
   "metadata": {},
   "source": [
    "## Temos que ajeitar a timestamp"
   ]
  },
  {
   "cell_type": "code",
   "execution_count": 129,
   "metadata": {},
   "outputs": [],
   "source": [
    "data['published_timestamp']= pd.to_datetime(data['published_timestamp'], format = '%Y-%m-%dT%H:%M:%SZ')"
   ]
  },
  {
   "cell_type": "code",
   "execution_count": 130,
   "metadata": {},
   "outputs": [
    {
     "data": {
      "text/html": [
       "<div>\n",
       "<style scoped>\n",
       "    .dataframe tbody tr th:only-of-type {\n",
       "        vertical-align: middle;\n",
       "    }\n",
       "\n",
       "    .dataframe tbody tr th {\n",
       "        vertical-align: top;\n",
       "    }\n",
       "\n",
       "    .dataframe thead th {\n",
       "        text-align: right;\n",
       "    }\n",
       "</style>\n",
       "<table border=\"1\" class=\"dataframe\">\n",
       "  <thead>\n",
       "    <tr style=\"text-align: right;\">\n",
       "      <th></th>\n",
       "      <th>course_id</th>\n",
       "      <th>course_title</th>\n",
       "      <th>url</th>\n",
       "      <th>is_paid</th>\n",
       "      <th>price</th>\n",
       "      <th>num_subscribers</th>\n",
       "      <th>num_reviews</th>\n",
       "      <th>num_lectures</th>\n",
       "      <th>level</th>\n",
       "      <th>content_duration</th>\n",
       "      <th>published_timestamp</th>\n",
       "      <th>subject</th>\n",
       "    </tr>\n",
       "  </thead>\n",
       "  <tbody>\n",
       "    <tr>\n",
       "      <td>0</td>\n",
       "      <td>1070968</td>\n",
       "      <td>Ultimate Investment Banking Course</td>\n",
       "      <td>https://www.udemy.com/ultimate-investment-bank...</td>\n",
       "      <td>True</td>\n",
       "      <td>200.0</td>\n",
       "      <td>2147</td>\n",
       "      <td>23</td>\n",
       "      <td>51</td>\n",
       "      <td>All Levels</td>\n",
       "      <td>1.5</td>\n",
       "      <td>2017-01-18 20:58:58</td>\n",
       "      <td>Business Finance</td>\n",
       "    </tr>\n",
       "    <tr>\n",
       "      <td>1</td>\n",
       "      <td>1113822</td>\n",
       "      <td>Complete GST Course &amp; Certification - Grow You...</td>\n",
       "      <td>https://www.udemy.com/goods-and-services-tax/</td>\n",
       "      <td>True</td>\n",
       "      <td>75.0</td>\n",
       "      <td>2792</td>\n",
       "      <td>923</td>\n",
       "      <td>274</td>\n",
       "      <td>All Levels</td>\n",
       "      <td>39.0</td>\n",
       "      <td>2017-03-09 16:34:20</td>\n",
       "      <td>Business Finance</td>\n",
       "    </tr>\n",
       "    <tr>\n",
       "      <td>2</td>\n",
       "      <td>1006314</td>\n",
       "      <td>Financial Modeling for Business Analysts and C...</td>\n",
       "      <td>https://www.udemy.com/financial-modeling-for-b...</td>\n",
       "      <td>True</td>\n",
       "      <td>45.0</td>\n",
       "      <td>2174</td>\n",
       "      <td>74</td>\n",
       "      <td>51</td>\n",
       "      <td>Intermediate Level</td>\n",
       "      <td>2.5</td>\n",
       "      <td>2016-12-19 19:26:30</td>\n",
       "      <td>Business Finance</td>\n",
       "    </tr>\n",
       "    <tr>\n",
       "      <td>3</td>\n",
       "      <td>1210588</td>\n",
       "      <td>Beginner to Pro - Financial Analysis in Excel ...</td>\n",
       "      <td>https://www.udemy.com/complete-excel-finance-c...</td>\n",
       "      <td>True</td>\n",
       "      <td>95.0</td>\n",
       "      <td>2451</td>\n",
       "      <td>11</td>\n",
       "      <td>36</td>\n",
       "      <td>All Levels</td>\n",
       "      <td>3.0</td>\n",
       "      <td>2017-05-30 20:07:24</td>\n",
       "      <td>Business Finance</td>\n",
       "    </tr>\n",
       "    <tr>\n",
       "      <td>4</td>\n",
       "      <td>1011058</td>\n",
       "      <td>How To Maximize Your Profits Trading Options</td>\n",
       "      <td>https://www.udemy.com/how-to-maximize-your-pro...</td>\n",
       "      <td>True</td>\n",
       "      <td>200.0</td>\n",
       "      <td>1276</td>\n",
       "      <td>45</td>\n",
       "      <td>26</td>\n",
       "      <td>Intermediate Level</td>\n",
       "      <td>2.0</td>\n",
       "      <td>2016-12-13 14:57:18</td>\n",
       "      <td>Business Finance</td>\n",
       "    </tr>\n",
       "  </tbody>\n",
       "</table>\n",
       "</div>"
      ],
      "text/plain": [
       "   course_id                                       course_title  \\\n",
       "0    1070968                 Ultimate Investment Banking Course   \n",
       "1    1113822  Complete GST Course & Certification - Grow You...   \n",
       "2    1006314  Financial Modeling for Business Analysts and C...   \n",
       "3    1210588  Beginner to Pro - Financial Analysis in Excel ...   \n",
       "4    1011058       How To Maximize Your Profits Trading Options   \n",
       "\n",
       "                                                 url is_paid  price  \\\n",
       "0  https://www.udemy.com/ultimate-investment-bank...    True  200.0   \n",
       "1      https://www.udemy.com/goods-and-services-tax/    True   75.0   \n",
       "2  https://www.udemy.com/financial-modeling-for-b...    True   45.0   \n",
       "3  https://www.udemy.com/complete-excel-finance-c...    True   95.0   \n",
       "4  https://www.udemy.com/how-to-maximize-your-pro...    True  200.0   \n",
       "\n",
       "   num_subscribers  num_reviews  num_lectures               level  \\\n",
       "0             2147           23            51          All Levels   \n",
       "1             2792          923           274          All Levels   \n",
       "2             2174           74            51  Intermediate Level   \n",
       "3             2451           11            36          All Levels   \n",
       "4             1276           45            26  Intermediate Level   \n",
       "\n",
       "   content_duration published_timestamp           subject  \n",
       "0               1.5 2017-01-18 20:58:58  Business Finance  \n",
       "1              39.0 2017-03-09 16:34:20  Business Finance  \n",
       "2               2.5 2016-12-19 19:26:30  Business Finance  \n",
       "3               3.0 2017-05-30 20:07:24  Business Finance  \n",
       "4               2.0 2016-12-13 14:57:18  Business Finance  "
      ]
     },
     "execution_count": 130,
     "metadata": {},
     "output_type": "execute_result"
    }
   ],
   "source": [
    "data.head()"
   ]
  },
  {
   "cell_type": "code",
   "execution_count": 131,
   "metadata": {},
   "outputs": [
    {
     "name": "stdout",
     "output_type": "stream",
     "text": [
      "<class 'pandas.core.frame.DataFrame'>\n",
      "Int64Index: 3351 entries, 0 to 3682\n",
      "Data columns (total 12 columns):\n",
      "course_id              3351 non-null int64\n",
      "course_title           3351 non-null object\n",
      "url                    3351 non-null object\n",
      "is_paid                3351 non-null object\n",
      "price                  3351 non-null float64\n",
      "num_subscribers        3351 non-null int64\n",
      "num_reviews            3351 non-null int64\n",
      "num_lectures           3351 non-null int64\n",
      "level                  3351 non-null object\n",
      "content_duration       3351 non-null float64\n",
      "published_timestamp    3351 non-null datetime64[ns]\n",
      "subject                3351 non-null object\n",
      "dtypes: datetime64[ns](1), float64(2), int64(4), object(5)\n",
      "memory usage: 340.3+ KB\n"
     ]
    }
   ],
   "source": [
    "data.info()"
   ]
  },
  {
   "cell_type": "markdown",
   "metadata": {},
   "source": [
    "## separando somente para data"
   ]
  },
  {
   "cell_type": "code",
   "execution_count": 138,
   "metadata": {},
   "outputs": [],
   "source": [
    "data['date'] = pd.to_datetime(data['published_timestamp'].dt.date, format = '%Y-%m-%d')"
   ]
  },
  {
   "cell_type": "code",
   "execution_count": 140,
   "metadata": {},
   "outputs": [
    {
     "data": {
      "text/html": [
       "<div>\n",
       "<style scoped>\n",
       "    .dataframe tbody tr th:only-of-type {\n",
       "        vertical-align: middle;\n",
       "    }\n",
       "\n",
       "    .dataframe tbody tr th {\n",
       "        vertical-align: top;\n",
       "    }\n",
       "\n",
       "    .dataframe thead th {\n",
       "        text-align: right;\n",
       "    }\n",
       "</style>\n",
       "<table border=\"1\" class=\"dataframe\">\n",
       "  <thead>\n",
       "    <tr style=\"text-align: right;\">\n",
       "      <th></th>\n",
       "      <th>course_id</th>\n",
       "      <th>course_title</th>\n",
       "      <th>url</th>\n",
       "      <th>is_paid</th>\n",
       "      <th>price</th>\n",
       "      <th>num_subscribers</th>\n",
       "      <th>num_reviews</th>\n",
       "      <th>num_lectures</th>\n",
       "      <th>level</th>\n",
       "      <th>content_duration</th>\n",
       "      <th>published_timestamp</th>\n",
       "      <th>subject</th>\n",
       "      <th>date</th>\n",
       "    </tr>\n",
       "  </thead>\n",
       "  <tbody>\n",
       "    <tr>\n",
       "      <td>0</td>\n",
       "      <td>1070968</td>\n",
       "      <td>Ultimate Investment Banking Course</td>\n",
       "      <td>https://www.udemy.com/ultimate-investment-bank...</td>\n",
       "      <td>True</td>\n",
       "      <td>200.0</td>\n",
       "      <td>2147</td>\n",
       "      <td>23</td>\n",
       "      <td>51</td>\n",
       "      <td>All Levels</td>\n",
       "      <td>1.5</td>\n",
       "      <td>2017-01-18 20:58:58</td>\n",
       "      <td>Business Finance</td>\n",
       "      <td>2017-01-18</td>\n",
       "    </tr>\n",
       "    <tr>\n",
       "      <td>1</td>\n",
       "      <td>1113822</td>\n",
       "      <td>Complete GST Course &amp; Certification - Grow You...</td>\n",
       "      <td>https://www.udemy.com/goods-and-services-tax/</td>\n",
       "      <td>True</td>\n",
       "      <td>75.0</td>\n",
       "      <td>2792</td>\n",
       "      <td>923</td>\n",
       "      <td>274</td>\n",
       "      <td>All Levels</td>\n",
       "      <td>39.0</td>\n",
       "      <td>2017-03-09 16:34:20</td>\n",
       "      <td>Business Finance</td>\n",
       "      <td>2017-03-09</td>\n",
       "    </tr>\n",
       "    <tr>\n",
       "      <td>2</td>\n",
       "      <td>1006314</td>\n",
       "      <td>Financial Modeling for Business Analysts and C...</td>\n",
       "      <td>https://www.udemy.com/financial-modeling-for-b...</td>\n",
       "      <td>True</td>\n",
       "      <td>45.0</td>\n",
       "      <td>2174</td>\n",
       "      <td>74</td>\n",
       "      <td>51</td>\n",
       "      <td>Intermediate Level</td>\n",
       "      <td>2.5</td>\n",
       "      <td>2016-12-19 19:26:30</td>\n",
       "      <td>Business Finance</td>\n",
       "      <td>2016-12-19</td>\n",
       "    </tr>\n",
       "    <tr>\n",
       "      <td>3</td>\n",
       "      <td>1210588</td>\n",
       "      <td>Beginner to Pro - Financial Analysis in Excel ...</td>\n",
       "      <td>https://www.udemy.com/complete-excel-finance-c...</td>\n",
       "      <td>True</td>\n",
       "      <td>95.0</td>\n",
       "      <td>2451</td>\n",
       "      <td>11</td>\n",
       "      <td>36</td>\n",
       "      <td>All Levels</td>\n",
       "      <td>3.0</td>\n",
       "      <td>2017-05-30 20:07:24</td>\n",
       "      <td>Business Finance</td>\n",
       "      <td>2017-05-30</td>\n",
       "    </tr>\n",
       "    <tr>\n",
       "      <td>4</td>\n",
       "      <td>1011058</td>\n",
       "      <td>How To Maximize Your Profits Trading Options</td>\n",
       "      <td>https://www.udemy.com/how-to-maximize-your-pro...</td>\n",
       "      <td>True</td>\n",
       "      <td>200.0</td>\n",
       "      <td>1276</td>\n",
       "      <td>45</td>\n",
       "      <td>26</td>\n",
       "      <td>Intermediate Level</td>\n",
       "      <td>2.0</td>\n",
       "      <td>2016-12-13 14:57:18</td>\n",
       "      <td>Business Finance</td>\n",
       "      <td>2016-12-13</td>\n",
       "    </tr>\n",
       "  </tbody>\n",
       "</table>\n",
       "</div>"
      ],
      "text/plain": [
       "   course_id                                       course_title  \\\n",
       "0    1070968                 Ultimate Investment Banking Course   \n",
       "1    1113822  Complete GST Course & Certification - Grow You...   \n",
       "2    1006314  Financial Modeling for Business Analysts and C...   \n",
       "3    1210588  Beginner to Pro - Financial Analysis in Excel ...   \n",
       "4    1011058       How To Maximize Your Profits Trading Options   \n",
       "\n",
       "                                                 url is_paid  price  \\\n",
       "0  https://www.udemy.com/ultimate-investment-bank...    True  200.0   \n",
       "1      https://www.udemy.com/goods-and-services-tax/    True   75.0   \n",
       "2  https://www.udemy.com/financial-modeling-for-b...    True   45.0   \n",
       "3  https://www.udemy.com/complete-excel-finance-c...    True   95.0   \n",
       "4  https://www.udemy.com/how-to-maximize-your-pro...    True  200.0   \n",
       "\n",
       "   num_subscribers  num_reviews  num_lectures               level  \\\n",
       "0             2147           23            51          All Levels   \n",
       "1             2792          923           274          All Levels   \n",
       "2             2174           74            51  Intermediate Level   \n",
       "3             2451           11            36          All Levels   \n",
       "4             1276           45            26  Intermediate Level   \n",
       "\n",
       "   content_duration published_timestamp           subject       date  \n",
       "0               1.5 2017-01-18 20:58:58  Business Finance 2017-01-18  \n",
       "1              39.0 2017-03-09 16:34:20  Business Finance 2017-03-09  \n",
       "2               2.5 2016-12-19 19:26:30  Business Finance 2016-12-19  \n",
       "3               3.0 2017-05-30 20:07:24  Business Finance 2017-05-30  \n",
       "4               2.0 2016-12-13 14:57:18  Business Finance 2016-12-13  "
      ]
     },
     "execution_count": 140,
     "metadata": {},
     "output_type": "execute_result"
    }
   ],
   "source": [
    "data.head()"
   ]
  },
  {
   "cell_type": "code",
   "execution_count": 141,
   "metadata": {},
   "outputs": [
    {
     "name": "stdout",
     "output_type": "stream",
     "text": [
      "<class 'pandas.core.frame.DataFrame'>\n",
      "Int64Index: 3351 entries, 0 to 3682\n",
      "Data columns (total 13 columns):\n",
      "course_id              3351 non-null int64\n",
      "course_title           3351 non-null object\n",
      "url                    3351 non-null object\n",
      "is_paid                3351 non-null object\n",
      "price                  3351 non-null float64\n",
      "num_subscribers        3351 non-null int64\n",
      "num_reviews            3351 non-null int64\n",
      "num_lectures           3351 non-null int64\n",
      "level                  3351 non-null object\n",
      "content_duration       3351 non-null float64\n",
      "published_timestamp    3351 non-null datetime64[ns]\n",
      "subject                3351 non-null object\n",
      "date                   3351 non-null datetime64[ns]\n",
      "dtypes: datetime64[ns](2), float64(2), int64(4), object(5)\n",
      "memory usage: 526.5+ KB\n"
     ]
    }
   ],
   "source": [
    "data.info()"
   ]
  },
  {
   "cell_type": "markdown",
   "metadata": {},
   "source": [
    "## Agora que limpamos os dados vamos visualizar os dados"
   ]
  },
  {
   "cell_type": "code",
   "execution_count": 142,
   "metadata": {},
   "outputs": [
    {
     "name": "stdout",
     "output_type": "stream",
     "text": [
      "There are 5 categorical variables\n",
      "\n",
      "The categorical variables are :\n",
      "\n",
      " ['course_title', 'url', 'is_paid', 'level', 'subject']\n"
     ]
    }
   ],
   "source": [
    "# Vamos explorar os dados categóricos\n",
    "categorical = [var for var in data.columns if data[var].dtype=='O']\n",
    "\n",
    "print('There are {} categorical variables\\n'.format(len(categorical)))\n",
    "\n",
    "print('The categorical variables are :\\n\\n', categorical)\n"
   ]
  },
  {
   "cell_type": "code",
   "execution_count": 144,
   "metadata": {},
   "outputs": [
    {
     "data": {
      "text/plain": [
       "(array(['True', 'False', 'TRUE', 'FALSE'], dtype=object),\n",
       " array(['All Levels', 'Intermediate Level', 'Beginner Level',\n",
       "        'Expert Level'], dtype=object),\n",
       " array(['Business Finance', 'Graphic Design', 'Musical Instruments',\n",
       "        'Web Development'], dtype=object))"
      ]
     },
     "execution_count": 144,
     "metadata": {},
     "output_type": "execute_result"
    }
   ],
   "source": [
    "data['is_paid'].unique(), data['level'].unique(), data['subject'].unique()"
   ]
  },
  {
   "cell_type": "markdown",
   "metadata": {},
   "source": [
    "## Nos conseguimos ver que temos dados em maiusculo e outros em minúsculo, temos que transforma-los td em uma forma"
   ]
  },
  {
   "cell_type": "code",
   "execution_count": 145,
   "metadata": {},
   "outputs": [],
   "source": [
    "## usando funçao replace\n",
    "data['is_paid'] = data['is_paid'].replace({'TRUE': 'True', 'FALSE':'False'})"
   ]
  },
  {
   "cell_type": "code",
   "execution_count": 146,
   "metadata": {},
   "outputs": [
    {
     "data": {
      "text/plain": [
       "array(['True', 'False'], dtype=object)"
      ]
     },
     "execution_count": 146,
     "metadata": {},
     "output_type": "execute_result"
    }
   ],
   "source": [
    "data['is_paid'].unique()"
   ]
  },
  {
   "cell_type": "markdown",
   "metadata": {},
   "source": [
    "## Now that we finally changed this erros lets now plot some views"
   ]
  },
  {
   "cell_type": "code",
   "execution_count": 147,
   "metadata": {},
   "outputs": [
    {
     "name": "stdout",
     "output_type": "stream",
     "text": [
      "Creating an animated greeting card via Google Slides           0.000895\n",
      "Acoustic Blues Guitar Lessons                                  0.000895\n",
      "Drum Lessons For Beginners                                     0.000597\n",
      "Understanding Financial Statements                             0.000597\n",
      "Introduction to Forex Trading Business For Beginners           0.000597\n",
      "                                                                 ...   \n",
      "Bootstrap Essential Training - Create Your Very Own Website    0.000298\n",
      "Hedge Fund Trading System                                      0.000298\n",
      "JQuery Essentials core training for Dynamic Interactive web    0.000298\n",
      "Build Powerful Websites & Blogs using WordPress - No Coding    0.000298\n",
      "The Complete PHP CodeIgniter Course: Beginner To Advanced      0.000298\n",
      "Name: course_title, Length: 3339, dtype: float64\n",
      "https://www.udemy.com/build-beautiful-html5-website/                           0.000597\n",
      "https://www.udemy.com/understanding-financial-statements/                      0.000597\n",
      "https://www.udemy.com/cfa-level-2-quantitative-methods/                        0.000597\n",
      "https://www.udemy.com/introduction-to-forex-trading-business-for-beginners/    0.000597\n",
      "https://www.udemy.com/what-you-can-learn-before-piano-lessons/                 0.000298\n",
      "                                                                                 ...   \n",
      "https://www.udemy.com/backbonejs-tutorial/                                     0.000298\n",
      "https://www.udemy.com/learn-to-create-deliverable-brand-identity-package/      0.000298\n",
      "https://www.udemy.com/learn-wordpress-from-scratch-and-create-websites/        0.000298\n",
      "https://www.udemy.com/photoshop-s/                                             0.000298\n",
      "https://www.udemy.com/futures-options/                                         0.000298\n",
      "Name: url, Length: 3347, dtype: float64\n",
      "True     0.923306\n",
      "False    0.076694\n",
      "Name: is_paid, dtype: float64\n",
      "All Levels            0.528797\n",
      "Beginner Level        0.340197\n",
      "Intermediate Level    0.114891\n",
      "Expert Level          0.016115\n",
      "Name: level, dtype: float64\n",
      "Web Development        0.335422\n",
      "Business Finance       0.327067\n",
      "Musical Instruments    0.181438\n",
      "Graphic Design         0.156073\n",
      "Name: subject, dtype: float64\n"
     ]
    }
   ],
   "source": [
    "# so we have 3 categorical data, we can explore these data here\n",
    "# view the frequency \n",
    "for var in categorical:\n",
    "    print(data[var].value_counts()/np.float(len(data)))"
   ]
  },
  {
   "cell_type": "markdown",
   "metadata": {},
   "source": [
    "##  Lets visualize some data"
   ]
  },
  {
   "cell_type": "code",
   "execution_count": 150,
   "metadata": {},
   "outputs": [
    {
     "data": {
      "text/plain": [
       "Text(0.5, 0, 'Paid')"
      ]
     },
     "execution_count": 150,
     "metadata": {},
     "output_type": "execute_result"
    },
    {
     "data": {
      "image/png": "[encoded data removed]",
      "text/plain": [
       "<Figure size 720x576 with 1 Axes>"
      ]
     },
     "metadata": {
      "needs_background": "light"
     },
     "output_type": "display_data"
    }
   ],
   "source": [
    "ax = data['is_paid'].value_counts().plot(kind ='bar',\n",
    "                                        figsize = (10,8))\n",
    "\n",
    "ax.set_title('Almost every course in udemy is paid', fontsize = 22)\n",
    "ax.set_ylabel('Amount of courses', fontsize = 20)\n",
    "ax.set_xlabel('Paid', fontsize = 20)"
   ]
  },
  {
   "cell_type": "code",
   "execution_count": 163,
   "metadata": {},
   "outputs": [
    {
     "data": {
      "text/plain": [
       "Text(0.5, 0, 'Courses')"
      ]
     },
     "execution_count": 163,
     "metadata": {},
     "output_type": "execute_result"
    },
    {
     "data": {
      "image/png": "[encoded data removed]",
      "text/plain": [
       "<Figure size 720x576 with 1 Axes>"
      ]
     },
     "metadata": {
      "needs_background": "light"
     },
     "output_type": "display_data"
    }
   ],
   "source": [
    "ax = data['subject'].value_counts().plot(kind ='bar',\n",
    "                                        figsize = (10,8),\n",
    "                                        color = 'g',\n",
    "                                        width = 0.6,\n",
    "                                        alpha = 0.6)\n",
    "\n",
    "ax.set_title('Huge focus on web development and Business', fontsize = 22)\n",
    "ax.set_ylabel('Amount of courses', fontsize = 20)\n",
    "ax.set_xlabel('Courses', fontsize = 20)"
   ]
  },
  {
   "cell_type": "code",
   "execution_count": 164,
   "metadata": {},
   "outputs": [
    {
     "data": {
      "text/plain": [
       "Text(0.5, 0, 'Levels')"
      ]
     },
     "execution_count": 164,
     "metadata": {},
     "output_type": "execute_result"
    },
    {
     "data": {
      "image/png": "[encoded data removed]",
      "text/plain": [
       "<Figure size 720x576 with 1 Axes>"
      ]
     },
     "metadata": {
      "needs_background": "light"
     },
     "output_type": "display_data"
    }
   ],
   "source": [
    "ax = data['level'].value_counts().plot(kind ='bar',\n",
    "                                        figsize = (10,8),\n",
    "                                      width = 0.8,\n",
    "                                      alpha= 0.7)\n",
    "\n",
    "ax.set_title('Designed for everybody!', fontsize = 22)\n",
    "ax.set_ylabel('Amount of courses', fontsize = 20)\n",
    "ax.set_xlabel('Levels', fontsize = 20)"
   ]
  },
  {
   "cell_type": "markdown",
   "metadata": {},
   "source": [
    "## Understanding how is the levels and subjects are divided in the dataset"
   ]
  },
  {
   "cell_type": "code",
   "execution_count": 171,
   "metadata": {},
   "outputs": [],
   "source": [
    "grouped = data.groupby(['level','subject'])"
   ]
  },
  {
   "cell_type": "code",
   "execution_count": 172,
   "metadata": {},
   "outputs": [],
   "source": [
    "grouped_pct = grouped['course_id']"
   ]
  },
  {
   "cell_type": "code",
   "execution_count": 184,
   "metadata": {},
   "outputs": [
    {
     "data": {
      "text/html": [
       "<div>\n",
       "<style scoped>\n",
       "    .dataframe tbody tr th:only-of-type {\n",
       "        vertical-align: middle;\n",
       "    }\n",
       "\n",
       "    .dataframe tbody tr th {\n",
       "        vertical-align: top;\n",
       "    }\n",
       "\n",
       "    .dataframe thead th {\n",
       "        text-align: right;\n",
       "    }\n",
       "</style>\n",
       "<table border=\"1\" class=\"dataframe\">\n",
       "  <thead>\n",
       "    <tr style=\"text-align: right;\">\n",
       "      <th></th>\n",
       "      <th></th>\n",
       "      <th>count</th>\n",
       "      <th>mean</th>\n",
       "      <th>std</th>\n",
       "      <th>min</th>\n",
       "      <th>25%</th>\n",
       "      <th>50%</th>\n",
       "      <th>75%</th>\n",
       "      <th>max</th>\n",
       "    </tr>\n",
       "    <tr>\n",
       "      <th>level</th>\n",
       "      <th>subject</th>\n",
       "      <th></th>\n",
       "      <th></th>\n",
       "      <th></th>\n",
       "      <th></th>\n",
       "      <th></th>\n",
       "      <th></th>\n",
       "      <th></th>\n",
       "      <th></th>\n",
       "    </tr>\n",
       "  </thead>\n",
       "  <tbody>\n",
       "    <tr>\n",
       "      <td rowspan=\"4\" valign=\"top\">All Levels</td>\n",
       "      <td>Business Finance</td>\n",
       "      <td>646.0</td>\n",
       "      <td>6.132193e+05</td>\n",
       "      <td>329644.995549</td>\n",
       "      <td>20185.0</td>\n",
       "      <td>358775.5</td>\n",
       "      <td>593711.0</td>\n",
       "      <td>867407.5</td>\n",
       "      <td>1276364.0</td>\n",
       "    </tr>\n",
       "    <tr>\n",
       "      <td>Graphic Design</td>\n",
       "      <td>264.0</td>\n",
       "      <td>6.635699e+05</td>\n",
       "      <td>358546.765585</td>\n",
       "      <td>15467.0</td>\n",
       "      <td>399440.0</td>\n",
       "      <td>628613.0</td>\n",
       "      <td>962382.5</td>\n",
       "      <td>1275872.0</td>\n",
       "    </tr>\n",
       "    <tr>\n",
       "      <td>Musical Instruments</td>\n",
       "      <td>244.0</td>\n",
       "      <td>6.198327e+05</td>\n",
       "      <td>353114.659857</td>\n",
       "      <td>12214.0</td>\n",
       "      <td>234170.0</td>\n",
       "      <td>656941.0</td>\n",
       "      <td>923562.0</td>\n",
       "      <td>1261210.0</td>\n",
       "    </tr>\n",
       "    <tr>\n",
       "      <td>Web Development</td>\n",
       "      <td>618.0</td>\n",
       "      <td>6.662010e+05</td>\n",
       "      <td>323797.209409</td>\n",
       "      <td>8324.0</td>\n",
       "      <td>433031.5</td>\n",
       "      <td>677348.0</td>\n",
       "      <td>928976.5</td>\n",
       "      <td>1277924.0</td>\n",
       "    </tr>\n",
       "    <tr>\n",
       "      <td rowspan=\"4\" valign=\"top\">Beginner Level</td>\n",
       "      <td>Business Finance</td>\n",
       "      <td>307.0</td>\n",
       "      <td>6.651997e+05</td>\n",
       "      <td>362950.118138</td>\n",
       "      <td>19653.0</td>\n",
       "      <td>361665.0</td>\n",
       "      <td>688244.0</td>\n",
       "      <td>955295.0</td>\n",
       "      <td>1282064.0</td>\n",
       "    </tr>\n",
       "    <tr>\n",
       "      <td>Graphic Design</td>\n",
       "      <td>209.0</td>\n",
       "      <td>7.556473e+05</td>\n",
       "      <td>328631.885940</td>\n",
       "      <td>37821.0</td>\n",
       "      <td>518188.0</td>\n",
       "      <td>766320.0</td>\n",
       "      <td>1046722.0</td>\n",
       "      <td>1276020.0</td>\n",
       "    </tr>\n",
       "    <tr>\n",
       "      <td>Musical Instruments</td>\n",
       "      <td>263.0</td>\n",
       "      <td>6.347744e+05</td>\n",
       "      <td>331723.497354</td>\n",
       "      <td>19421.0</td>\n",
       "      <td>392475.0</td>\n",
       "      <td>644820.0</td>\n",
       "      <td>840567.0</td>\n",
       "      <td>1266892.0</td>\n",
       "    </tr>\n",
       "    <tr>\n",
       "      <td>Web Development</td>\n",
       "      <td>361.0</td>\n",
       "      <td>7.258280e+05</td>\n",
       "      <td>347723.609645</td>\n",
       "      <td>12975.0</td>\n",
       "      <td>482834.0</td>\n",
       "      <td>778226.0</td>\n",
       "      <td>1013380.0</td>\n",
       "      <td>1274210.0</td>\n",
       "    </tr>\n",
       "    <tr>\n",
       "      <td rowspan=\"4\" valign=\"top\">Expert Level</td>\n",
       "      <td>Business Finance</td>\n",
       "      <td>27.0</td>\n",
       "      <td>5.496390e+05</td>\n",
       "      <td>411551.681290</td>\n",
       "      <td>42640.0</td>\n",
       "      <td>133504.0</td>\n",
       "      <td>476268.0</td>\n",
       "      <td>876550.0</td>\n",
       "      <td>1275790.0</td>\n",
       "    </tr>\n",
       "    <tr>\n",
       "      <td>Graphic Design</td>\n",
       "      <td>5.0</td>\n",
       "      <td>1.165032e+06</td>\n",
       "      <td>127759.626818</td>\n",
       "      <td>981684.0</td>\n",
       "      <td>1080584.0</td>\n",
       "      <td>1242692.0</td>\n",
       "      <td>1245356.0</td>\n",
       "      <td>1274846.0</td>\n",
       "    </tr>\n",
       "    <tr>\n",
       "      <td>Musical Instruments</td>\n",
       "      <td>7.0</td>\n",
       "      <td>5.745406e+05</td>\n",
       "      <td>466927.509664</td>\n",
       "      <td>90132.0</td>\n",
       "      <td>101502.0</td>\n",
       "      <td>681692.0</td>\n",
       "      <td>950334.0</td>\n",
       "      <td>1146288.0</td>\n",
       "    </tr>\n",
       "    <tr>\n",
       "      <td>Web Development</td>\n",
       "      <td>15.0</td>\n",
       "      <td>8.068921e+05</td>\n",
       "      <td>353105.328939</td>\n",
       "      <td>212394.0</td>\n",
       "      <td>601739.0</td>\n",
       "      <td>708514.0</td>\n",
       "      <td>1125082.0</td>\n",
       "      <td>1270222.0</td>\n",
       "    </tr>\n",
       "    <tr>\n",
       "      <td rowspan=\"4\" valign=\"top\">Intermediate Level</td>\n",
       "      <td>Business Finance</td>\n",
       "      <td>116.0</td>\n",
       "      <td>6.825059e+05</td>\n",
       "      <td>388797.243126</td>\n",
       "      <td>24815.0</td>\n",
       "      <td>363073.0</td>\n",
       "      <td>703076.0</td>\n",
       "      <td>1013352.0</td>\n",
       "      <td>1276182.0</td>\n",
       "    </tr>\n",
       "    <tr>\n",
       "      <td>Graphic Design</td>\n",
       "      <td>45.0</td>\n",
       "      <td>7.585859e+05</td>\n",
       "      <td>339020.581807</td>\n",
       "      <td>117004.0</td>\n",
       "      <td>553832.0</td>\n",
       "      <td>742392.0</td>\n",
       "      <td>1076222.0</td>\n",
       "      <td>1266468.0</td>\n",
       "    </tr>\n",
       "    <tr>\n",
       "      <td>Musical Instruments</td>\n",
       "      <td>94.0</td>\n",
       "      <td>6.346808e+05</td>\n",
       "      <td>360903.760327</td>\n",
       "      <td>64585.0</td>\n",
       "      <td>232508.0</td>\n",
       "      <td>743654.0</td>\n",
       "      <td>923922.0</td>\n",
       "      <td>1253224.0</td>\n",
       "    </tr>\n",
       "    <tr>\n",
       "      <td>Web Development</td>\n",
       "      <td>130.0</td>\n",
       "      <td>7.872056e+05</td>\n",
       "      <td>312152.402198</td>\n",
       "      <td>17887.0</td>\n",
       "      <td>569460.0</td>\n",
       "      <td>867916.0</td>\n",
       "      <td>1008122.5</td>\n",
       "      <td>1256136.0</td>\n",
       "    </tr>\n",
       "  </tbody>\n",
       "</table>\n",
       "</div>"
      ],
      "text/plain": [
       "                                        count          mean            std  \\\n",
       "level              subject                                                   \n",
       "All Levels         Business Finance     646.0  6.132193e+05  329644.995549   \n",
       "                   Graphic Design       264.0  6.635699e+05  358546.765585   \n",
       "                   Musical Instruments  244.0  6.198327e+05  353114.659857   \n",
       "                   Web Development      618.0  6.662010e+05  323797.209409   \n",
       "Beginner Level     Business Finance     307.0  6.651997e+05  362950.118138   \n",
       "                   Graphic Design       209.0  7.556473e+05  328631.885940   \n",
       "                   Musical Instruments  263.0  6.347744e+05  331723.497354   \n",
       "                   Web Development      361.0  7.258280e+05  347723.609645   \n",
       "Expert Level       Business Finance      27.0  5.496390e+05  411551.681290   \n",
       "                   Graphic Design         5.0  1.165032e+06  127759.626818   \n",
       "                   Musical Instruments    7.0  5.745406e+05  466927.509664   \n",
       "                   Web Development       15.0  8.068921e+05  353105.328939   \n",
       "Intermediate Level Business Finance     116.0  6.825059e+05  388797.243126   \n",
       "                   Graphic Design        45.0  7.585859e+05  339020.581807   \n",
       "                   Musical Instruments   94.0  6.346808e+05  360903.760327   \n",
       "                   Web Development      130.0  7.872056e+05  312152.402198   \n",
       "\n",
       "                                             min        25%        50%  \\\n",
       "level              subject                                               \n",
       "All Levels         Business Finance      20185.0   358775.5   593711.0   \n",
       "                   Graphic Design        15467.0   399440.0   628613.0   \n",
       "                   Musical Instruments   12214.0   234170.0   656941.0   \n",
       "                   Web Development        8324.0   433031.5   677348.0   \n",
       "Beginner Level     Business Finance      19653.0   361665.0   688244.0   \n",
       "                   Graphic Design        37821.0   518188.0   766320.0   \n",
       "                   Musical Instruments   19421.0   392475.0   644820.0   \n",
       "                   Web Development       12975.0   482834.0   778226.0   \n",
       "Expert Level       Business Finance      42640.0   133504.0   476268.0   \n",
       "                   Graphic Design       981684.0  1080584.0  1242692.0   \n",
       "                   Musical Instruments   90132.0   101502.0   681692.0   \n",
       "                   Web Development      212394.0   601739.0   708514.0   \n",
       "Intermediate Level Business Finance      24815.0   363073.0   703076.0   \n",
       "                   Graphic Design       117004.0   553832.0   742392.0   \n",
       "                   Musical Instruments   64585.0   232508.0   743654.0   \n",
       "                   Web Development       17887.0   569460.0   867916.0   \n",
       "\n",
       "                                              75%        max  \n",
       "level              subject                                    \n",
       "All Levels         Business Finance      867407.5  1276364.0  \n",
       "                   Graphic Design        962382.5  1275872.0  \n",
       "                   Musical Instruments   923562.0  1261210.0  \n",
       "                   Web Development       928976.5  1277924.0  \n",
       "Beginner Level     Business Finance      955295.0  1282064.0  \n",
       "                   Graphic Design       1046722.0  1276020.0  \n",
       "                   Musical Instruments   840567.0  1266892.0  \n",
       "                   Web Development      1013380.0  1274210.0  \n",
       "Expert Level       Business Finance      876550.0  1275790.0  \n",
       "                   Graphic Design       1245356.0  1274846.0  \n",
       "                   Musical Instruments   950334.0  1146288.0  \n",
       "                   Web Development      1125082.0  1270222.0  \n",
       "Intermediate Level Business Finance     1013352.0  1276182.0  \n",
       "                   Graphic Design       1076222.0  1266468.0  \n",
       "                   Musical Instruments   923922.0  1253224.0  \n",
       "                   Web Development      1008122.5  1256136.0  "
      ]
     },
     "execution_count": 184,
     "metadata": {},
     "output_type": "execute_result"
    }
   ],
   "source": [
    "grouped_pct.agg('describe')"
   ]
  },
  {
   "cell_type": "markdown",
   "metadata": {},
   "source": [
    "## Legal, ao observar este codigo é possível observar que dentre os assuntos de cursos dentre todos os leveis, business finance e web development são os mais criados"
   ]
  },
  {
   "cell_type": "markdown",
   "metadata": {},
   "source": [
    "## Vamos explorar agora os dados numericos "
   ]
  },
  {
   "cell_type": "code",
   "execution_count": 185,
   "metadata": {},
   "outputs": [
    {
     "name": "stdout",
     "output_type": "stream",
     "text": [
      "There are 8 numerical variables\n",
      "\n",
      "The numerical variables are : ['course_id', 'price', 'num_subscribers', 'num_reviews', 'num_lectures', 'content_duration', 'published_timestamp', 'date']\n"
     ]
    }
   ],
   "source": [
    "# now we are going to explore numerical data.\n",
    "numerical = [var for var in data.columns if data[var].dtype!='O']\n",
    "\n",
    "print('There are {} numerical variables\\n'.format(len(numerical)))\n",
    "\n",
    "print('The numerical variables are :', numerical)"
   ]
  },
  {
   "cell_type": "code",
   "execution_count": 189,
   "metadata": {},
   "outputs": [
    {
     "data": {
      "text/html": [
       "<div>\n",
       "<style scoped>\n",
       "    .dataframe tbody tr th:only-of-type {\n",
       "        vertical-align: middle;\n",
       "    }\n",
       "\n",
       "    .dataframe tbody tr th {\n",
       "        vertical-align: top;\n",
       "    }\n",
       "\n",
       "    .dataframe thead th {\n",
       "        text-align: right;\n",
       "    }\n",
       "</style>\n",
       "<table border=\"1\" class=\"dataframe\">\n",
       "  <thead>\n",
       "    <tr style=\"text-align: right;\">\n",
       "      <th></th>\n",
       "      <th>course_id</th>\n",
       "      <th>price</th>\n",
       "      <th>num_subscribers</th>\n",
       "      <th>num_reviews</th>\n",
       "      <th>num_lectures</th>\n",
       "      <th>content_duration</th>\n",
       "    </tr>\n",
       "  </thead>\n",
       "  <tbody>\n",
       "    <tr>\n",
       "      <td>course_id</td>\n",
       "      <td>1.0000</td>\n",
       "      <td>0.1590</td>\n",
       "      <td>-0.1665</td>\n",
       "      <td>-0.0570</td>\n",
       "      <td>-0.0105</td>\n",
       "      <td>-0.0459</td>\n",
       "    </tr>\n",
       "    <tr>\n",
       "      <td>price</td>\n",
       "      <td>0.1590</td>\n",
       "      <td>1.0000</td>\n",
       "      <td>0.0478</td>\n",
       "      <td>0.1138</td>\n",
       "      <td>0.3180</td>\n",
       "      <td>0.2797</td>\n",
       "    </tr>\n",
       "    <tr>\n",
       "      <td>num_subscribers</td>\n",
       "      <td>-0.1665</td>\n",
       "      <td>0.0478</td>\n",
       "      <td>1.0000</td>\n",
       "      <td>0.6500</td>\n",
       "      <td>0.1516</td>\n",
       "      <td>0.1554</td>\n",
       "    </tr>\n",
       "    <tr>\n",
       "      <td>num_reviews</td>\n",
       "      <td>-0.0570</td>\n",
       "      <td>0.1138</td>\n",
       "      <td>0.6500</td>\n",
       "      <td>1.0000</td>\n",
       "      <td>0.2412</td>\n",
       "      <td>0.2264</td>\n",
       "    </tr>\n",
       "    <tr>\n",
       "      <td>num_lectures</td>\n",
       "      <td>-0.0105</td>\n",
       "      <td>0.3180</td>\n",
       "      <td>0.1516</td>\n",
       "      <td>0.2412</td>\n",
       "      <td>1.0000</td>\n",
       "      <td>0.7960</td>\n",
       "    </tr>\n",
       "    <tr>\n",
       "      <td>content_duration</td>\n",
       "      <td>-0.0459</td>\n",
       "      <td>0.2797</td>\n",
       "      <td>0.1554</td>\n",
       "      <td>0.2264</td>\n",
       "      <td>0.7960</td>\n",
       "      <td>1.0000</td>\n",
       "    </tr>\n",
       "  </tbody>\n",
       "</table>\n",
       "</div>"
      ],
      "text/plain": [
       "                  course_id   price  num_subscribers  num_reviews  \\\n",
       "course_id            1.0000  0.1590          -0.1665      -0.0570   \n",
       "price                0.1590  1.0000           0.0478       0.1138   \n",
       "num_subscribers     -0.1665  0.0478           1.0000       0.6500   \n",
       "num_reviews         -0.0570  0.1138           0.6500       1.0000   \n",
       "num_lectures        -0.0105  0.3180           0.1516       0.2412   \n",
       "content_duration    -0.0459  0.2797           0.1554       0.2264   \n",
       "\n",
       "                  num_lectures  content_duration  \n",
       "course_id              -0.0105           -0.0459  \n",
       "price                   0.3180            0.2797  \n",
       "num_subscribers         0.1516            0.1554  \n",
       "num_reviews             0.2412            0.2264  \n",
       "num_lectures            1.0000            0.7960  \n",
       "content_duration        0.7960            1.0000  "
      ]
     },
     "execution_count": 189,
     "metadata": {},
     "output_type": "execute_result"
    }
   ],
   "source": [
    "data.corr().round(4)"
   ]
  },
  {
   "cell_type": "markdown",
   "metadata": {},
   "source": [
    "## Checando nossa variável dependente"
   ]
  },
  {
   "cell_type": "code",
   "execution_count": 200,
   "metadata": {},
   "outputs": [
    {
     "data": {
      "text/plain": [
       "Text(0.5, 1.0, 'Preço dos cursos')"
      ]
     },
     "execution_count": 200,
     "metadata": {},
     "output_type": "execute_result"
    },
    {
     "data": {
      "image/png": "[encoded data removed]",
      "text/plain": [
       "<Figure size 864x432 with 1 Axes>"
      ]
     },
     "metadata": {
      "needs_background": "light"
     },
     "output_type": "display_data"
    }
   ],
   "source": [
    "ax = sns.boxplot(data['price'], orient = 'v', width = 0.3)\n",
    "ax.figure.set_size_inches(12,6)\n",
    "ax.set_ylabel('Preço', fontsize = 20)\n",
    "ax.set_title('Preço dos cursos', fontsize  = 24)"
   ]
  },
  {
   "cell_type": "markdown",
   "metadata": {},
   "source": [
    "## Não parece uma curva normal "
   ]
  },
  {
   "cell_type": "code",
   "execution_count": 205,
   "metadata": {},
   "outputs": [
    {
     "data": {
      "text/plain": [
       "Text(0.5, 1.0, 'Distribuição dos preços do números')"
      ]
     },
     "execution_count": 205,
     "metadata": {},
     "output_type": "execute_result"
    },
    {
     "data": {
      "image/png": "[encoded data removed]",
      "text/plain": [
       "<Figure size 864x432 with 1 Axes>"
      ]
     },
     "metadata": {
      "needs_background": "light"
     },
     "output_type": "display_data"
    }
   ],
   "source": [
    "ax = sns.distplot(data['price'])\n",
    "ax.figure.set_size_inches(12,6)\n",
    "ax.set_xlabel('Preços dos cursos')\n",
    "ax.set_title('Distribuição dos preços do números', fontsize = 22)"
   ]
  },
  {
   "cell_type": "markdown",
   "metadata": {},
   "source": [
    "## Verificando o box plot do preço com outras variáveis"
   ]
  },
  {
   "cell_type": "code",
   "execution_count": 207,
   "metadata": {},
   "outputs": [
    {
     "data": {
      "text/plain": [
       "Text(0.5, 0, 'Level')"
      ]
     },
     "execution_count": 207,
     "metadata": {},
     "output_type": "execute_result"
    },
    {
     "data": {
      "image/png": "[encoded data removed]",
      "text/plain": [
       "<Figure size 864x432 with 1 Axes>"
      ]
     },
     "metadata": {
      "needs_background": "light"
     },
     "output_type": "display_data"
    }
   ],
   "source": [
    "ax = sns.boxplot(x = 'level',y = 'price', data = data, orient = 'v', width = 0.3)\n",
    "ax.figure.set_size_inches(12,6)\n",
    "ax.set_ylabel('Preço', fontsize = 20)\n",
    "ax.set_title('Preço dos cursos', fontsize  = 24)\n",
    "ax.set_xlabel('Level', fontsize= 20)"
   ]
  },
  {
   "cell_type": "code",
   "execution_count": 210,
   "metadata": {},
   "outputs": [
    {
     "data": {
      "text/plain": [
       "Text(0.5, 0, 'Subjects')"
      ]
     },
     "execution_count": 210,
     "metadata": {},
     "output_type": "execute_result"
    },
    {
     "data": {
      "image/png": "[encoded data removed]",
      "text/plain": [
       "<Figure size 864x432 with 1 Axes>"
      ]
     },
     "metadata": {
      "needs_background": "light"
     },
     "output_type": "display_data"
    }
   ],
   "source": [
    "ax = sns.boxplot(x = 'subject',y = 'price', data = data, orient = 'v', width = 0.3)\n",
    "ax.figure.set_size_inches(12,6)\n",
    "sns.set_palette('CMRmap')\n",
    "ax.set_ylabel('Preço', fontsize = 20)\n",
    "ax.set_title('Preço dos cursos', fontsize  = 24)\n",
    "ax.set_xlabel('Subjects', fontsize= 20)"
   ]
  },
  {
   "cell_type": "markdown",
   "metadata": {},
   "source": [
    "## Tanto no boxplot do assuntos e leveis temos uma assimetria pra direita bem forte"
   ]
  },
  {
   "cell_type": "code",
   "execution_count": 213,
   "metadata": {},
   "outputs": [
    {
     "data": {
      "text/plain": [
       "<seaborn.axisgrid.PairGrid at 0x21ee6089848>"
      ]
     },
     "execution_count": 213,
     "metadata": {},
     "output_type": "execute_result"
    },
    {
     "data": {
      "image/png": "[encoded data removed]",
      "text/plain": [
       "<Figure size 1440x360 with 4 Axes>"
      ]
     },
     "metadata": {
      "needs_background": "light"
     },
     "output_type": "display_data"
    }
   ],
   "source": [
    "ax = sns.pairplot(data, y_vars = 'price', x_vars = ['num_subscribers', 'num_reviews', 'num_lectures','content_duration'], height = 5, kind = 'reg')\n",
    "ax.fig.suptitle('Dispersão entre as Variáveis', fontsize=20, y=1.05)\n",
    "ax"
   ]
  },
  {
   "cell_type": "markdown",
   "metadata": {},
   "source": [
    "## Transformando os valores para logaritmo"
   ]
  },
  {
   "cell_type": "code",
   "execution_count": 214,
   "metadata": {},
   "outputs": [
    {
     "data": {
      "text/html": [
       "<div>\n",
       "<style scoped>\n",
       "    .dataframe tbody tr th:only-of-type {\n",
       "        vertical-align: middle;\n",
       "    }\n",
       "\n",
       "    .dataframe tbody tr th {\n",
       "        vertical-align: top;\n",
       "    }\n",
       "\n",
       "    .dataframe thead th {\n",
       "        text-align: right;\n",
       "    }\n",
       "</style>\n",
       "<table border=\"1\" class=\"dataframe\">\n",
       "  <thead>\n",
       "    <tr style=\"text-align: right;\">\n",
       "      <th></th>\n",
       "      <th>course_id</th>\n",
       "      <th>price</th>\n",
       "      <th>num_subscribers</th>\n",
       "      <th>num_reviews</th>\n",
       "      <th>num_lectures</th>\n",
       "      <th>content_duration</th>\n",
       "    </tr>\n",
       "  </thead>\n",
       "  <tbody>\n",
       "    <tr>\n",
       "      <td>count</td>\n",
       "      <td>3.351000e+03</td>\n",
       "      <td>3351.000000</td>\n",
       "      <td>3351.000000</td>\n",
       "      <td>3351.000000</td>\n",
       "      <td>3351.000000</td>\n",
       "      <td>3351.000000</td>\n",
       "    </tr>\n",
       "    <tr>\n",
       "      <td>mean</td>\n",
       "      <td>6.677064e+05</td>\n",
       "      <td>68.934646</td>\n",
       "      <td>3361.252164</td>\n",
       "      <td>166.861534</td>\n",
       "      <td>42.899731</td>\n",
       "      <td>4.434646</td>\n",
       "    </tr>\n",
       "    <tr>\n",
       "      <td>std</td>\n",
       "      <td>3.449397e+05</td>\n",
       "      <td>61.854419</td>\n",
       "      <td>9891.266437</td>\n",
       "      <td>978.439416</td>\n",
       "      <td>51.891179</td>\n",
       "      <td>6.238917</td>\n",
       "    </tr>\n",
       "    <tr>\n",
       "      <td>min</td>\n",
       "      <td>8.324000e+03</td>\n",
       "      <td>0.000000</td>\n",
       "      <td>0.000000</td>\n",
       "      <td>0.000000</td>\n",
       "      <td>5.000000</td>\n",
       "      <td>1.000000</td>\n",
       "    </tr>\n",
       "    <tr>\n",
       "      <td>25%</td>\n",
       "      <td>3.986600e+05</td>\n",
       "      <td>20.000000</td>\n",
       "      <td>119.000000</td>\n",
       "      <td>5.000000</td>\n",
       "      <td>17.000000</td>\n",
       "      <td>1.500000</td>\n",
       "    </tr>\n",
       "    <tr>\n",
       "      <td>50%</td>\n",
       "      <td>6.746080e+05</td>\n",
       "      <td>50.000000</td>\n",
       "      <td>944.000000</td>\n",
       "      <td>19.000000</td>\n",
       "      <td>27.000000</td>\n",
       "      <td>2.500000</td>\n",
       "    </tr>\n",
       "    <tr>\n",
       "      <td>75%</td>\n",
       "      <td>9.534660e+05</td>\n",
       "      <td>95.000000</td>\n",
       "      <td>2671.000000</td>\n",
       "      <td>72.000000</td>\n",
       "      <td>49.000000</td>\n",
       "      <td>5.000000</td>\n",
       "    </tr>\n",
       "    <tr>\n",
       "      <td>max</td>\n",
       "      <td>1.282064e+06</td>\n",
       "      <td>200.000000</td>\n",
       "      <td>268923.000000</td>\n",
       "      <td>27445.000000</td>\n",
       "      <td>779.000000</td>\n",
       "      <td>78.500000</td>\n",
       "    </tr>\n",
       "  </tbody>\n",
       "</table>\n",
       "</div>"
      ],
      "text/plain": [
       "          course_id        price  num_subscribers   num_reviews  num_lectures  \\\n",
       "count  3.351000e+03  3351.000000      3351.000000   3351.000000   3351.000000   \n",
       "mean   6.677064e+05    68.934646      3361.252164    166.861534     42.899731   \n",
       "std    3.449397e+05    61.854419      9891.266437    978.439416     51.891179   \n",
       "min    8.324000e+03     0.000000         0.000000      0.000000      5.000000   \n",
       "25%    3.986600e+05    20.000000       119.000000      5.000000     17.000000   \n",
       "50%    6.746080e+05    50.000000       944.000000     19.000000     27.000000   \n",
       "75%    9.534660e+05    95.000000      2671.000000     72.000000     49.000000   \n",
       "max    1.282064e+06   200.000000    268923.000000  27445.000000    779.000000   \n",
       "\n",
       "       content_duration  \n",
       "count       3351.000000  \n",
       "mean           4.434646  \n",
       "std            6.238917  \n",
       "min            1.000000  \n",
       "25%            1.500000  \n",
       "50%            2.500000  \n",
       "75%            5.000000  \n",
       "max           78.500000  "
      ]
     },
     "execution_count": 214,
     "metadata": {},
     "output_type": "execute_result"
    }
   ],
   "source": [
    "data.describe()"
   ]
  },
  {
   "cell_type": "code",
   "execution_count": 219,
   "metadata": {},
   "outputs": [],
   "source": [
    "# +1 pq os valor de dist praia e dist farmacia tem valores = 0 log(0) = - inf\n",
    "data['log_price'] = np.log(data['price']+1)\n",
    "data['log_num_subscribers'] = np.log(data['num_subscribers'])\n",
    "data['log_num_reviews'] = np.log(data['num_reviews'] + 1)\n",
    "data['log_num_lectures'] = np.log(data['num_lectures'])\n",
    "data['log_content_duration'] = np.log(data['content_duration'])"
   ]
  },
  {
   "cell_type": "code",
   "execution_count": 220,
   "metadata": {},
   "outputs": [
    {
     "data": {
      "text/html": [
       "<div>\n",
       "<style scoped>\n",
       "    .dataframe tbody tr th:only-of-type {\n",
       "        vertical-align: middle;\n",
       "    }\n",
       "\n",
       "    .dataframe tbody tr th {\n",
       "        vertical-align: top;\n",
       "    }\n",
       "\n",
       "    .dataframe thead th {\n",
       "        text-align: right;\n",
       "    }\n",
       "</style>\n",
       "<table border=\"1\" class=\"dataframe\">\n",
       "  <thead>\n",
       "    <tr style=\"text-align: right;\">\n",
       "      <th></th>\n",
       "      <th>course_id</th>\n",
       "      <th>course_title</th>\n",
       "      <th>url</th>\n",
       "      <th>is_paid</th>\n",
       "      <th>price</th>\n",
       "      <th>num_subscribers</th>\n",
       "      <th>num_reviews</th>\n",
       "      <th>num_lectures</th>\n",
       "      <th>level</th>\n",
       "      <th>content_duration</th>\n",
       "      <th>published_timestamp</th>\n",
       "      <th>subject</th>\n",
       "      <th>date</th>\n",
       "      <th>log_price</th>\n",
       "      <th>log_num_subscribers</th>\n",
       "      <th>log_num_reviews</th>\n",
       "      <th>log_num_lectures</th>\n",
       "      <th>log_content_duration</th>\n",
       "    </tr>\n",
       "  </thead>\n",
       "  <tbody>\n",
       "    <tr>\n",
       "      <td>0</td>\n",
       "      <td>1070968</td>\n",
       "      <td>Ultimate Investment Banking Course</td>\n",
       "      <td>https://www.udemy.com/ultimate-investment-bank...</td>\n",
       "      <td>True</td>\n",
       "      <td>200.0</td>\n",
       "      <td>2147</td>\n",
       "      <td>23</td>\n",
       "      <td>51</td>\n",
       "      <td>All Levels</td>\n",
       "      <td>1.5</td>\n",
       "      <td>2017-01-18 20:58:58</td>\n",
       "      <td>Business Finance</td>\n",
       "      <td>2017-01-18</td>\n",
       "      <td>5.303305</td>\n",
       "      <td>7.671827</td>\n",
       "      <td>3.178054</td>\n",
       "      <td>3.931826</td>\n",
       "      <td>0.405465</td>\n",
       "    </tr>\n",
       "    <tr>\n",
       "      <td>1</td>\n",
       "      <td>1113822</td>\n",
       "      <td>Complete GST Course &amp; Certification - Grow You...</td>\n",
       "      <td>https://www.udemy.com/goods-and-services-tax/</td>\n",
       "      <td>True</td>\n",
       "      <td>75.0</td>\n",
       "      <td>2792</td>\n",
       "      <td>923</td>\n",
       "      <td>274</td>\n",
       "      <td>All Levels</td>\n",
       "      <td>39.0</td>\n",
       "      <td>2017-03-09 16:34:20</td>\n",
       "      <td>Business Finance</td>\n",
       "      <td>2017-03-09</td>\n",
       "      <td>4.330733</td>\n",
       "      <td>7.934513</td>\n",
       "      <td>6.828712</td>\n",
       "      <td>5.613128</td>\n",
       "      <td>3.663562</td>\n",
       "    </tr>\n",
       "    <tr>\n",
       "      <td>2</td>\n",
       "      <td>1006314</td>\n",
       "      <td>Financial Modeling for Business Analysts and C...</td>\n",
       "      <td>https://www.udemy.com/financial-modeling-for-b...</td>\n",
       "      <td>True</td>\n",
       "      <td>45.0</td>\n",
       "      <td>2174</td>\n",
       "      <td>74</td>\n",
       "      <td>51</td>\n",
       "      <td>Intermediate Level</td>\n",
       "      <td>2.5</td>\n",
       "      <td>2016-12-19 19:26:30</td>\n",
       "      <td>Business Finance</td>\n",
       "      <td>2016-12-19</td>\n",
       "      <td>3.828641</td>\n",
       "      <td>7.684324</td>\n",
       "      <td>4.317488</td>\n",
       "      <td>3.931826</td>\n",
       "      <td>0.916291</td>\n",
       "    </tr>\n",
       "    <tr>\n",
       "      <td>3</td>\n",
       "      <td>1210588</td>\n",
       "      <td>Beginner to Pro - Financial Analysis in Excel ...</td>\n",
       "      <td>https://www.udemy.com/complete-excel-finance-c...</td>\n",
       "      <td>True</td>\n",
       "      <td>95.0</td>\n",
       "      <td>2451</td>\n",
       "      <td>11</td>\n",
       "      <td>36</td>\n",
       "      <td>All Levels</td>\n",
       "      <td>3.0</td>\n",
       "      <td>2017-05-30 20:07:24</td>\n",
       "      <td>Business Finance</td>\n",
       "      <td>2017-05-30</td>\n",
       "      <td>4.564348</td>\n",
       "      <td>7.804251</td>\n",
       "      <td>2.484907</td>\n",
       "      <td>3.583519</td>\n",
       "      <td>1.098612</td>\n",
       "    </tr>\n",
       "    <tr>\n",
       "      <td>4</td>\n",
       "      <td>1011058</td>\n",
       "      <td>How To Maximize Your Profits Trading Options</td>\n",
       "      <td>https://www.udemy.com/how-to-maximize-your-pro...</td>\n",
       "      <td>True</td>\n",
       "      <td>200.0</td>\n",
       "      <td>1276</td>\n",
       "      <td>45</td>\n",
       "      <td>26</td>\n",
       "      <td>Intermediate Level</td>\n",
       "      <td>2.0</td>\n",
       "      <td>2016-12-13 14:57:18</td>\n",
       "      <td>Business Finance</td>\n",
       "      <td>2016-12-13</td>\n",
       "      <td>5.303305</td>\n",
       "      <td>7.151485</td>\n",
       "      <td>3.828641</td>\n",
       "      <td>3.258097</td>\n",
       "      <td>0.693147</td>\n",
       "    </tr>\n",
       "  </tbody>\n",
       "</table>\n",
       "</div>"
      ],
      "text/plain": [
       "   course_id                                       course_title  \\\n",
       "0    1070968                 Ultimate Investment Banking Course   \n",
       "1    1113822  Complete GST Course & Certification - Grow You...   \n",
       "2    1006314  Financial Modeling for Business Analysts and C...   \n",
       "3    1210588  Beginner to Pro - Financial Analysis in Excel ...   \n",
       "4    1011058       How To Maximize Your Profits Trading Options   \n",
       "\n",
       "                                                 url is_paid  price  \\\n",
       "0  https://www.udemy.com/ultimate-investment-bank...    True  200.0   \n",
       "1      https://www.udemy.com/goods-and-services-tax/    True   75.0   \n",
       "2  https://www.udemy.com/financial-modeling-for-b...    True   45.0   \n",
       "3  https://www.udemy.com/complete-excel-finance-c...    True   95.0   \n",
       "4  https://www.udemy.com/how-to-maximize-your-pro...    True  200.0   \n",
       "\n",
       "   num_subscribers  num_reviews  num_lectures               level  \\\n",
       "0             2147           23            51          All Levels   \n",
       "1             2792          923           274          All Levels   \n",
       "2             2174           74            51  Intermediate Level   \n",
       "3             2451           11            36          All Levels   \n",
       "4             1276           45            26  Intermediate Level   \n",
       "\n",
       "   content_duration published_timestamp           subject       date  \\\n",
       "0               1.5 2017-01-18 20:58:58  Business Finance 2017-01-18   \n",
       "1              39.0 2017-03-09 16:34:20  Business Finance 2017-03-09   \n",
       "2               2.5 2016-12-19 19:26:30  Business Finance 2016-12-19   \n",
       "3               3.0 2017-05-30 20:07:24  Business Finance 2017-05-30   \n",
       "4               2.0 2016-12-13 14:57:18  Business Finance 2016-12-13   \n",
       "\n",
       "   log_price  log_num_subscribers  log_num_reviews  log_num_lectures  \\\n",
       "0   5.303305             7.671827         3.178054          3.931826   \n",
       "1   4.330733             7.934513         6.828712          5.613128   \n",
       "2   3.828641             7.684324         4.317488          3.931826   \n",
       "3   4.564348             7.804251         2.484907          3.583519   \n",
       "4   5.303305             7.151485         3.828641          3.258097   \n",
       "\n",
       "   log_content_duration  \n",
       "0              0.405465  \n",
       "1              3.663562  \n",
       "2              0.916291  \n",
       "3              1.098612  \n",
       "4              0.693147  "
      ]
     },
     "execution_count": 220,
     "metadata": {},
     "output_type": "execute_result"
    }
   ],
   "source": [
    "data.head()"
   ]
  },
  {
   "cell_type": "code",
   "execution_count": 226,
   "metadata": {},
   "outputs": [],
   "source": [
    "data_new = data[data['is_paid'] == 'True']"
   ]
  },
  {
   "cell_type": "code",
   "execution_count": 227,
   "metadata": {},
   "outputs": [
    {
     "data": {
      "text/html": [
       "<div>\n",
       "<style scoped>\n",
       "    .dataframe tbody tr th:only-of-type {\n",
       "        vertical-align: middle;\n",
       "    }\n",
       "\n",
       "    .dataframe tbody tr th {\n",
       "        vertical-align: top;\n",
       "    }\n",
       "\n",
       "    .dataframe thead th {\n",
       "        text-align: right;\n",
       "    }\n",
       "</style>\n",
       "<table border=\"1\" class=\"dataframe\">\n",
       "  <thead>\n",
       "    <tr style=\"text-align: right;\">\n",
       "      <th></th>\n",
       "      <th>course_id</th>\n",
       "      <th>course_title</th>\n",
       "      <th>url</th>\n",
       "      <th>is_paid</th>\n",
       "      <th>price</th>\n",
       "      <th>num_subscribers</th>\n",
       "      <th>num_reviews</th>\n",
       "      <th>num_lectures</th>\n",
       "      <th>level</th>\n",
       "      <th>content_duration</th>\n",
       "      <th>published_timestamp</th>\n",
       "      <th>subject</th>\n",
       "      <th>date</th>\n",
       "      <th>log_price</th>\n",
       "      <th>log_num_subscribers</th>\n",
       "      <th>log_num_reviews</th>\n",
       "      <th>log_num_lectures</th>\n",
       "      <th>log_content_duration</th>\n",
       "    </tr>\n",
       "  </thead>\n",
       "  <tbody>\n",
       "    <tr>\n",
       "      <td>0</td>\n",
       "      <td>1070968</td>\n",
       "      <td>Ultimate Investment Banking Course</td>\n",
       "      <td>https://www.udemy.com/ultimate-investment-bank...</td>\n",
       "      <td>True</td>\n",
       "      <td>200.0</td>\n",
       "      <td>2147</td>\n",
       "      <td>23</td>\n",
       "      <td>51</td>\n",
       "      <td>All Levels</td>\n",
       "      <td>1.5</td>\n",
       "      <td>2017-01-18 20:58:58</td>\n",
       "      <td>Business Finance</td>\n",
       "      <td>2017-01-18</td>\n",
       "      <td>5.303305</td>\n",
       "      <td>7.671827</td>\n",
       "      <td>3.178054</td>\n",
       "      <td>3.931826</td>\n",
       "      <td>0.405465</td>\n",
       "    </tr>\n",
       "    <tr>\n",
       "      <td>1</td>\n",
       "      <td>1113822</td>\n",
       "      <td>Complete GST Course &amp; Certification - Grow You...</td>\n",
       "      <td>https://www.udemy.com/goods-and-services-tax/</td>\n",
       "      <td>True</td>\n",
       "      <td>75.0</td>\n",
       "      <td>2792</td>\n",
       "      <td>923</td>\n",
       "      <td>274</td>\n",
       "      <td>All Levels</td>\n",
       "      <td>39.0</td>\n",
       "      <td>2017-03-09 16:34:20</td>\n",
       "      <td>Business Finance</td>\n",
       "      <td>2017-03-09</td>\n",
       "      <td>4.330733</td>\n",
       "      <td>7.934513</td>\n",
       "      <td>6.828712</td>\n",
       "      <td>5.613128</td>\n",
       "      <td>3.663562</td>\n",
       "    </tr>\n",
       "    <tr>\n",
       "      <td>2</td>\n",
       "      <td>1006314</td>\n",
       "      <td>Financial Modeling for Business Analysts and C...</td>\n",
       "      <td>https://www.udemy.com/financial-modeling-for-b...</td>\n",
       "      <td>True</td>\n",
       "      <td>45.0</td>\n",
       "      <td>2174</td>\n",
       "      <td>74</td>\n",
       "      <td>51</td>\n",
       "      <td>Intermediate Level</td>\n",
       "      <td>2.5</td>\n",
       "      <td>2016-12-19 19:26:30</td>\n",
       "      <td>Business Finance</td>\n",
       "      <td>2016-12-19</td>\n",
       "      <td>3.828641</td>\n",
       "      <td>7.684324</td>\n",
       "      <td>4.317488</td>\n",
       "      <td>3.931826</td>\n",
       "      <td>0.916291</td>\n",
       "    </tr>\n",
       "    <tr>\n",
       "      <td>3</td>\n",
       "      <td>1210588</td>\n",
       "      <td>Beginner to Pro - Financial Analysis in Excel ...</td>\n",
       "      <td>https://www.udemy.com/complete-excel-finance-c...</td>\n",
       "      <td>True</td>\n",
       "      <td>95.0</td>\n",
       "      <td>2451</td>\n",
       "      <td>11</td>\n",
       "      <td>36</td>\n",
       "      <td>All Levels</td>\n",
       "      <td>3.0</td>\n",
       "      <td>2017-05-30 20:07:24</td>\n",
       "      <td>Business Finance</td>\n",
       "      <td>2017-05-30</td>\n",
       "      <td>4.564348</td>\n",
       "      <td>7.804251</td>\n",
       "      <td>2.484907</td>\n",
       "      <td>3.583519</td>\n",
       "      <td>1.098612</td>\n",
       "    </tr>\n",
       "    <tr>\n",
       "      <td>4</td>\n",
       "      <td>1011058</td>\n",
       "      <td>How To Maximize Your Profits Trading Options</td>\n",
       "      <td>https://www.udemy.com/how-to-maximize-your-pro...</td>\n",
       "      <td>True</td>\n",
       "      <td>200.0</td>\n",
       "      <td>1276</td>\n",
       "      <td>45</td>\n",
       "      <td>26</td>\n",
       "      <td>Intermediate Level</td>\n",
       "      <td>2.0</td>\n",
       "      <td>2016-12-13 14:57:18</td>\n",
       "      <td>Business Finance</td>\n",
       "      <td>2016-12-13</td>\n",
       "      <td>5.303305</td>\n",
       "      <td>7.151485</td>\n",
       "      <td>3.828641</td>\n",
       "      <td>3.258097</td>\n",
       "      <td>0.693147</td>\n",
       "    </tr>\n",
       "  </tbody>\n",
       "</table>\n",
       "</div>"
      ],
      "text/plain": [
       "   course_id                                       course_title  \\\n",
       "0    1070968                 Ultimate Investment Banking Course   \n",
       "1    1113822  Complete GST Course & Certification - Grow You...   \n",
       "2    1006314  Financial Modeling for Business Analysts and C...   \n",
       "3    1210588  Beginner to Pro - Financial Analysis in Excel ...   \n",
       "4    1011058       How To Maximize Your Profits Trading Options   \n",
       "\n",
       "                                                 url is_paid  price  \\\n",
       "0  https://www.udemy.com/ultimate-investment-bank...    True  200.0   \n",
       "1      https://www.udemy.com/goods-and-services-tax/    True   75.0   \n",
       "2  https://www.udemy.com/financial-modeling-for-b...    True   45.0   \n",
       "3  https://www.udemy.com/complete-excel-finance-c...    True   95.0   \n",
       "4  https://www.udemy.com/how-to-maximize-your-pro...    True  200.0   \n",
       "\n",
       "   num_subscribers  num_reviews  num_lectures               level  \\\n",
       "0             2147           23            51          All Levels   \n",
       "1             2792          923           274          All Levels   \n",
       "2             2174           74            51  Intermediate Level   \n",
       "3             2451           11            36          All Levels   \n",
       "4             1276           45            26  Intermediate Level   \n",
       "\n",
       "   content_duration published_timestamp           subject       date  \\\n",
       "0               1.5 2017-01-18 20:58:58  Business Finance 2017-01-18   \n",
       "1              39.0 2017-03-09 16:34:20  Business Finance 2017-03-09   \n",
       "2               2.5 2016-12-19 19:26:30  Business Finance 2016-12-19   \n",
       "3               3.0 2017-05-30 20:07:24  Business Finance 2017-05-30   \n",
       "4               2.0 2016-12-13 14:57:18  Business Finance 2016-12-13   \n",
       "\n",
       "   log_price  log_num_subscribers  log_num_reviews  log_num_lectures  \\\n",
       "0   5.303305             7.671827         3.178054          3.931826   \n",
       "1   4.330733             7.934513         6.828712          5.613128   \n",
       "2   3.828641             7.684324         4.317488          3.931826   \n",
       "3   4.564348             7.804251         2.484907          3.583519   \n",
       "4   5.303305             7.151485         3.828641          3.258097   \n",
       "\n",
       "   log_content_duration  \n",
       "0              0.405465  \n",
       "1              3.663562  \n",
       "2              0.916291  \n",
       "3              1.098612  \n",
       "4              0.693147  "
      ]
     },
     "execution_count": 227,
     "metadata": {},
     "output_type": "execute_result"
    }
   ],
   "source": [
    "data_new.head()"
   ]
  },
  {
   "cell_type": "code",
   "execution_count": 234,
   "metadata": {},
   "outputs": [
    {
     "data": {
      "text/plain": [
       "Text(0.5, 1.0, 'Distribuição dos preços do números')"
      ]
     },
     "execution_count": 234,
     "metadata": {},
     "output_type": "execute_result"
    },
    {
     "data": {
      "image/png": "[encoded data removed]",
      "text/plain": [
       "<Figure size 864x432 with 1 Axes>"
      ]
     },
     "metadata": {
      "needs_background": "light"
     },
     "output_type": "display_data"
    }
   ],
   "source": [
    "ax = sns.distplot(data_new['log_price'], bins =15)\n",
    "ax.figure.set_size_inches(12,6)\n",
    "ax.set_xlabel('Preços dos cursos')\n",
    "ax.set_title('Distribuição dos preços do números', fontsize = 22)"
   ]
  },
  {
   "cell_type": "markdown",
   "metadata": {},
   "source": [
    "## Ainda não está bom... let's try removing outliers.. lets start with removing outliers from subjects"
   ]
  },
  {
   "cell_type": "code",
   "execution_count": 243,
   "metadata": {},
   "outputs": [],
   "source": [
    "group_subject = data_new.groupby('subject')['price']"
   ]
  },
  {
   "cell_type": "code",
   "execution_count": 244,
   "metadata": {},
   "outputs": [
    {
     "data": {
      "text/plain": [
       "pandas.core.groupby.generic.SeriesGroupBy"
      ]
     },
     "execution_count": 244,
     "metadata": {},
     "output_type": "execute_result"
    }
   ],
   "source": [
    "type(group_subject)"
   ]
  },
  {
   "cell_type": "code",
   "execution_count": 245,
   "metadata": {},
   "outputs": [
    {
     "data": {
      "text/plain": [
       "{'Business Finance': Int64Index([   0,    1,    2,    3,    4,    5,    6,    7,    8,    9,\n",
       "             ...\n",
       "             1185, 1186, 1188, 1190, 1191, 1193, 1194, 1195, 1197, 1198],\n",
       "            dtype='int64', length=1012),\n",
       " 'Graphic Design': Int64Index([1199, 1200, 1201, 1202, 1203, 1204, 1205, 1206, 1207, 1208,\n",
       "             ...\n",
       "             1789, 1791, 1792, 1793, 1794, 1795, 1797, 1798, 1799, 1800],\n",
       "            dtype='int64', length=498),\n",
       " 'Musical Instruments': Int64Index([1804, 1805, 1808, 1809, 1810, 1811, 1812, 1814, 1815, 1817,\n",
       "             ...\n",
       "             2472, 2473, 2474, 2475, 2477, 2478, 2479, 2480, 2481, 2482],\n",
       "            dtype='int64', length=573),\n",
       " 'Web Development': Int64Index([2483, 2484, 2485, 2486, 2487, 2488, 2489, 2490, 2491, 2492,\n",
       "             ...\n",
       "             3669, 3674, 3675, 3676, 3677, 3678, 3679, 3680, 3681, 3682],\n",
       "            dtype='int64', length=1011)}"
      ]
     },
     "execution_count": 245,
     "metadata": {},
     "output_type": "execute_result"
    }
   ],
   "source": [
    "group_subject.groups"
   ]
  },
  {
   "cell_type": "code",
   "execution_count": 246,
   "metadata": {},
   "outputs": [
    {
     "data": {
      "text/plain": [
       "subject\n",
       "Business Finance       76.521739\n",
       "Graphic Design         64.457831\n",
       "Musical Instruments    54.633508\n",
       "Web Development        89.174085\n",
       "Name: price, dtype: float64"
      ]
     },
     "execution_count": 246,
     "metadata": {},
     "output_type": "execute_result"
    }
   ],
   "source": [
    "group_subject.mean()"
   ]
  },
  {
   "cell_type": "code",
   "execution_count": 248,
   "metadata": {},
   "outputs": [],
   "source": [
    "Q1 = group_subject.quantile(.25)\n",
    "Q3 = group_subject.quantile(.75)\n",
    "IIQ = Q3 - Q1 #intervalo interquartilico\n",
    "limite_inferior = Q1 - 1.5*IIQ\n",
    "limite_superior = Q3 + 1.5*IIQ"
   ]
  },
  {
   "cell_type": "code",
   "execution_count": 249,
   "metadata": {},
   "outputs": [
    {
     "data": {
      "text/plain": [
       "subject\n",
       "Business Finance       20.0\n",
       "Graphic Design         20.0\n",
       "Musical Instruments    30.0\n",
       "Web Development        35.0\n",
       "Name: price, dtype: float64"
      ]
     },
     "execution_count": 249,
     "metadata": {},
     "output_type": "execute_result"
    }
   ],
   "source": [
    "Q1"
   ]
  },
  {
   "cell_type": "code",
   "execution_count": 250,
   "metadata": {},
   "outputs": [
    {
     "data": {
      "text/plain": [
       "subject\n",
       "Business Finance      -107.5\n",
       "Graphic Design         -92.5\n",
       "Musical Instruments     -7.5\n",
       "Web Development       -130.0\n",
       "Name: price, dtype: float64"
      ]
     },
     "execution_count": 250,
     "metadata": {},
     "output_type": "execute_result"
    }
   ],
   "source": [
    "limite_inferior"
   ]
  },
  {
   "cell_type": "code",
   "execution_count": 251,
   "metadata": {},
   "outputs": [
    {
     "data": {
      "text/plain": [
       "subject\n",
       "Business Finance       105.0\n",
       "Graphic Design          95.0\n",
       "Musical Instruments     55.0\n",
       "Web Development        145.0\n",
       "Name: price, dtype: float64"
      ]
     },
     "execution_count": 251,
     "metadata": {},
     "output_type": "execute_result"
    }
   ],
   "source": [
    "Q3"
   ]
  },
  {
   "cell_type": "code",
   "execution_count": 253,
   "metadata": {},
   "outputs": [
    {
     "data": {
      "text/plain": [
       "subject\n",
       "Business Finance        85.0\n",
       "Graphic Design          75.0\n",
       "Musical Instruments     25.0\n",
       "Web Development        110.0\n",
       "Name: price, dtype: float64"
      ]
     },
     "execution_count": 253,
     "metadata": {},
     "output_type": "execute_result"
    }
   ],
   "source": [
    "IIQ"
   ]
  },
  {
   "cell_type": "code",
   "execution_count": 263,
   "metadata": {},
   "outputs": [],
   "source": [
    "data_new1 = pd.DataFrame()\n",
    "\n",
    "for subject in group_subject.groups.keys():\n",
    "    eh_tipo = data_new['subject'] == subject\n",
    "    eh_dentro_limite = (data_new['price'] >= limite_inferior[subject]) & (data_new['price'] <= limite_superior[subject])\n",
    "    selecao = eh_tipo & eh_dentro_limite\n",
    "    dados_selecao = data_new[selecao]\n",
    "    data_new1 = pd.concat([data_new1, dados_selecao])"
   ]
  },
  {
   "cell_type": "markdown",
   "metadata": {},
   "source": [
    "## Plotando denovo para ver se retiraram os outliers"
   ]
  },
  {
   "cell_type": "code",
   "execution_count": 265,
   "metadata": {},
   "outputs": [
    {
     "data": {
      "text/plain": [
       "Text(0.5, 0, 'Subjects')"
      ]
     },
     "execution_count": 265,
     "metadata": {},
     "output_type": "execute_result"
    },
    {
     "data": {
      "image/png": "[encoded data removed]",
      "text/plain": [
       "<Figure size 864x432 with 1 Axes>"
      ]
     },
     "metadata": {
      "needs_background": "light"
     },
     "output_type": "display_data"
    }
   ],
   "source": [
    "ax = sns.boxplot(x = 'subject',y = 'price', data = data_new1, orient = 'v', width = 0.3)\n",
    "ax.figure.set_size_inches(12,6)\n",
    "sns.set_palette('CMRmap')\n",
    "ax.set_ylabel('Preço', fontsize = 20)\n",
    "ax.set_title('Preço dos cursos', fontsize  = 24)\n",
    "ax.set_xlabel('Subjects', fontsize= 20)"
   ]
  },
  {
   "cell_type": "markdown",
   "metadata": {},
   "source": [
    "## Plotando o histograma"
   ]
  },
  {
   "cell_type": "code",
   "execution_count": 268,
   "metadata": {},
   "outputs": [
    {
     "data": {
      "text/plain": [
       "Text(0.5, 1.0, 'Distribuição dos preços do números')"
      ]
     },
     "execution_count": 268,
     "metadata": {},
     "output_type": "execute_result"
    },
    {
     "data": {
      "image/png": "[encoded data removed]",
      "text/plain": [
       "<Figure size 864x432 with 1 Axes>"
      ]
     },
     "metadata": {
      "needs_background": "light"
     },
     "output_type": "display_data"
    }
   ],
   "source": [
    "ax = sns.distplot(data_new1['log_price'], bins =15)\n",
    "ax.figure.set_size_inches(12,6)\n",
    "ax.set_xlabel('Preços dos cursos')\n",
    "ax.set_title('Distribuição dos preços do números', fontsize = 22)"
   ]
  },
  {
   "cell_type": "markdown",
   "metadata": {},
   "source": [
    "## They dont represent a normal distribuition, i dont know what to do with these data"
   ]
  },
  {
   "cell_type": "code",
   "execution_count": null,
   "metadata": {},
   "outputs": [],
   "source": []
  }
 ],
 "metadata": {
  "kernelspec": {
   "display_name": "Python 3",
   "language": "python",
   "name": "python3"
  },
  "language_info": {
   "codemirror_mode": {
    "name": "ipython",
    "version": 3
   },
   "file_extension": ".py",
   "mimetype": "text/x-python",
   "name": "python",
   "nbconvert_exporter": "python",
   "pygments_lexer": "ipython3",
   "version": "3.7.4"
  }
 },
 "nbformat": 4,
 "nbformat_minor": 2
}
