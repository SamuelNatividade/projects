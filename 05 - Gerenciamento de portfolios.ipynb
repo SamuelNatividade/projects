{
 "cells": [
  {
   "cell_type": "markdown",
   "metadata": {},
   "source": [
    "## Aula 5: Gereciamento de portfolios"
   ]
  },
  {
   "cell_type": "code",
   "execution_count": 4,
   "metadata": {
    "ExecuteTime": {
     "end_time": "2020-04-18T17:39:11.936391Z",
     "start_time": "2020-04-18T17:39:10.262189Z"
    },
    "hidden": true
   },
   "outputs": [],
   "source": [
    "import numpy as np\n",
    "import pandas as pd\n",
    "import matplotlib.pyplot as plt\n",
    "import seaborn as sns\n",
    "import quandl\n",
    "from pandas_datareader.data import DataReader\n",
    "\n",
    "%matplotlib inline"
   ]
  },
  {
   "cell_type": "code",
   "execution_count": 5,
   "metadata": {},
   "outputs": [],
   "source": [
    "df_ciel3 = DataReader('CIEL3.SA', data_source='yahoo',\n",
    "                      start='2009-1-1')['Adj Close']"
   ]
  },
  {
   "cell_type": "code",
   "execution_count": 6,
   "metadata": {},
   "outputs": [
    {
     "data": {
      "text/html": [
       "<div>\n",
       "<style scoped>\n",
       "    .dataframe tbody tr th:only-of-type {\n",
       "        vertical-align: middle;\n",
       "    }\n",
       "\n",
       "    .dataframe tbody tr th {\n",
       "        vertical-align: top;\n",
       "    }\n",
       "\n",
       "    .dataframe thead th {\n",
       "        text-align: right;\n",
       "    }\n",
       "</style>\n",
       "<table border=\"1\" class=\"dataframe\">\n",
       "  <thead>\n",
       "    <tr style=\"text-align: right;\">\n",
       "      <th></th>\n",
       "      <th>values</th>\n",
       "      <th>pct change</th>\n",
       "      <th>cumulative sum</th>\n",
       "      <th>cumulative product</th>\n",
       "    </tr>\n",
       "  </thead>\n",
       "  <tbody>\n",
       "    <tr>\n",
       "      <td>2020-03-31</td>\n",
       "      <td>20</td>\n",
       "      <td>NaN</td>\n",
       "      <td>20</td>\n",
       "      <td>20</td>\n",
       "    </tr>\n",
       "    <tr>\n",
       "      <td>2020-06-30</td>\n",
       "      <td>40</td>\n",
       "      <td>1.000000</td>\n",
       "      <td>60</td>\n",
       "      <td>800</td>\n",
       "    </tr>\n",
       "    <tr>\n",
       "      <td>2020-09-30</td>\n",
       "      <td>60</td>\n",
       "      <td>0.500000</td>\n",
       "      <td>120</td>\n",
       "      <td>48000</td>\n",
       "    </tr>\n",
       "    <tr>\n",
       "      <td>2020-12-31</td>\n",
       "      <td>80</td>\n",
       "      <td>0.333333</td>\n",
       "      <td>200</td>\n",
       "      <td>3840000</td>\n",
       "    </tr>\n",
       "  </tbody>\n",
       "</table>\n",
       "</div>"
      ],
      "text/plain": [
       "            values  pct change  cumulative sum  cumulative product\n",
       "2020-03-31      20         NaN              20                  20\n",
       "2020-06-30      40    1.000000              60                 800\n",
       "2020-09-30      60    0.500000             120               48000\n",
       "2020-12-31      80    0.333333             200             3840000"
      ]
     },
     "execution_count": 6,
     "metadata": {},
     "output_type": "execute_result"
    }
   ],
   "source": [
    "df_value = pd.DataFrame(np.arange(20, 100, 20),\n",
    "                        index=pd.date_range(start='2020',\n",
    "                                            periods=4, freq='Q'),\n",
    "                        columns=['values'])\n",
    "\n",
    "df_value['pct change'] = df_value['values'].pct_change()\n",
    "df_value['cumulative sum'] = df_value['values'].cumsum()\n",
    "df_value['cumulative product'] = df_value['values'].cumprod()\n",
    "df_value"
   ]
  },
  {
   "cell_type": "code",
   "execution_count": 7,
   "metadata": {},
   "outputs": [
    {
     "data": {
      "text/plain": [
       "<matplotlib.axes._subplots.AxesSubplot at 0x1f0392d0f08>"
      ]
     },
     "execution_count": 7,
     "metadata": {},
     "output_type": "execute_result"
    },
    {
     "data": {
      "image/png": "[encoded data removed]",
      "text/plain": [
       "<Figure size 432x288 with 1 Axes>"
      ]
     },
     "metadata": {
      "needs_background": "light"
     },
     "output_type": "display_data"
    }
   ],
   "source": [
    "# taxa de retorno\n",
    "(((df_ciel3.pct_change() + 1).cumprod() - 1)*100).plot()"
   ]
  },
  {
   "cell_type": "code",
   "execution_count": 8,
   "metadata": {},
   "outputs": [],
   "source": [
    "df_ciel_run = df_ciel3.to_frame('value').copy()"
   ]
  },
  {
   "cell_type": "code",
   "execution_count": 9,
   "metadata": {},
   "outputs": [
    {
     "data": {
      "text/plain": [
       "<matplotlib.axes._subplots.AxesSubplot at 0x1f038d50d88>"
      ]
     },
     "execution_count": 9,
     "metadata": {},
     "output_type": "execute_result"
    },
    {
     "data": {
      "image/png": "[encoded data removed]",
      "text/plain": [
       "<Figure size 720x432 with 1 Axes>"
      ]
     },
     "metadata": {
      "needs_background": "light"
     },
     "output_type": "display_data"
    }
   ],
   "source": [
    "# valor máximo e mínimo\n",
    "df_ciel_run = df_ciel3.to_frame('value').copy()\n",
    "df_ciel_run['running_min'] = df_ciel_run['value'].expanding().min()\n",
    "df_ciel_run['running_max'] = df_ciel_run['value'].expanding().max()\n",
    "df_ciel_run.plot(figsize=(10, 6))"
   ]
  },
  {
   "cell_type": "markdown",
   "metadata": {
    "heading_collapsed": true
   },
   "source": [
    "## 1. Univariate investment risk"
   ]
  },
  {
   "cell_type": "markdown",
   "metadata": {
    "hidden": true
   },
   "source": [
    "**O que é risco?**\n",
    "\n",
    "- medida de incerteza\n",
    "- dispersão ou variância de retornos financeiros\n",
    "\n",
    "**Como medir risco?**\n",
    "\n",
    "- desvio padrão ou variância de retornos diários\n",
    "- kurtosis da distribuição de retorno diária\n",
    "- skewness da distribuição de retorno diária\n",
    "- histórico drawdown\n",
    "\n",
    "**Tipos de retornos:**\n",
    "\n",
    "- Retorno discreto (retorno simples) são o tipo mais comum e representam movimentos de preços periódicos\n",
    "- Retorno logarítimo são mais aplicados em pesquisas acadêmicas e modelagem financeiras; assumem composição contínua\n",
    "\n",
    "**Cálculo de retorno de ações**\n",
    "\n",
    "- retorno discreto são calculados como mudança no preço percentual\n",
    "\n",
    "$${R_{t2}} = \\frac{P_{t2} - P_{t1}}{P_{t1}}$$\n"
   ]
  },
  {
   "cell_type": "markdown",
   "metadata": {
    "hidden": true
   },
   "source": [
    "#### Importando ações do bovespa"
   ]
  },
  {
   "cell_type": "markdown",
   "metadata": {
    "hidden": true
   },
   "source": [
    "https://finance.yahoo.com/"
   ]
  },
  {
   "cell_type": "code",
   "execution_count": 10,
   "metadata": {
    "ExecuteTime": {
     "end_time": "2020-04-12T16:50:33.774998Z",
     "start_time": "2020-04-12T16:50:32.568586Z"
    },
    "hidden": true
   },
   "outputs": [
    {
     "ename": "NameError",
     "evalue": "name 'st_itsa4' is not defined",
     "output_type": "error",
     "traceback": [
      "\u001b[1;31m---------------------------------------------------------------------------\u001b[0m",
      "\u001b[1;31mNameError\u001b[0m                                 Traceback (most recent call last)",
      "\u001b[1;32m<ipython-input-10-9bb550e7a16d>\u001b[0m in \u001b[0;36m<module>\u001b[1;34m\u001b[0m\n\u001b[0;32m      1\u001b[0m \u001b[1;31m# exemplo de açoes itsa4\u001b[0m\u001b[1;33m\u001b[0m\u001b[1;33m\u001b[0m\u001b[1;33m\u001b[0m\u001b[0m\n\u001b[1;32m----> 2\u001b[1;33m \u001b[0mDataReader\u001b[0m\u001b[1;33m(\u001b[0m\u001b[0mst_itsa4\u001b[0m\u001b[1;33m,\u001b[0m \u001b[0mdata_source\u001b[0m\u001b[1;33m=\u001b[0m\u001b[1;34m'yahoo'\u001b[0m\u001b[1;33m,\u001b[0m \u001b[0mstart\u001b[0m\u001b[1;33m=\u001b[0m\u001b[1;34m'2010-1-1'\u001b[0m\u001b[1;33m)\u001b[0m\u001b[1;33m.\u001b[0m\u001b[0mhead\u001b[0m\u001b[1;33m(\u001b[0m\u001b[1;33m)\u001b[0m\u001b[1;33m\u001b[0m\u001b[1;33m\u001b[0m\u001b[0m\n\u001b[0m",
      "\u001b[1;31mNameError\u001b[0m: name 'st_itsa4' is not defined"
     ]
    }
   ],
   "source": [
    "# exemplo de açoes itsa4\n",
    "DataReader(st_itsa4, data_source='yahoo', start='2010-1-1').head()"
   ]
  },
  {
   "cell_type": "code",
   "execution_count": 11,
   "metadata": {
    "ExecuteTime": {
     "end_time": "2020-04-18T17:39:49.803091Z",
     "start_time": "2020-04-18T17:39:46.731853Z"
    },
    "hidden": true
   },
   "outputs": [],
   "source": [
    "st_itsa4 = 'ITSA4.SA'\n",
    "st_flry3 = 'FLRY3.SA'\n",
    "st_lren3 = 'LREN3.SA'\n",
    "\n",
    "df_st = pd.DataFrame()\n",
    "\n",
    "stocks = [st_itsa4, st_flry3, st_lren3]\n",
    "for stock in stocks:\n",
    "    df_st[stock]=DataReader(stock,\n",
    "                            data_source='yahoo',\n",
    "                            start='2010-1-1')['Adj Close']"
   ]
  },
  {
   "cell_type": "code",
   "execution_count": 12,
   "metadata": {
    "ExecuteTime": {
     "end_time": "2020-04-18T17:33:50.304332Z",
     "start_time": "2020-04-18T17:33:50.289341Z"
    },
    "hidden": true
   },
   "outputs": [
    {
     "data": {
      "text/html": [
       "<div>\n",
       "<style scoped>\n",
       "    .dataframe tbody tr th:only-of-type {\n",
       "        vertical-align: middle;\n",
       "    }\n",
       "\n",
       "    .dataframe tbody tr th {\n",
       "        vertical-align: top;\n",
       "    }\n",
       "\n",
       "    .dataframe thead th {\n",
       "        text-align: right;\n",
       "    }\n",
       "</style>\n",
       "<table border=\"1\" class=\"dataframe\">\n",
       "  <thead>\n",
       "    <tr style=\"text-align: right;\">\n",
       "      <th></th>\n",
       "      <th>ITSA4.SA</th>\n",
       "      <th>FLRY3.SA</th>\n",
       "      <th>LREN3.SA</th>\n",
       "    </tr>\n",
       "    <tr>\n",
       "      <th>Date</th>\n",
       "      <th></th>\n",
       "      <th></th>\n",
       "      <th></th>\n",
       "    </tr>\n",
       "  </thead>\n",
       "  <tbody>\n",
       "    <tr>\n",
       "      <td>2010-01-04</td>\n",
       "      <td>4.007836</td>\n",
       "      <td>5.291858</td>\n",
       "      <td>2.524632</td>\n",
       "    </tr>\n",
       "    <tr>\n",
       "      <td>2010-01-05</td>\n",
       "      <td>3.994874</td>\n",
       "      <td>5.262620</td>\n",
       "      <td>2.433682</td>\n",
       "    </tr>\n",
       "    <tr>\n",
       "      <td>2010-01-06</td>\n",
       "      <td>3.946275</td>\n",
       "      <td>5.452658</td>\n",
       "      <td>2.386643</td>\n",
       "    </tr>\n",
       "    <tr>\n",
       "      <td>2010-01-07</td>\n",
       "      <td>3.923598</td>\n",
       "      <td>5.470201</td>\n",
       "      <td>2.364685</td>\n",
       "    </tr>\n",
       "    <tr>\n",
       "      <td>2010-01-08</td>\n",
       "      <td>3.894438</td>\n",
       "      <td>5.581301</td>\n",
       "      <td>2.377231</td>\n",
       "    </tr>\n",
       "  </tbody>\n",
       "</table>\n",
       "</div>"
      ],
      "text/plain": [
       "            ITSA4.SA  FLRY3.SA  LREN3.SA\n",
       "Date                                    \n",
       "2010-01-04  4.007836  5.291858  2.524632\n",
       "2010-01-05  3.994874  5.262620  2.433682\n",
       "2010-01-06  3.946275  5.452658  2.386643\n",
       "2010-01-07  3.923598  5.470201  2.364685\n",
       "2010-01-08  3.894438  5.581301  2.377231"
      ]
     },
     "execution_count": 12,
     "metadata": {},
     "output_type": "execute_result"
    }
   ],
   "source": [
    "df_st.head()"
   ]
  },
  {
   "cell_type": "code",
   "execution_count": 13,
   "metadata": {
    "ExecuteTime": {
     "end_time": "2020-04-12T16:38:43.157355Z",
     "start_time": "2020-04-12T16:38:42.972448Z"
    },
    "hidden": true
   },
   "outputs": [
    {
     "data": {
      "image/png": "[encoded data removed]",
      "text/plain": [
       "<Figure size 720x576 with 1 Axes>"
      ]
     },
     "metadata": {
      "needs_background": "light"
     },
     "output_type": "display_data"
    }
   ],
   "source": [
    "(df_st / df_st.iloc[0] * 100).plot(figsize=(10, 8))\n",
    "plt.ylabel('NORMALIZED PRICES')\n",
    "plt.xlabel('DATE')\n",
    "plt.show()"
   ]
  },
  {
   "cell_type": "markdown",
   "metadata": {
    "hidden": true
   },
   "source": [
    "#### Retorno diário"
   ]
  },
  {
   "cell_type": "code",
   "execution_count": 14,
   "metadata": {
    "ExecuteTime": {
     "end_time": "2020-04-12T16:51:34.480979Z",
     "start_time": "2020-04-12T16:51:33.520409Z"
    },
    "hidden": true
   },
   "outputs": [
    {
     "name": "stderr",
     "output_type": "stream",
     "text": [
      "C:\\Users\\user\\Anaconda3\\lib\\site-packages\\pandas\\plotting\\_matplotlib\\tools.py:307: MatplotlibDeprecationWarning: \n",
      "The rowNum attribute was deprecated in Matplotlib 3.2 and will be removed two minor releases later. Use ax.get_subplotspec().rowspan.start instead.\n",
      "  layout[ax.rowNum, ax.colNum] = ax.get_visible()\n",
      "C:\\Users\\user\\Anaconda3\\lib\\site-packages\\pandas\\plotting\\_matplotlib\\tools.py:307: MatplotlibDeprecationWarning: \n",
      "The colNum attribute was deprecated in Matplotlib 3.2 and will be removed two minor releases later. Use ax.get_subplotspec().colspan.start instead.\n",
      "  layout[ax.rowNum, ax.colNum] = ax.get_visible()\n",
      "C:\\Users\\user\\Anaconda3\\lib\\site-packages\\pandas\\plotting\\_matplotlib\\tools.py:313: MatplotlibDeprecationWarning: \n",
      "The rowNum attribute was deprecated in Matplotlib 3.2 and will be removed two minor releases later. Use ax.get_subplotspec().rowspan.start instead.\n",
      "  if not layout[ax.rowNum + 1, ax.colNum]:\n",
      "C:\\Users\\user\\Anaconda3\\lib\\site-packages\\pandas\\plotting\\_matplotlib\\tools.py:313: MatplotlibDeprecationWarning: \n",
      "The colNum attribute was deprecated in Matplotlib 3.2 and will be removed two minor releases later. Use ax.get_subplotspec().colspan.start instead.\n",
      "  if not layout[ax.rowNum + 1, ax.colNum]:\n",
      "C:\\Users\\user\\Anaconda3\\lib\\site-packages\\pandas\\plotting\\_matplotlib\\tools.py:307: MatplotlibDeprecationWarning: \n",
      "The rowNum attribute was deprecated in Matplotlib 3.2 and will be removed two minor releases later. Use ax.get_subplotspec().rowspan.start instead.\n",
      "  layout[ax.rowNum, ax.colNum] = ax.get_visible()\n",
      "C:\\Users\\user\\Anaconda3\\lib\\site-packages\\pandas\\plotting\\_matplotlib\\tools.py:307: MatplotlibDeprecationWarning: \n",
      "The colNum attribute was deprecated in Matplotlib 3.2 and will be removed two minor releases later. Use ax.get_subplotspec().colspan.start instead.\n",
      "  layout[ax.rowNum, ax.colNum] = ax.get_visible()\n",
      "C:\\Users\\user\\Anaconda3\\lib\\site-packages\\pandas\\plotting\\_matplotlib\\tools.py:313: MatplotlibDeprecationWarning: \n",
      "The rowNum attribute was deprecated in Matplotlib 3.2 and will be removed two minor releases later. Use ax.get_subplotspec().rowspan.start instead.\n",
      "  if not layout[ax.rowNum + 1, ax.colNum]:\n",
      "C:\\Users\\user\\Anaconda3\\lib\\site-packages\\pandas\\plotting\\_matplotlib\\tools.py:313: MatplotlibDeprecationWarning: \n",
      "The colNum attribute was deprecated in Matplotlib 3.2 and will be removed two minor releases later. Use ax.get_subplotspec().colspan.start instead.\n",
      "  if not layout[ax.rowNum + 1, ax.colNum]:\n"
     ]
    },
    {
     "data": {
      "image/png": "[encoded data removed]",
      "text/plain": [
       "<Figure size 720x576 with 3 Axes>"
      ]
     },
     "metadata": {
      "needs_background": "light"
     },
     "output_type": "display_data"
    }
   ],
   "source": [
    "df_st.pct_change().plot(subplots=True, figsize=(10, 8))\n",
    "plt.show()"
   ]
  },
  {
   "cell_type": "code",
   "execution_count": 15,
   "metadata": {
    "ExecuteTime": {
     "end_time": "2020-04-12T16:53:07.155821Z",
     "start_time": "2020-04-12T16:53:06.458720Z"
    },
    "hidden": true
   },
   "outputs": [
    {
     "data": {
      "image/png": "[encoded data removed]",
      "text/plain": [
       "<Figure size 720x576 with 4 Axes>"
      ]
     },
     "metadata": {
      "needs_background": "light"
     },
     "output_type": "display_data"
    }
   ],
   "source": [
    "df_st.pct_change().hist(figsize=(10, 8), bins=75, grid=False)\n",
    "plt.show()"
   ]
  },
  {
   "cell_type": "markdown",
   "metadata": {
    "hidden": true
   },
   "source": [
    "**Comparando retorno financeiros com distribuições normais:**\n",
    "\n",
    "- distribuições normais tem assimetria próxima de 0 e curtose próximo de 3\n",
    "- retornos financeiros tendem a não ter distribuição normal\n",
    "- retornos financeiros podem ter curtose alta"
   ]
  },
  {
   "cell_type": "code",
   "execution_count": 16,
   "metadata": {
    "ExecuteTime": {
     "end_time": "2020-04-12T17:04:00.890704Z",
     "start_time": "2020-04-12T17:04:00.864736Z"
    },
    "hidden": true,
    "scrolled": true
   },
   "outputs": [
    {
     "name": "stdout",
     "output_type": "stream",
     "text": [
      "média diária do retorno de cada ativo\n",
      "ITSA4.SA    0.000566\n",
      "FLRY3.SA    0.000788\n",
      "LREN3.SA    0.001347\n",
      "dtype: float64 \n",
      "\n",
      "média anualizada do retorno de cada ativo\n",
      "ITSA4.SA    0.153398\n",
      "FLRY3.SA    0.219675\n",
      "LREN3.SA    0.404015\n",
      "dtype: float64\n"
     ]
    }
   ],
   "source": [
    "# média do retorno\n",
    "print('média diária do retorno de cada ativo')\n",
    "print(df_st.pct_change().dropna().mean(), '\\n')\n",
    "\n",
    "# média do retorno anualizado - 252 dias úteis no ano\n",
    "print('média anualizada do retorno de cada ativo')\n",
    "print(((1 + df_st.pct_change().dropna().mean())**252)-1)"
   ]
  },
  {
   "cell_type": "markdown",
   "metadata": {
    "hidden": true
   },
   "source": [
    "**Desvio padrão e variância**\n",
    "\n",
    "- variância = $\\sigma^2$\n",
    "- desvio padrão (volatilidade) = $\\sigma$\n",
    "- investimento com alto $\\sigma$ é visto como investimento de maior risco\n",
    "- volatilidade escala com a raiz quadrada do tempo\n",
    "- podemos assumir 252 dias úteis no ano e 21 dias úteis no mês\n",
    "\n",
    "$$\\sigma_{ano} = \\sigma_{dia} * \\sqrt{252}$$\n",
    "\n",
    "$$\\sigma_{mês} = \\sigma_{dia} * \\sqrt{21}$$"
   ]
  },
  {
   "cell_type": "code",
   "execution_count": 17,
   "metadata": {
    "ExecuteTime": {
     "end_time": "2020-04-12T17:11:03.603988Z",
     "start_time": "2020-04-12T17:11:03.588016Z"
    },
    "hidden": true
   },
   "outputs": [
    {
     "name": "stdout",
     "output_type": "stream",
     "text": [
      "volatilidade diária de cada ativo\n",
      "ITSA4.SA    0.019718\n",
      "FLRY3.SA    0.020004\n",
      "LREN3.SA    0.023576\n",
      "dtype: float64 \n",
      "\n",
      "volatilidade anualizada de cada ativo\n",
      "ITSA4.SA    0.313006\n",
      "FLRY3.SA    0.317547\n",
      "LREN3.SA    0.374250\n",
      "dtype: float64 \n",
      "\n"
     ]
    }
   ],
   "source": [
    "# volatilidade \n",
    "print('volatilidade diária de cada ativo')\n",
    "print(df_st.pct_change().dropna().std(), '\\n')\n",
    "\n",
    "print('volatilidade anualizada de cada ativo')\n",
    "print(df_st.pct_change().dropna().std() * np.sqrt(252), '\\n')"
   ]
  },
  {
   "cell_type": "markdown",
   "metadata": {
    "hidden": true
   },
   "source": [
    "**Assimetria**\n",
    "\n",
    "- em finanças, buscamos assimetria positiva\n",
    "\n",
    "\n",
    "![](https://upload.wikimedia.org/wikipedia/commons/thumb/f/f8/Negative_and_positive_skew_diagrams_%28English%29.svg/446px-Negative_and_positive_skew_diagrams_%28English%29.svg.png)"
   ]
  },
  {
   "cell_type": "code",
   "execution_count": 18,
   "metadata": {
    "ExecuteTime": {
     "end_time": "2020-04-12T17:15:56.216935Z",
     "start_time": "2020-04-12T17:15:56.213936Z"
    },
    "hidden": true
   },
   "outputs": [],
   "source": [
    "from scipy.stats import skew"
   ]
  },
  {
   "cell_type": "code",
   "execution_count": 19,
   "metadata": {
    "ExecuteTime": {
     "end_time": "2020-04-12T17:17:06.962631Z",
     "start_time": "2020-04-12T17:17:06.947640Z"
    },
    "hidden": true
   },
   "outputs": [
    {
     "data": {
      "text/html": [
       "<div>\n",
       "<style scoped>\n",
       "    .dataframe tbody tr th:only-of-type {\n",
       "        vertical-align: middle;\n",
       "    }\n",
       "\n",
       "    .dataframe tbody tr th {\n",
       "        vertical-align: top;\n",
       "    }\n",
       "\n",
       "    .dataframe thead th {\n",
       "        text-align: right;\n",
       "    }\n",
       "</style>\n",
       "<table border=\"1\" class=\"dataframe\">\n",
       "  <thead>\n",
       "    <tr style=\"text-align: right;\">\n",
       "      <th></th>\n",
       "      <th>skewness</th>\n",
       "    </tr>\n",
       "  </thead>\n",
       "  <tbody>\n",
       "    <tr>\n",
       "      <td>ITSA4.SA</td>\n",
       "      <td>-0.091009</td>\n",
       "    </tr>\n",
       "    <tr>\n",
       "      <td>FLRY3.SA</td>\n",
       "      <td>-0.164979</td>\n",
       "    </tr>\n",
       "    <tr>\n",
       "      <td>LREN3.SA</td>\n",
       "      <td>0.193036</td>\n",
       "    </tr>\n",
       "  </tbody>\n",
       "</table>\n",
       "</div>"
      ],
      "text/plain": [
       "          skewness\n",
       "ITSA4.SA -0.091009\n",
       "FLRY3.SA -0.164979\n",
       "LREN3.SA  0.193036"
      ]
     },
     "execution_count": 19,
     "metadata": {},
     "output_type": "execute_result"
    }
   ],
   "source": [
    "pd.DataFrame(skew(df_st.pct_change().dropna()),\n",
    "             index=df_st.columns, columns=['skewness'])"
   ]
  },
  {
   "cell_type": "markdown",
   "metadata": {
    "hidden": true
   },
   "source": [
    "**Curtose**\n",
    "\n",
    "- medida da espessura da cauda da distribuição\n",
    "- proxy pra probabilidade de outliers\n",
    "- maioria dos retornos financeiros são leptokurtic (quando a distribuição tem excesso de curtose - maior que 3)\n",
    "- excess kurtosis = curtose - 3\n",
    "- alto curtose em excesso = alto risco - mais comum de ter outliers\n",
    "\n",
    "![](data:image/jpeg;base64,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)"
   ]
  },
  {
   "cell_type": "code",
   "execution_count": 20,
   "metadata": {
    "ExecuteTime": {
     "end_time": "2020-04-12T17:21:47.866074Z",
     "start_time": "2020-04-12T17:21:47.861093Z"
    },
    "hidden": true
   },
   "outputs": [],
   "source": [
    "from scipy.stats import kurtosis"
   ]
  },
  {
   "cell_type": "code",
   "execution_count": 21,
   "metadata": {
    "ExecuteTime": {
     "end_time": "2020-04-12T17:22:07.553668Z",
     "start_time": "2020-04-12T17:22:07.532681Z"
    },
    "hidden": true,
    "scrolled": true
   },
   "outputs": [
    {
     "data": {
      "text/html": [
       "<div>\n",
       "<style scoped>\n",
       "    .dataframe tbody tr th:only-of-type {\n",
       "        vertical-align: middle;\n",
       "    }\n",
       "\n",
       "    .dataframe tbody tr th {\n",
       "        vertical-align: top;\n",
       "    }\n",
       "\n",
       "    .dataframe thead th {\n",
       "        text-align: right;\n",
       "    }\n",
       "</style>\n",
       "<table border=\"1\" class=\"dataframe\">\n",
       "  <thead>\n",
       "    <tr style=\"text-align: right;\">\n",
       "      <th></th>\n",
       "      <th>kurtosis</th>\n",
       "    </tr>\n",
       "  </thead>\n",
       "  <tbody>\n",
       "    <tr>\n",
       "      <td>ITSA4.SA</td>\n",
       "      <td>2.871975</td>\n",
       "    </tr>\n",
       "    <tr>\n",
       "      <td>FLRY3.SA</td>\n",
       "      <td>4.656661</td>\n",
       "    </tr>\n",
       "    <tr>\n",
       "      <td>LREN3.SA</td>\n",
       "      <td>7.221760</td>\n",
       "    </tr>\n",
       "  </tbody>\n",
       "</table>\n",
       "</div>"
      ],
      "text/plain": [
       "          kurtosis\n",
       "ITSA4.SA  2.871975\n",
       "FLRY3.SA  4.656661\n",
       "LREN3.SA  7.221760"
      ]
     },
     "execution_count": 21,
     "metadata": {},
     "output_type": "execute_result"
    }
   ],
   "source": [
    "pd.DataFrame(kurtosis(df_st.pct_change().dropna()),\n",
    "             index=df_st.columns, columns=['kurtosis'])"
   ]
  },
  {
   "cell_type": "code",
   "execution_count": 23,
   "metadata": {
    "ExecuteTime": {
     "end_time": "2020-04-12T17:26:07.557860Z",
     "start_time": "2020-04-12T17:26:07.540885Z"
    },
    "hidden": true
   },
   "outputs": [
    {
     "name": "stdout",
     "output_type": "stream",
     "text": [
      "Null hypothesis of normality is rejected and data are most likely non-normal\n"
     ]
    }
   ],
   "source": [
    "# teste de normalidade dos dados\n",
    "from scipy import stats\n",
    "\n",
    "p_value = stats.shapiro(df_st.pct_change().dropna())[1]\n",
    "if p_value <= 0.05:\n",
    "    print(\"Null hypothesis of normality is rejected and data are most likely non-normal\")\n",
    "else:\n",
    "    print(\"Null hypothesis of normality is accepted and data are most likely normal\")"
   ]
  },
  {
   "cell_type": "markdown",
   "metadata": {
    "heading_collapsed": true
   },
   "source": [
    "## 2. Portfolio investing"
   ]
  },
  {
   "cell_type": "markdown",
   "metadata": {
    "hidden": true
   },
   "source": [
    "**Cálculo de retorno de ações**\n",
    "\n",
    "- retorno discreto são calculados como mudança no preço percentual\n",
    "\n",
    "$$R_p = R_{a1}w_{a1} + R_{a2}w_{a2} + ... + R_{an}w_{an}$$\n",
    "\n",
    "- $R_p$: retorno do portfolio\n",
    "- $R_{an}$: retorno do ativo n\n",
    "- $w_{an}$: peso do ativo n"
   ]
  },
  {
   "cell_type": "code",
   "execution_count": 24,
   "metadata": {
    "ExecuteTime": {
     "end_time": "2020-04-18T17:40:35.514083Z",
     "start_time": "2020-04-18T17:40:35.473113Z"
    },
    "hidden": true
   },
   "outputs": [
    {
     "data": {
      "text/html": [
       "<div>\n",
       "<style scoped>\n",
       "    .dataframe tbody tr th:only-of-type {\n",
       "        vertical-align: middle;\n",
       "    }\n",
       "\n",
       "    .dataframe tbody tr th {\n",
       "        vertical-align: top;\n",
       "    }\n",
       "\n",
       "    .dataframe thead th {\n",
       "        text-align: right;\n",
       "    }\n",
       "</style>\n",
       "<table border=\"1\" class=\"dataframe\">\n",
       "  <thead>\n",
       "    <tr style=\"text-align: right;\">\n",
       "      <th></th>\n",
       "      <th>ITSA4.SA</th>\n",
       "      <th>FLRY3.SA</th>\n",
       "      <th>LREN3.SA</th>\n",
       "      <th>portfolio</th>\n",
       "    </tr>\n",
       "    <tr>\n",
       "      <th>Date</th>\n",
       "      <th></th>\n",
       "      <th></th>\n",
       "      <th></th>\n",
       "      <th></th>\n",
       "    </tr>\n",
       "  </thead>\n",
       "  <tbody>\n",
       "    <tr>\n",
       "      <td>2010-01-04</td>\n",
       "      <td>4.007836</td>\n",
       "      <td>5.291858</td>\n",
       "      <td>2.524632</td>\n",
       "      <td>3.523038</td>\n",
       "    </tr>\n",
       "    <tr>\n",
       "      <td>2010-01-05</td>\n",
       "      <td>3.994874</td>\n",
       "      <td>5.262620</td>\n",
       "      <td>2.433682</td>\n",
       "      <td>3.467827</td>\n",
       "    </tr>\n",
       "    <tr>\n",
       "      <td>2010-01-06</td>\n",
       "      <td>3.946275</td>\n",
       "      <td>5.452658</td>\n",
       "      <td>2.386643</td>\n",
       "      <td>3.467736</td>\n",
       "    </tr>\n",
       "    <tr>\n",
       "      <td>2010-01-07</td>\n",
       "      <td>3.923598</td>\n",
       "      <td>5.470201</td>\n",
       "      <td>2.364685</td>\n",
       "      <td>3.453462</td>\n",
       "    </tr>\n",
       "    <tr>\n",
       "      <td>2010-01-08</td>\n",
       "      <td>3.894438</td>\n",
       "      <td>5.581301</td>\n",
       "      <td>2.377231</td>\n",
       "      <td>3.473207</td>\n",
       "    </tr>\n",
       "  </tbody>\n",
       "</table>\n",
       "</div>"
      ],
      "text/plain": [
       "            ITSA4.SA  FLRY3.SA  LREN3.SA  portfolio\n",
       "Date                                               \n",
       "2010-01-04  4.007836  5.291858  2.524632   3.523038\n",
       "2010-01-05  3.994874  5.262620  2.433682   3.467827\n",
       "2010-01-06  3.946275  5.452658  2.386643   3.467736\n",
       "2010-01-07  3.923598  5.470201  2.364685   3.453462\n",
       "2010-01-08  3.894438  5.581301  2.377231   3.473207"
      ]
     },
     "execution_count": 24,
     "metadata": {},
     "output_type": "execute_result"
    }
   ],
   "source": [
    "portfolio_weights = np.array([0.3, 0.2, 0.5])\n",
    "df_st['portfolio'] = df_st.mul(portfolio_weights, axis=1).sum(axis=1)\n",
    "df_st.head()"
   ]
  },
  {
   "cell_type": "code",
   "execution_count": 25,
   "metadata": {
    "ExecuteTime": {
     "end_time": "2020-04-12T17:54:55.058094Z",
     "start_time": "2020-04-12T17:54:54.800230Z"
    },
    "hidden": true
   },
   "outputs": [
    {
     "data": {
      "text/plain": [
       "<matplotlib.axes._subplots.AxesSubplot at 0x1f03b817c08>"
      ]
     },
     "execution_count": 25,
     "metadata": {},
     "output_type": "execute_result"
    },
    {
     "data": {
      "image/png": "[encoded data removed]",
      "text/plain": [
       "<Figure size 720x576 with 1 Axes>"
      ]
     },
     "metadata": {
      "needs_background": "light"
     },
     "output_type": "display_data"
    }
   ],
   "source": [
    "((1+df_st.pct_change().dropna()).cumprod()-1).plot(figsize=(10, 8))"
   ]
  },
  {
   "cell_type": "markdown",
   "metadata": {
    "hidden": true
   },
   "source": [
    "**Desvio padrão do portfolio**\n",
    "\n",
    "- teoria de portfolio: construir portfolio que tem menor risco que qualquer ativo individual\n",
    "\n",
    "$$\\sigma_p = \\sqrt{w_1^2\\sigma_1^2 + w_2^2\\sigma_2^2 + 2w_1w_2\\rho_{1,2}\\sigma_1\\sigma_2}$$\n",
    "\n",
    "- $\\sigma_p$: desvio padrão do portfolio\n",
    "- $w$: peso do ativo\n",
    "- $\\sigma$: volatilidade do ativo\n",
    "- $\\rho_{1,2}$: correlação de pearson entre 1 e 2\n",
    "\n",
    "- mas se tiver mais ativos, podemos usar a matriz de covariância\n",
    "- correlação é medida normalizada da matriz de covariância\n",
    "- covariância mede a variabilidade conjunta de 2 variáveis randômicas\n",
    "- usada para otimização de portfolio e gerenciamento de risco"
   ]
  },
  {
   "cell_type": "code",
   "execution_count": 26,
   "metadata": {
    "ExecuteTime": {
     "end_time": "2020-04-12T18:08:13.594580Z",
     "start_time": "2020-04-12T18:08:13.390679Z"
    },
    "hidden": true
   },
   "outputs": [
    {
     "data": {
      "text/plain": [
       "<matplotlib.axes._subplots.AxesSubplot at 0x1f03b928548>"
      ]
     },
     "execution_count": 26,
     "metadata": {},
     "output_type": "execute_result"
    },
    {
     "data": {
      "image/png": "[encoded data removed]",
      "text/plain": [
       "<Figure size 432x288 with 2 Axes>"
      ]
     },
     "metadata": {
      "needs_background": "light"
     },
     "output_type": "display_data"
    }
   ],
   "source": [
    "# correlação de pearson \n",
    "sns.heatmap(df_st.iloc[:,:3].corr(), annot=True)"
   ]
  },
  {
   "cell_type": "code",
   "execution_count": 27,
   "metadata": {
    "ExecuteTime": {
     "end_time": "2020-04-12T18:15:03.281018Z",
     "start_time": "2020-04-12T18:15:03.269012Z"
    },
    "hidden": true
   },
   "outputs": [
    {
     "data": {
      "text/html": [
       "<div>\n",
       "<style scoped>\n",
       "    .dataframe tbody tr th:only-of-type {\n",
       "        vertical-align: middle;\n",
       "    }\n",
       "\n",
       "    .dataframe tbody tr th {\n",
       "        vertical-align: top;\n",
       "    }\n",
       "\n",
       "    .dataframe thead th {\n",
       "        text-align: right;\n",
       "    }\n",
       "</style>\n",
       "<table border=\"1\" class=\"dataframe\">\n",
       "  <thead>\n",
       "    <tr style=\"text-align: right;\">\n",
       "      <th></th>\n",
       "      <th>ITSA4.SA</th>\n",
       "      <th>FLRY3.SA</th>\n",
       "      <th>LREN3.SA</th>\n",
       "    </tr>\n",
       "  </thead>\n",
       "  <tbody>\n",
       "    <tr>\n",
       "      <td>ITSA4.SA</td>\n",
       "      <td>8.828744</td>\n",
       "      <td>21.810095</td>\n",
       "      <td>40.751818</td>\n",
       "    </tr>\n",
       "    <tr>\n",
       "      <td>FLRY3.SA</td>\n",
       "      <td>21.810095</td>\n",
       "      <td>68.059323</td>\n",
       "      <td>104.403973</td>\n",
       "    </tr>\n",
       "    <tr>\n",
       "      <td>LREN3.SA</td>\n",
       "      <td>40.751818</td>\n",
       "      <td>104.403973</td>\n",
       "      <td>201.949194</td>\n",
       "    </tr>\n",
       "  </tbody>\n",
       "</table>\n",
       "</div>"
      ],
      "text/plain": [
       "           ITSA4.SA    FLRY3.SA    LREN3.SA\n",
       "ITSA4.SA   8.828744   21.810095   40.751818\n",
       "FLRY3.SA  21.810095   68.059323  104.403973\n",
       "LREN3.SA  40.751818  104.403973  201.949194"
      ]
     },
     "execution_count": 27,
     "metadata": {},
     "output_type": "execute_result"
    }
   ],
   "source": [
    "# anualizando matriz de covariância\n",
    "cov_mat = df_st.iloc[:,:3].cov()\n",
    "cov_mat"
   ]
  },
  {
   "cell_type": "markdown",
   "metadata": {
    "hidden": true
   },
   "source": [
    "**Desvio padrão do portfolio utilizando covariância**\n",
    "\n",
    "- formula para volatilidade do portfolio:\n",
    "\n",
    "$$\\sigma_{portfolio} = \\sqrt{w_T \\cdot \\Sigma \\cdot w}$$\n",
    "\n",
    "- $\\sigma_{portfolio}$: volatilidade do portfolio\n",
    "- $\\Sigma$: matrix de covariância dos retornos\n",
    "- $w$: peso do portfolio"
   ]
  },
  {
   "cell_type": "code",
   "execution_count": 28,
   "metadata": {
    "ExecuteTime": {
     "end_time": "2020-04-12T18:15:38.498889Z",
     "start_time": "2020-04-12T18:15:38.493892Z"
    },
    "hidden": true
   },
   "outputs": [
    {
     "data": {
      "text/plain": [
       "9.472476424640341"
      ]
     },
     "execution_count": 28,
     "metadata": {},
     "output_type": "execute_result"
    }
   ],
   "source": [
    "# volatilidade diária do portfolio\n",
    "np.sqrt(np.dot(portfolio_weights.T, np.dot(cov_mat, portfolio_weights)))"
   ]
  },
  {
   "cell_type": "markdown",
   "metadata": {
    "heading_collapsed": true
   },
   "source": [
    "## 3. Factor Investing"
   ]
  },
  {
   "cell_type": "markdown",
   "metadata": {
    "hidden": true
   },
   "source": [
    "### Capital asset pricing model"
   ]
  },
  {
   "cell_type": "markdown",
   "metadata": {
    "hidden": true
   },
   "source": [
    "$$Excess Return = Return - Risk Free Return$$\n",
    "\n",
    "**Taxa livre de risco**\n",
    "\n",
    "- nível mínimo de rentabilidade\n",
    "- geralmente representado pela taxa de juros do país - selic\n",
    "\n",
    "**CAPM - Modelo de Precificação de Ativos Financeiros**\n",
    "\n",
    "- método analisa o risco e retorno de cada aplicação\n",
    "- existem 2 tipos de riscos:\n",
    "    - risco não diversificável: é aquele sobre o qual quem investe não tem controle, como incertezas políticas, oscilações da inflação ou até taxa de juros\n",
    "    - risco diversificável: é aquele sobre o qual a pessoa tem controle, e pode ser diminuído por meio da distribuição do patrimônio em ativos com graus de risco diferentes\n",
    "    \n",
    "- CAPM busca mensurar risco não diversificável (risco sistêmico)\n",
    "\n",
    "$$E(R_P) - RF = \\beta_p(E(R_M) - RF)$$\n",
    "\n",
    "- $E(R_P) - RF$: retorno esperado em excesso de uma ação ou portfolio $P$\n",
    "- $E(R_M) - RF$: retorno esperado em excesso da ampla portfolio de mercado $B$\n",
    "- $RF$: taxa livre de risco regional\n",
    "- $\\beta_P$: portfolio beta, ou exposição, ao amplo portfólio de mercado $B$\n",
    "\n",
    "**Cálculo do beta pela covariância**\n",
    "\n",
    "$$\\beta_P = \\frac{Cov(R_P, R_B)}{Var(R_B)}$$\n",
    "\n",
    "- $Cov(R_P, R_B)$: covariância entre o portfolio $P$ e o benchmark índice de mercado $B$\n",
    "- $Var(R_B)$: variância do benchmark índice de mercado"
   ]
  },
  {
   "cell_type": "code",
   "execution_count": 29,
   "metadata": {
    "ExecuteTime": {
     "end_time": "2020-04-18T17:34:06.068434Z",
     "start_time": "2020-04-18T17:34:06.039460Z"
    },
    "hidden": true
   },
   "outputs": [
    {
     "data": {
      "text/html": [
       "<div>\n",
       "<style scoped>\n",
       "    .dataframe tbody tr th:only-of-type {\n",
       "        vertical-align: middle;\n",
       "    }\n",
       "\n",
       "    .dataframe tbody tr th {\n",
       "        vertical-align: top;\n",
       "    }\n",
       "\n",
       "    .dataframe thead th {\n",
       "        text-align: right;\n",
       "    }\n",
       "</style>\n",
       "<table border=\"1\" class=\"dataframe\">\n",
       "  <thead>\n",
       "    <tr style=\"text-align: right;\">\n",
       "      <th></th>\n",
       "      <th>ITSA4.SA</th>\n",
       "      <th>FLRY3.SA</th>\n",
       "      <th>LREN3.SA</th>\n",
       "    </tr>\n",
       "    <tr>\n",
       "      <th>Date</th>\n",
       "      <th></th>\n",
       "      <th></th>\n",
       "      <th></th>\n",
       "    </tr>\n",
       "  </thead>\n",
       "  <tbody>\n",
       "    <tr>\n",
       "      <td>2010-01-05</td>\n",
       "      <td>-0.003234</td>\n",
       "      <td>-0.005525</td>\n",
       "      <td>-0.036025</td>\n",
       "    </tr>\n",
       "    <tr>\n",
       "      <td>2010-01-06</td>\n",
       "      <td>-0.012165</td>\n",
       "      <td>0.036111</td>\n",
       "      <td>-0.019329</td>\n",
       "    </tr>\n",
       "    <tr>\n",
       "      <td>2010-01-07</td>\n",
       "      <td>-0.005747</td>\n",
       "      <td>0.003217</td>\n",
       "      <td>-0.009200</td>\n",
       "    </tr>\n",
       "    <tr>\n",
       "      <td>2010-01-08</td>\n",
       "      <td>-0.007432</td>\n",
       "      <td>0.020310</td>\n",
       "      <td>0.005305</td>\n",
       "    </tr>\n",
       "    <tr>\n",
       "      <td>2010-01-11</td>\n",
       "      <td>-0.003327</td>\n",
       "      <td>0.008381</td>\n",
       "      <td>0.018471</td>\n",
       "    </tr>\n",
       "  </tbody>\n",
       "</table>\n",
       "</div>"
      ],
      "text/plain": [
       "            ITSA4.SA  FLRY3.SA  LREN3.SA\n",
       "Date                                    \n",
       "2010-01-05 -0.003234 -0.005525 -0.036025\n",
       "2010-01-06 -0.012165  0.036111 -0.019329\n",
       "2010-01-07 -0.005747  0.003217 -0.009200\n",
       "2010-01-08 -0.007432  0.020310  0.005305\n",
       "2010-01-11 -0.003327  0.008381  0.018471"
      ]
     },
     "execution_count": 29,
     "metadata": {},
     "output_type": "execute_result"
    }
   ],
   "source": [
    "df_return = df_st.pct_change().dropna().drop('portfolio', axis=1)\n",
    "df_return.head()"
   ]
  },
  {
   "cell_type": "code",
   "execution_count": 30,
   "metadata": {
    "ExecuteTime": {
     "end_time": "2020-04-18T17:39:20.428191Z",
     "start_time": "2020-04-18T17:39:18.433606Z"
    },
    "hidden": true
   },
   "outputs": [],
   "source": [
    "df_mkt = DataReader('^BVSP',\n",
    "                    data_source='yahoo',\n",
    "                    start='2010-1-1')['Adj Close']"
   ]
  },
  {
   "cell_type": "code",
   "execution_count": 31,
   "metadata": {
    "ExecuteTime": {
     "end_time": "2020-04-18T17:39:31.689735Z",
     "start_time": "2020-04-18T17:39:31.668728Z"
    },
    "hidden": true
   },
   "outputs": [],
   "source": [
    "df_mkt_return = df_mkt.pct_change().dropna()"
   ]
  },
  {
   "cell_type": "code",
   "execution_count": 32,
   "metadata": {
    "ExecuteTime": {
     "end_time": "2020-04-18T17:52:00.158053Z",
     "start_time": "2020-04-18T17:52:00.135067Z"
    },
    "hidden": true
   },
   "outputs": [],
   "source": [
    "df_return = df_st.pct_change().dropna()"
   ]
  },
  {
   "cell_type": "code",
   "execution_count": 33,
   "metadata": {
    "ExecuteTime": {
     "end_time": "2020-04-18T17:40:13.993706Z",
     "start_time": "2020-04-18T17:40:13.986740Z"
    },
    "hidden": true
   },
   "outputs": [],
   "source": [
    "selic_anual = 3.75\n",
    "risk_free = ((1 + (selic_anual)/100) ** (1/252)) - 1"
   ]
  },
  {
   "cell_type": "code",
   "execution_count": 34,
   "metadata": {},
   "outputs": [
    {
     "data": {
      "text/plain": [
       "0.00014609786618535736"
      ]
     },
     "execution_count": 34,
     "metadata": {},
     "output_type": "execute_result"
    }
   ],
   "source": [
    "risk_free"
   ]
  },
  {
   "cell_type": "code",
   "execution_count": 35,
   "metadata": {},
   "outputs": [
    {
     "data": {
      "text/html": [
       "<div>\n",
       "<style scoped>\n",
       "    .dataframe tbody tr th:only-of-type {\n",
       "        vertical-align: middle;\n",
       "    }\n",
       "\n",
       "    .dataframe tbody tr th {\n",
       "        vertical-align: top;\n",
       "    }\n",
       "\n",
       "    .dataframe thead th {\n",
       "        text-align: right;\n",
       "    }\n",
       "</style>\n",
       "<table border=\"1\" class=\"dataframe\">\n",
       "  <thead>\n",
       "    <tr style=\"text-align: right;\">\n",
       "      <th></th>\n",
       "      <th>ITSA4.SA</th>\n",
       "      <th>FLRY3.SA</th>\n",
       "      <th>LREN3.SA</th>\n",
       "      <th>portfolio</th>\n",
       "    </tr>\n",
       "    <tr>\n",
       "      <th>Date</th>\n",
       "      <th></th>\n",
       "      <th></th>\n",
       "      <th></th>\n",
       "      <th></th>\n",
       "    </tr>\n",
       "  </thead>\n",
       "  <tbody>\n",
       "    <tr>\n",
       "      <td>2010-01-05</td>\n",
       "      <td>-0.003234</td>\n",
       "      <td>-0.005525</td>\n",
       "      <td>-0.036025</td>\n",
       "      <td>-0.015671</td>\n",
       "    </tr>\n",
       "    <tr>\n",
       "      <td>2010-01-06</td>\n",
       "      <td>-0.012165</td>\n",
       "      <td>0.036111</td>\n",
       "      <td>-0.019329</td>\n",
       "      <td>-0.000026</td>\n",
       "    </tr>\n",
       "    <tr>\n",
       "      <td>2010-01-07</td>\n",
       "      <td>-0.005747</td>\n",
       "      <td>0.003217</td>\n",
       "      <td>-0.009200</td>\n",
       "      <td>-0.004116</td>\n",
       "    </tr>\n",
       "    <tr>\n",
       "      <td>2010-01-08</td>\n",
       "      <td>-0.007432</td>\n",
       "      <td>0.020310</td>\n",
       "      <td>0.005305</td>\n",
       "      <td>0.005717</td>\n",
       "    </tr>\n",
       "    <tr>\n",
       "      <td>2010-01-11</td>\n",
       "      <td>-0.003327</td>\n",
       "      <td>0.008381</td>\n",
       "      <td>0.018471</td>\n",
       "      <td>0.007896</td>\n",
       "    </tr>\n",
       "  </tbody>\n",
       "</table>\n",
       "</div>"
      ],
      "text/plain": [
       "            ITSA4.SA  FLRY3.SA  LREN3.SA  portfolio\n",
       "Date                                               \n",
       "2010-01-05 -0.003234 -0.005525 -0.036025  -0.015671\n",
       "2010-01-06 -0.012165  0.036111 -0.019329  -0.000026\n",
       "2010-01-07 -0.005747  0.003217 -0.009200  -0.004116\n",
       "2010-01-08 -0.007432  0.020310  0.005305   0.005717\n",
       "2010-01-11 -0.003327  0.008381  0.018471   0.007896"
      ]
     },
     "execution_count": 35,
     "metadata": {},
     "output_type": "execute_result"
    }
   ],
   "source": [
    "df_return.head()"
   ]
  },
  {
   "cell_type": "code",
   "execution_count": 36,
   "metadata": {
    "ExecuteTime": {
     "end_time": "2020-04-18T17:52:05.973664Z",
     "start_time": "2020-04-18T17:52:05.955675Z"
    },
    "hidden": true
   },
   "outputs": [],
   "source": [
    "df_portfolio = df_return.loc[:, 'portfolio'].to_frame()\n",
    "df_portfolio['portfolio_excess'] = df_return['portfolio'] - risk_free"
   ]
  },
  {
   "cell_type": "code",
   "execution_count": 37,
   "metadata": {},
   "outputs": [
    {
     "data": {
      "text/html": [
       "<div>\n",
       "<style scoped>\n",
       "    .dataframe tbody tr th:only-of-type {\n",
       "        vertical-align: middle;\n",
       "    }\n",
       "\n",
       "    .dataframe tbody tr th {\n",
       "        vertical-align: top;\n",
       "    }\n",
       "\n",
       "    .dataframe thead th {\n",
       "        text-align: right;\n",
       "    }\n",
       "</style>\n",
       "<table border=\"1\" class=\"dataframe\">\n",
       "  <thead>\n",
       "    <tr style=\"text-align: right;\">\n",
       "      <th></th>\n",
       "      <th>portfolio</th>\n",
       "      <th>portfolio_excess</th>\n",
       "    </tr>\n",
       "    <tr>\n",
       "      <th>Date</th>\n",
       "      <th></th>\n",
       "      <th></th>\n",
       "    </tr>\n",
       "  </thead>\n",
       "  <tbody>\n",
       "    <tr>\n",
       "      <td>2010-01-05</td>\n",
       "      <td>-0.015671</td>\n",
       "      <td>-0.015818</td>\n",
       "    </tr>\n",
       "    <tr>\n",
       "      <td>2010-01-06</td>\n",
       "      <td>-0.000026</td>\n",
       "      <td>-0.000173</td>\n",
       "    </tr>\n",
       "    <tr>\n",
       "      <td>2010-01-07</td>\n",
       "      <td>-0.004116</td>\n",
       "      <td>-0.004262</td>\n",
       "    </tr>\n",
       "    <tr>\n",
       "      <td>2010-01-08</td>\n",
       "      <td>0.005717</td>\n",
       "      <td>0.005571</td>\n",
       "    </tr>\n",
       "    <tr>\n",
       "      <td>2010-01-11</td>\n",
       "      <td>0.007896</td>\n",
       "      <td>0.007750</td>\n",
       "    </tr>\n",
       "  </tbody>\n",
       "</table>\n",
       "</div>"
      ],
      "text/plain": [
       "            portfolio  portfolio_excess\n",
       "Date                                   \n",
       "2010-01-05  -0.015671         -0.015818\n",
       "2010-01-06  -0.000026         -0.000173\n",
       "2010-01-07  -0.004116         -0.004262\n",
       "2010-01-08   0.005717          0.005571\n",
       "2010-01-11   0.007896          0.007750"
      ]
     },
     "execution_count": 37,
     "metadata": {},
     "output_type": "execute_result"
    }
   ],
   "source": [
    "df_portfolio.head()"
   ]
  },
  {
   "cell_type": "code",
   "execution_count": 38,
   "metadata": {
    "ExecuteTime": {
     "end_time": "2020-04-18T18:34:56.591547Z",
     "start_time": "2020-04-18T18:34:55.330291Z"
    },
    "hidden": true
   },
   "outputs": [
    {
     "data": {
      "text/plain": [
       "<matplotlib.axes._subplots.AxesSubplot at 0x1f03bccb4c8>"
      ]
     },
     "execution_count": 38,
     "metadata": {},
     "output_type": "execute_result"
    },
    {
     "data": {
      "image/png": "[encoded data removed]",
      "text/plain": [
       "<Figure size 432x288 with 1 Axes>"
      ]
     },
     "metadata": {
      "needs_background": "light"
     },
     "output_type": "display_data"
    }
   ],
   "source": [
    "# Plot returns vs excess returns\n",
    "df_cumulative_returns = ((1+(df_portfolio)).cumprod()-1)\n",
    "df_cumulative_returns.plot()"
   ]
  },
  {
   "cell_type": "code",
   "execution_count": 39,
   "metadata": {
    "ExecuteTime": {
     "end_time": "2020-04-18T17:41:19.023404Z",
     "start_time": "2020-04-18T17:41:19.004398Z"
    },
    "hidden": true
   },
   "outputs": [
    {
     "data": {
      "text/html": [
       "<div>\n",
       "<style scoped>\n",
       "    .dataframe tbody tr th:only-of-type {\n",
       "        vertical-align: middle;\n",
       "    }\n",
       "\n",
       "    .dataframe tbody tr th {\n",
       "        vertical-align: top;\n",
       "    }\n",
       "\n",
       "    .dataframe thead th {\n",
       "        text-align: right;\n",
       "    }\n",
       "</style>\n",
       "<table border=\"1\" class=\"dataframe\">\n",
       "  <thead>\n",
       "    <tr style=\"text-align: right;\">\n",
       "      <th></th>\n",
       "      <th>portfolio_excess</th>\n",
       "      <th>market_excess</th>\n",
       "    </tr>\n",
       "    <tr>\n",
       "      <th>Date</th>\n",
       "      <th></th>\n",
       "      <th></th>\n",
       "    </tr>\n",
       "  </thead>\n",
       "  <tbody>\n",
       "    <tr>\n",
       "      <td>2010-01-05</td>\n",
       "      <td>-0.015818</td>\n",
       "      <td>0.002638</td>\n",
       "    </tr>\n",
       "    <tr>\n",
       "      <td>2010-01-06</td>\n",
       "      <td>-0.000173</td>\n",
       "      <td>0.006816</td>\n",
       "    </tr>\n",
       "    <tr>\n",
       "      <td>2010-01-07</td>\n",
       "      <td>-0.004262</td>\n",
       "      <td>-0.004077</td>\n",
       "    </tr>\n",
       "    <tr>\n",
       "      <td>2010-01-08</td>\n",
       "      <td>0.005571</td>\n",
       "      <td>-0.002815</td>\n",
       "    </tr>\n",
       "    <tr>\n",
       "      <td>2010-01-11</td>\n",
       "      <td>0.007750</td>\n",
       "      <td>0.002273</td>\n",
       "    </tr>\n",
       "  </tbody>\n",
       "</table>\n",
       "</div>"
      ],
      "text/plain": [
       "            portfolio_excess  market_excess\n",
       "Date                                       \n",
       "2010-01-05         -0.015818       0.002638\n",
       "2010-01-06         -0.000173       0.006816\n",
       "2010-01-07         -0.004262      -0.004077\n",
       "2010-01-08          0.005571      -0.002815\n",
       "2010-01-11          0.007750       0.002273"
      ]
     },
     "execution_count": 39,
     "metadata": {},
     "output_type": "execute_result"
    }
   ],
   "source": [
    "df_capm = pd.concat([df_return['portfolio'] - risk_free,\n",
    "                     df_mkt_return - risk_free], axis=1)\n",
    "df_capm.columns = ['portfolio_excess', 'market_excess']\n",
    "df_capm.head()"
   ]
  },
  {
   "cell_type": "code",
   "execution_count": 40,
   "metadata": {
    "ExecuteTime": {
     "end_time": "2020-04-18T17:41:42.671335Z",
     "start_time": "2020-04-18T17:41:42.501222Z"
    },
    "hidden": true
   },
   "outputs": [],
   "source": [
    "import statsmodels.formula.api as smf"
   ]
  },
  {
   "cell_type": "code",
   "execution_count": 41,
   "metadata": {
    "ExecuteTime": {
     "end_time": "2020-04-18T17:43:30.847653Z",
     "start_time": "2020-04-18T17:43:30.828662Z"
    },
    "hidden": true
   },
   "outputs": [
    {
     "name": "stdout",
     "output_type": "stream",
     "text": [
      "0.9182192303152726\n"
     ]
    }
   ],
   "source": [
    "# calculo do beta pela regressao linear\n",
    "\n",
    "model = smf.ols('portfolio_excess ~ market_excess', data=df_capm)\n",
    "fit = model.fit()\n",
    "\n",
    "beta = fit.params['market_excess']\n",
    "print(beta)"
   ]
  },
  {
   "cell_type": "code",
   "execution_count": 42,
   "metadata": {
    "ExecuteTime": {
     "end_time": "2020-04-18T17:44:06.102914Z",
     "start_time": "2020-04-18T17:44:06.079924Z"
    },
    "hidden": true,
    "scrolled": true
   },
   "outputs": [
    {
     "data": {
      "text/html": [
       "<table class=\"simpletable\">\n",
       "<caption>OLS Regression Results</caption>\n",
       "<tr>\n",
       "  <th>Dep. Variable:</th>    <td>portfolio_excess</td> <th>  R-squared:         </th> <td>   0.016</td>\n",
       "</tr>\n",
       "<tr>\n",
       "  <th>Model:</th>                   <td>OLS</td>       <th>  Adj. R-squared:    </th> <td>   0.016</td>\n",
       "</tr>\n",
       "<tr>\n",
       "  <th>Method:</th>             <td>Least Squares</td>  <th>  F-statistic:       </th> <td>   42.13</td>\n",
       "</tr>\n",
       "<tr>\n",
       "  <th>Date:</th>             <td>Fri, 24 Jul 2020</td> <th>  Prob (F-statistic):</th> <td>1.02e-10</td>\n",
       "</tr>\n",
       "<tr>\n",
       "  <th>Time:</th>                 <td>17:59:38</td>     <th>  Log-Likelihood:    </th> <td>  1927.0</td>\n",
       "</tr>\n",
       "<tr>\n",
       "  <th>No. Observations:</th>      <td>  2597</td>      <th>  AIC:               </th> <td>  -3850.</td>\n",
       "</tr>\n",
       "<tr>\n",
       "  <th>Df Residuals:</th>          <td>  2595</td>      <th>  BIC:               </th> <td>  -3838.</td>\n",
       "</tr>\n",
       "<tr>\n",
       "  <th>Df Model:</th>              <td>     1</td>      <th>                     </th>     <td> </td>   \n",
       "</tr>\n",
       "<tr>\n",
       "  <th>Covariance Type:</th>      <td>nonrobust</td>    <th>                     </th>     <td> </td>   \n",
       "</tr>\n",
       "</table>\n",
       "<table class=\"simpletable\">\n",
       "<tr>\n",
       "        <td></td>           <th>coef</th>     <th>std err</th>      <th>t</th>      <th>P>|t|</th>  <th>[0.025</th>    <th>0.975]</th>  \n",
       "</tr>\n",
       "<tr>\n",
       "  <th>Intercept</th>     <td>    0.0037</td> <td>    0.002</td> <td>    1.627</td> <td> 0.104</td> <td>   -0.001</td> <td>    0.008</td>\n",
       "</tr>\n",
       "<tr>\n",
       "  <th>market_excess</th> <td>    0.9182</td> <td>    0.141</td> <td>    6.491</td> <td> 0.000</td> <td>    0.641</td> <td>    1.196</td>\n",
       "</tr>\n",
       "</table>\n",
       "<table class=\"simpletable\">\n",
       "<tr>\n",
       "  <th>Omnibus:</th>       <td>6408.622</td> <th>  Durbin-Watson:     </th>   <td>   2.442</td>  \n",
       "</tr>\n",
       "<tr>\n",
       "  <th>Prob(Omnibus):</th>  <td> 0.000</td>  <th>  Jarque-Bera (JB):  </th> <td>60093674.617</td>\n",
       "</tr>\n",
       "<tr>\n",
       "  <th>Skew:</th>           <td>25.896</td>  <th>  Prob(JB):          </th>   <td>    0.00</td>  \n",
       "</tr>\n",
       "<tr>\n",
       "  <th>Kurtosis:</th>       <td>746.417</td> <th>  Cond. No.          </th>   <td>    62.5</td>  \n",
       "</tr>\n",
       "</table><br/><br/>Warnings:<br/>[1] Standard Errors assume that the covariance matrix of the errors is correctly specified."
      ],
      "text/plain": [
       "<class 'statsmodels.iolib.summary.Summary'>\n",
       "\"\"\"\n",
       "                            OLS Regression Results                            \n",
       "==============================================================================\n",
       "Dep. Variable:       portfolio_excess   R-squared:                       0.016\n",
       "Model:                            OLS   Adj. R-squared:                  0.016\n",
       "Method:                 Least Squares   F-statistic:                     42.13\n",
       "Date:                Fri, 24 Jul 2020   Prob (F-statistic):           1.02e-10\n",
       "Time:                        17:59:38   Log-Likelihood:                 1927.0\n",
       "No. Observations:                2597   AIC:                            -3850.\n",
       "Df Residuals:                    2595   BIC:                            -3838.\n",
       "Df Model:                           1                                         \n",
       "Covariance Type:            nonrobust                                         \n",
       "=================================================================================\n",
       "                    coef    std err          t      P>|t|      [0.025      0.975]\n",
       "---------------------------------------------------------------------------------\n",
       "Intercept         0.0037      0.002      1.627      0.104      -0.001       0.008\n",
       "market_excess     0.9182      0.141      6.491      0.000       0.641       1.196\n",
       "==============================================================================\n",
       "Omnibus:                     6408.622   Durbin-Watson:                   2.442\n",
       "Prob(Omnibus):                  0.000   Jarque-Bera (JB):         60093674.617\n",
       "Skew:                          25.896   Prob(JB):                         0.00\n",
       "Kurtosis:                     746.417   Cond. No.                         62.5\n",
       "==============================================================================\n",
       "\n",
       "Warnings:\n",
       "[1] Standard Errors assume that the covariance matrix of the errors is correctly specified.\n",
       "\"\"\""
      ]
     },
     "execution_count": 42,
     "metadata": {},
     "output_type": "execute_result"
    }
   ],
   "source": [
    "fit.summary()"
   ]
  },
  {
   "cell_type": "code",
   "execution_count": 43,
   "metadata": {
    "ExecuteTime": {
     "end_time": "2020-04-18T17:46:14.056854Z",
     "start_time": "2020-04-18T17:46:14.048843Z"
    },
    "hidden": true
   },
   "outputs": [
    {
     "data": {
      "text/plain": [
       "0.9181174728491251"
      ]
     },
     "execution_count": 43,
     "metadata": {},
     "output_type": "execute_result"
    }
   ],
   "source": [
    "# calculo do beta pela covariância\n",
    "df_capm.cov().iloc[0, 1] / df_capm['market_excess'].var()"
   ]
  },
  {
   "cell_type": "markdown",
   "metadata": {
    "heading_collapsed": true
   },
   "source": [
    "## 4. Value at risk"
   ]
  },
  {
   "cell_type": "markdown",
   "metadata": {
    "hidden": true
   },
   "source": [
    "Para calcular o VaR historico em um certo nivel, como 5%, basta achar o numero tal que 5% dos retornos caem abaixo desse numero e 95% caem acima. Queremos, então, o percentil 5 dos retornos.\n",
    "\n",
    "**Exemplos**\n",
    "- 1-dia 5% VaR de R\\$1 mi.\n",
    "    - Prob. 5% que o portfolio vai perder R$1 mi. ou mais de valor em um período de 1 dia\n",
    "    \n",
    "- 10-dias 1% VaR de R\\$9 mi.\n",
    "    - Prob. 1% que o portfolio vai perder R$9 mi. ou mais de valor em um período de 10 dias\n",
    "\n",
    "**Estimando tail risk**\n",
    "- O risco de cauda é o risco de resultados extremos de investimento, principalmente no lado negativo de uma distribuição (cauda da esquerda)\n",
    "\n",
    "    - historical drawdown\n",
    "    - value at risk\n",
    "    - conditional value at risk\n",
    "    - monte-carlo simulation\n",
    "\n",
    "**Historical drawdown**\n",
    "\n",
    "- perda percentual do ponto histórico acumulado mais alto\n",
    "\n",
    "$$Drawdown = \\frac{r_t}{RM} - 1$$\n",
    "\n",
    "- $r_t$: retorno cumulativo no tempo t\n",
    "- $RM$: running maximum\n",
    "\n",
    "**Historical value at risk**\n",
    "\n",
    "- VaR é um limiar com um dado nível de confiança que as perdas não excederam um certo nível históricamente\n",
    "- Ex.: VaR(95) = -2,3%: 95% de certeza que as perdas não irão exceder -2,3% em um único dia dados valores históricos"
   ]
  },
  {
   "cell_type": "code",
   "execution_count": 44,
   "metadata": {
    "ExecuteTime": {
     "end_time": "2020-04-18T18:35:51.001849Z",
     "start_time": "2020-04-18T18:35:50.996852Z"
    },
    "hidden": true
   },
   "outputs": [],
   "source": [
    "running_max = np.maximum.accumulate(df_cumulative_returns)"
   ]
  },
  {
   "cell_type": "code",
   "execution_count": 45,
   "metadata": {
    "ExecuteTime": {
     "end_time": "2020-04-18T18:36:22.723733Z",
     "start_time": "2020-04-18T18:36:22.715738Z"
    },
    "hidden": true
   },
   "outputs": [],
   "source": [
    "# certificando que valor nunca seja abaixo de 1\n",
    "running_max[running_max < 1] = 1"
   ]
  },
  {
   "cell_type": "code",
   "execution_count": 46,
   "metadata": {
    "ExecuteTime": {
     "end_time": "2020-04-18T18:37:20.936816Z",
     "start_time": "2020-04-18T18:37:20.930819Z"
    },
    "hidden": true
   },
   "outputs": [],
   "source": [
    "drawdown = (df_cumulative_returns)/running_max - 1"
   ]
  },
  {
   "cell_type": "code",
   "execution_count": 47,
   "metadata": {
    "ExecuteTime": {
     "end_time": "2020-04-18T18:37:21.577343Z",
     "start_time": "2020-04-18T18:37:21.409441Z"
    },
    "hidden": true
   },
   "outputs": [
    {
     "data": {
      "text/plain": [
       "<matplotlib.axes._subplots.AxesSubplot at 0x1f0392b94c8>"
      ]
     },
     "execution_count": 47,
     "metadata": {},
     "output_type": "execute_result"
    },
    {
     "data": {
      "image/png": "[encoded data removed]",
      "text/plain": [
       "<Figure size 432x288 with 1 Axes>"
      ]
     },
     "metadata": {
      "needs_background": "light"
     },
     "output_type": "display_data"
    }
   ],
   "source": [
    "drawdown['portfolio'].plot()"
   ]
  },
  {
   "cell_type": "code",
   "execution_count": 48,
   "metadata": {
    "ExecuteTime": {
     "end_time": "2020-04-18T18:42:50.916668Z",
     "start_time": "2020-04-18T18:42:50.907674Z"
    },
    "hidden": true
   },
   "outputs": [],
   "source": [
    "var_95 = df_return['portfolio'].quantile(.05)"
   ]
  },
  {
   "cell_type": "code",
   "execution_count": 51,
   "metadata": {},
   "outputs": [
    {
     "data": {
      "text/html": [
       "<div>\n",
       "<style scoped>\n",
       "    .dataframe tbody tr th:only-of-type {\n",
       "        vertical-align: middle;\n",
       "    }\n",
       "\n",
       "    .dataframe tbody tr th {\n",
       "        vertical-align: top;\n",
       "    }\n",
       "\n",
       "    .dataframe thead th {\n",
       "        text-align: right;\n",
       "    }\n",
       "</style>\n",
       "<table border=\"1\" class=\"dataframe\">\n",
       "  <thead>\n",
       "    <tr style=\"text-align: right;\">\n",
       "      <th></th>\n",
       "      <th>ITSA4.SA</th>\n",
       "      <th>FLRY3.SA</th>\n",
       "      <th>LREN3.SA</th>\n",
       "      <th>portfolio</th>\n",
       "    </tr>\n",
       "    <tr>\n",
       "      <th>Date</th>\n",
       "      <th></th>\n",
       "      <th></th>\n",
       "      <th></th>\n",
       "      <th></th>\n",
       "    </tr>\n",
       "  </thead>\n",
       "  <tbody>\n",
       "    <tr>\n",
       "      <td>2010-01-05</td>\n",
       "      <td>-0.003234</td>\n",
       "      <td>-0.005525</td>\n",
       "      <td>-0.036025</td>\n",
       "      <td>-0.015671</td>\n",
       "    </tr>\n",
       "    <tr>\n",
       "      <td>2010-01-06</td>\n",
       "      <td>-0.012165</td>\n",
       "      <td>0.036111</td>\n",
       "      <td>-0.019329</td>\n",
       "      <td>-0.000026</td>\n",
       "    </tr>\n",
       "    <tr>\n",
       "      <td>2010-01-07</td>\n",
       "      <td>-0.005747</td>\n",
       "      <td>0.003217</td>\n",
       "      <td>-0.009200</td>\n",
       "      <td>-0.004116</td>\n",
       "    </tr>\n",
       "    <tr>\n",
       "      <td>2010-01-08</td>\n",
       "      <td>-0.007432</td>\n",
       "      <td>0.020310</td>\n",
       "      <td>0.005305</td>\n",
       "      <td>0.005717</td>\n",
       "    </tr>\n",
       "    <tr>\n",
       "      <td>2010-01-11</td>\n",
       "      <td>-0.003327</td>\n",
       "      <td>0.008381</td>\n",
       "      <td>0.018471</td>\n",
       "      <td>0.007896</td>\n",
       "    </tr>\n",
       "  </tbody>\n",
       "</table>\n",
       "</div>"
      ],
      "text/plain": [
       "            ITSA4.SA  FLRY3.SA  LREN3.SA  portfolio\n",
       "Date                                               \n",
       "2010-01-05 -0.003234 -0.005525 -0.036025  -0.015671\n",
       "2010-01-06 -0.012165  0.036111 -0.019329  -0.000026\n",
       "2010-01-07 -0.005747  0.003217 -0.009200  -0.004116\n",
       "2010-01-08 -0.007432  0.020310  0.005305   0.005717\n",
       "2010-01-11 -0.003327  0.008381  0.018471   0.007896"
      ]
     },
     "execution_count": 51,
     "metadata": {},
     "output_type": "execute_result"
    }
   ],
   "source": [
    "df_return.head()"
   ]
  },
  {
   "cell_type": "code",
   "execution_count": 49,
   "metadata": {
    "ExecuteTime": {
     "end_time": "2020-04-18T18:45:34.888048Z",
     "start_time": "2020-04-18T18:45:31.094262Z"
    },
    "hidden": true
   },
   "outputs": [
    {
     "data": {
      "image/png": "[encoded data removed]",
      "text/plain": [
       "<Figure size 432x288 with 1 Axes>"
      ]
     },
     "metadata": {
      "needs_background": "light"
     },
     "output_type": "display_data"
    }
   ],
   "source": [
    "plt.hist(df_return['portfolio'].sort_values(), density=True, bins=1000)\n",
    "\n",
    "plt.axvline(x=var_95, color='r', linestyle='-',\n",
    "            label=\"VaR 95: {0:.2f}%\".format(var_95))\n",
    "\n",
    "plt.xlim((-0.25, 0.25))\n",
    "plt.legend()\n",
    "plt.show()"
   ]
  },
  {
   "cell_type": "code",
   "execution_count": 50,
   "metadata": {},
   "outputs": [],
   "source": [
    "def drawdown(return_series: pd.Series):\n",
    "    \"\"\"Takes a time series of asset returns.\n",
    "       returns a DataFrame with columns for\n",
    "       the wealth index, \n",
    "       the previous peaks, and \n",
    "       the percentage drawdown\n",
    "    \"\"\"\n",
    "    wealth_index = 1000*(1+return_series).cumprod()\n",
    "    previous_peaks = wealth_index.cummax()\n",
    "    drawdowns = (wealth_index - previous_peaks)/previous_peaks\n",
    "    return pd.DataFrame({\"Wealth\": wealth_index, \n",
    "                         \"Previous Peak\": previous_peaks, \n",
    "                         \"Drawdown\": drawdowns})"
   ]
  },
  {
   "cell_type": "code",
   "execution_count": null,
   "metadata": {},
   "outputs": [],
   "source": []
  }
 ],
 "metadata": {
  "kernelspec": {
   "display_name": "Python 3",
   "language": "python",
   "name": "python3"
  },
  "language_info": {
   "codemirror_mode": {
    "name": "ipython",
    "version": 3
   },
   "file_extension": ".py",
   "mimetype": "text/x-python",
   "name": "python",
   "nbconvert_exporter": "python",
   "pygments_lexer": "ipython3",
   "version": "3.7.4"
  }
 },
 "nbformat": 4,
 "nbformat_minor": 2
}
