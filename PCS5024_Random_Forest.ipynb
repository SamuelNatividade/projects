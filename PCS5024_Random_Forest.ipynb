{
 "cells": [
  {
   "cell_type": "code",
   "execution_count": 78,
   "metadata": {},
   "outputs": [],
   "source": [
    "import pandas as pd\n",
    "import numpy as np\n",
    "import seaborn as sn\n",
    "import matplotlib.pyplot as plt"
   ]
  },
  {
   "cell_type": "code",
   "execution_count": 79,
   "metadata": {},
   "outputs": [],
   "source": [
    "## url das bases de dados\n",
    "url_adult_train = 'http://archive.ics.uci.edu/ml/machine-learning-databases/adult/adult.data'\n",
    "url_adult_test = 'http://archive.ics.uci.edu/ml/machine-learning-databases/adult/adult.test'"
   ]
  },
  {
   "cell_type": "code",
   "execution_count": 80,
   "metadata": {},
   "outputs": [],
   "source": [
    "## lendo os dados em python\n",
    "adult_train = pd.read_csv(url_adult_train, sep=',',header=None)\n",
    "adult_test = pd.read_csv(url_adult_test, sep=',',skiprows=1,header=None)"
   ]
  },
  {
   "cell_type": "code",
   "execution_count": 81,
   "metadata": {},
   "outputs": [],
   "source": [
    "## dados estão sem cabeçalho, temos que colocar as colunas nos dataframes\n",
    "columns = ['age','workclass','fnlwgt','education','education_num','marital_status',\n",
    "           'occupation','relationship','race','sex','capital_gain','capital_loss',\n",
    "           'hours_per_week','country','income_higher_than_50k']\n",
    "\n",
    "adult_train.columns = columns\n",
    "adult_test.columns = columns"
   ]
  },
  {
   "cell_type": "code",
   "execution_count": 82,
   "metadata": {},
   "outputs": [],
   "source": [
    "# retirando os valores ?\n",
    "adult_train = adult_train.replace(' ?', np.NaN, inplace=False)\n",
    "adult_test = adult_test.replace(' ?', np.NaN, inplace=False)"
   ]
  },
  {
   "cell_type": "code",
   "execution_count": 83,
   "metadata": {},
   "outputs": [],
   "source": [
    "## Conforme documentação do próprio site, a coluna fnlwgt não tem função descrição nenhuma.\n",
    "## coluna education assim como a coluna education-num representam a mesma informação, vamos trabalhar com a coluna education-num e retirar a education\n",
    "adult_train = adult_train.drop(['fnlwgt', 'education'], axis = 1)\n",
    "adult_test = adult_test.drop(['fnlwgt', 'education'], axis = 1)"
   ]
  },
  {
   "cell_type": "code",
   "execution_count": 84,
   "metadata": {},
   "outputs": [],
   "source": [
    "### Preprocessamento dos dados \n",
    "rforest_adult_train = adult_train.copy()\n",
    "rforest_adult_test = adult_test.copy()"
   ]
  },
  {
   "cell_type": "code",
   "execution_count": 85,
   "metadata": {},
   "outputs": [],
   "source": [
    "## determinando o valor de y que o se a pessoal tem um income > que 50k\n",
    "## retirando o valor de y da base de treino\n",
    "colunas_categoricas = adult_train.select_dtypes('object').columns.tolist()"
   ]
  },
  {
   "cell_type": "code",
   "execution_count": 86,
   "metadata": {},
   "outputs": [],
   "source": [
    "from sklearn.preprocessing import LabelEncoder\n",
    "\n",
    "label = LabelEncoder()\n",
    "for column in colunas_categoricas:\n",
    "   rforest_adult_train[column] = label.fit_transform(rforest_adult_train[column])"
   ]
  },
  {
   "cell_type": "code",
   "execution_count": 87,
   "metadata": {},
   "outputs": [],
   "source": [
    "## retirando o valor de y da base de treino\n",
    "y = rforest_adult_train['income_higher_than_50k']\n",
    "rforest_adult_train.drop(['income_higher_than_50k'], axis = 1, inplace = True)"
   ]
  },
  {
   "cell_type": "code",
   "execution_count": 88,
   "metadata": {},
   "outputs": [],
   "source": [
    "from sklearn.ensemble import RandomForestClassifier\n",
    "from sklearn.model_selection import StratifiedKFold, train_test_split\n",
    "\n",
    "\n",
    "## agora iremos alocar 30% do dados de treino para o houldout e 70% do dados de treino para base de treino\n",
    "X_train, X_holdout, y_train, y_holdout = train_test_split(\n",
    "    rforest_adult_train, y, test_size=0.3, random_state=17\n",
    ")\n",
    "# intanciando a classe\n",
    "random_forest_ = RandomForestClassifier() ## estimador"
   ]
  },
  {
   "cell_type": "code",
   "execution_count": 89,
   "metadata": {},
   "outputs": [],
   "source": [
    "random_forest = random_forest_.fit(X_train, y_train)"
   ]
  },
  {
   "cell_type": "code",
   "execution_count": 90,
   "metadata": {},
   "outputs": [],
   "source": [
    "y_pred = random_forest.predict(X_holdout)"
   ]
  },
  {
   "cell_type": "code",
   "execution_count": 91,
   "metadata": {},
   "outputs": [
    {
     "name": "stdout",
     "output_type": "stream",
     "text": [
      "Modelo de Decision tree para dados de Holdout\n",
      "Acuracia Holdout: 0.8483979936533934\n",
      "Precisão Holdout: 0.6222689075630252\n",
      "Revocacao Holdout: 0.7178865729520116\n",
      "f1_score Holdout: 0.6666666666666667\n"
     ]
    }
   ],
   "source": [
    "from sklearn.metrics import precision_score\n",
    "from sklearn.metrics import accuracy_score\n",
    "from sklearn.metrics import recall_score\n",
    "from sklearn.metrics import f1_score\n",
    "\n",
    "print('Modelo de Decision tree para dados de Holdout')\n",
    "print('Acuracia Holdout:', accuracy_score(y_pred, y_holdout))\n",
    "print('Precisão Holdout:', precision_score(y_pred, y_holdout))\n",
    "print('Revocacao Holdout:', recall_score(y_pred, y_holdout))\n",
    "print('f1_score Holdout:', f1_score(y_pred, y_holdout))"
   ]
  },
  {
   "cell_type": "code",
   "execution_count": 92,
   "metadata": {},
   "outputs": [],
   "source": [
    "### tuning parameters\n",
    "param_grid = {'max_features': ['auto', 'sqrt', 'log2'],\n",
    "            'max_depth' : [4,5,6,7,8],\n",
    "            'criterion' :['gini', 'entropy']\n",
    "}"
   ]
  },
  {
   "cell_type": "code",
   "execution_count": 93,
   "metadata": {},
   "outputs": [
    {
     "data": {
      "text/plain": [
       "GridSearchCV(cv=5, estimator=RandomForestClassifier(),\n",
       "             param_grid={'criterion': ['gini', 'entropy'],\n",
       "                         'max_depth': [4, 5, 6, 7, 8],\n",
       "                         'max_features': ['auto', 'sqrt', 'log2']})"
      ]
     },
     "execution_count": 93,
     "metadata": {},
     "output_type": "execute_result"
    }
   ],
   "source": [
    "# tunando random forest para a base de treino\n",
    "from sklearn.model_selection import GridSearchCV\n",
    "random_forest_cv = GridSearchCV(estimator = random_forest_, param_grid= param_grid, cv = 5)\n",
    "random_forest_cv.fit(X_train, y_train)"
   ]
  },
  {
   "cell_type": "code",
   "execution_count": 94,
   "metadata": {},
   "outputs": [
    {
     "data": {
      "text/plain": [
       "{'criterion': 'entropy', 'max_depth': 8, 'max_features': 'log2'}"
      ]
     },
     "execution_count": 94,
     "metadata": {},
     "output_type": "execute_result"
    }
   ],
   "source": [
    "best_params_rf = random_forest_cv.best_params_\n",
    "random_forest_cv.best_params_"
   ]
  },
  {
   "cell_type": "code",
   "execution_count": 95,
   "metadata": {},
   "outputs": [
    {
     "data": {
      "text/plain": [
       "RandomForestClassifier(criterion='entropy', max_depth=8, max_features='log2')"
      ]
     },
     "execution_count": 95,
     "metadata": {},
     "output_type": "execute_result"
    }
   ],
   "source": [
    "random_forest_best = RandomForestClassifier(**best_params_rf)\n",
    "random_forest_best.fit(X_train, y_train)"
   ]
  },
  {
   "cell_type": "code",
   "execution_count": 96,
   "metadata": {},
   "outputs": [],
   "source": [
    "y_pred = random_forest_best.predict(X_holdout)"
   ]
  },
  {
   "cell_type": "code",
   "execution_count": 97,
   "metadata": {},
   "outputs": [
    {
     "name": "stdout",
     "output_type": "stream",
     "text": [
      "Modelo de Decision tree para dados de Holdout\n",
      "Acuracia Holdout: 0.8592486436687481\n",
      "Precisão Holdout: 0.5428571428571428\n",
      "Revocacao Holdout: 0.818239392020266\n",
      "f1_score Holdout: 0.6526900732508208\n"
     ]
    }
   ],
   "source": [
    "print('Modelo de Decision tree para dados de Holdout')\n",
    "print('Acuracia Holdout:', accuracy_score(y_pred, y_holdout))\n",
    "print('Precisão Holdout:', precision_score(y_pred, y_holdout))\n",
    "print('Revocacao Holdout:', recall_score(y_pred, y_holdout))\n",
    "print('f1_score Holdout:', f1_score(y_pred, y_holdout))"
   ]
  },
  {
   "cell_type": "code",
   "execution_count": 98,
   "metadata": {},
   "outputs": [],
   "source": [
    "## Para base de testes\n",
    "## encoding\n",
    "for column in colunas_categoricas:\n",
    "   rforest_adult_test[column] = label.fit_transform(rforest_adult_test[column])"
   ]
  },
  {
   "cell_type": "code",
   "execution_count": 99,
   "metadata": {},
   "outputs": [],
   "source": [
    "## retirando o valor de y da base de treino\n",
    "y_teste = rforest_adult_test['income_higher_than_50k']\n",
    "rforest_adult_test.drop(['income_higher_than_50k'], axis = 1, inplace = True)"
   ]
  },
  {
   "cell_type": "code",
   "execution_count": 100,
   "metadata": {},
   "outputs": [],
   "source": [
    "# base teste\n",
    "X_teste = rforest_adult_test.copy()"
   ]
  },
  {
   "cell_type": "code",
   "execution_count": 101,
   "metadata": {},
   "outputs": [],
   "source": [
    "y_hat = random_forest_best.predict(X_teste)"
   ]
  },
  {
   "cell_type": "code",
   "execution_count": 102,
   "metadata": {},
   "outputs": [
    {
     "name": "stdout",
     "output_type": "stream",
     "text": [
      "Modelo de Random Forest para dados de teste\n",
      "Acuracia teste: 0.8567655549413427\n",
      "Precisão teste: 0.5252210088403536\n",
      "Revocacao teste: 0.7996832937450514\n",
      "f1_score teste: 0.6340238543628374\n"
     ]
    }
   ],
   "source": [
    "print('Modelo de Random Forest para dados de teste')\n",
    "print('Acuracia teste:', accuracy_score(y_hat, y_teste))\n",
    "print('Precisão teste:', precision_score(y_hat, y_teste))\n",
    "print('Revocacao teste:', recall_score(y_hat, y_teste))\n",
    "print('f1_score teste:', f1_score(y_hat, y_teste))"
   ]
  },
  {
   "cell_type": "code",
   "execution_count": 103,
   "metadata": {},
   "outputs": [
    {
     "data": {
      "image/png": "[encoded data removed]",
      "text/plain": [
       "<Figure size 432x288 with 2 Axes>"
      ]
     },
     "metadata": {
      "needs_background": "light"
     },
     "output_type": "display_data"
    }
   ],
   "source": [
    "from sklearn.metrics import classification_report, confusion_matrix\n",
    "cf_matrix_rf = confusion_matrix(y_teste, y_hat)\n",
    "ax = sn.heatmap(cf_matrix_knn, annot=True, cmap='Blues', fmt='g')\n",
    "\n",
    "ax.set_title('Matriz de confusão - Random Forest - Base Teste')\n",
    "ax.set_xlabel('Previstos')\n",
    "ax.set_ylabel('Observados')\n",
    "\n",
    "## Ticket labels - List must be in alphabetical order\n",
    "ax.xaxis.set_ticklabels(['<=50k','>50k'])\n",
    "ax.yaxis.set_ticklabels(['<=50k','>50k'])\n",
    "\n",
    "## Display the visualization of the Confusion Matrix.\n",
    "plt.show()"
   ]
  }
 ],
 "metadata": {
  "kernelspec": {
   "display_name": "Python 3",
   "language": "python",
   "name": "python3"
  },
  "language_info": {
   "codemirror_mode": {
    "name": "ipython",
    "version": 3
   },
   "file_extension": ".py",
   "mimetype": "text/x-python",
   "name": "python",
   "nbconvert_exporter": "python",
   "pygments_lexer": "ipython3",
   "version": "3.9.1"
  },
  "orig_nbformat": 4
 },
 "nbformat": 4,
 "nbformat_minor": 2
}
