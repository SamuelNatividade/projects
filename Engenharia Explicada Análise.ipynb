{
 "cells": [
  {
   "cell_type": "markdown",
   "metadata": {},
   "source": [
    "## Importando Bibliotecas"
   ]
  },
  {
   "cell_type": "code",
   "execution_count": 1,
   "metadata": {},
   "outputs": [],
   "source": [
    "import pandas as pd\n",
    "import numpy as np\n",
    "import matplotlib.pyplot as plt\n",
    "import seaborn as sns\n",
    "import datetime as dt"
   ]
  },
  {
   "cell_type": "markdown",
   "metadata": {},
   "source": [
    "## Carregando Dados"
   ]
  },
  {
   "cell_type": "code",
   "execution_count": 2,
   "metadata": {},
   "outputs": [],
   "source": [
    "df = pd.read_excel(r'C:\\Users\\user\\Downloads\\engenhariaexplicada_updates_1603719569479.xlsx',\n",
    "                   sheet_name ='Engajamento da atualização',\n",
    "                   header = 1)\n",
    "               "
   ]
  },
  {
   "cell_type": "code",
   "execution_count": 3,
   "metadata": {},
   "outputs": [
    {
     "data": {
      "text/html": [
       "<div>\n",
       "<style scoped>\n",
       "    .dataframe tbody tr th:only-of-type {\n",
       "        vertical-align: middle;\n",
       "    }\n",
       "\n",
       "    .dataframe tbody tr th {\n",
       "        vertical-align: top;\n",
       "    }\n",
       "\n",
       "    .dataframe thead th {\n",
       "        text-align: right;\n",
       "    }\n",
       "</style>\n",
       "<table border=\"1\" class=\"dataframe\">\n",
       "  <thead>\n",
       "    <tr style=\"text-align: right;\">\n",
       "      <th></th>\n",
       "      <th>Título da atualização</th>\n",
       "      <th>Link da atualização</th>\n",
       "      <th>Tipo de atualização</th>\n",
       "      <th>Nome da campanha</th>\n",
       "      <th>Publicada por</th>\n",
       "      <th>Data de criação</th>\n",
       "      <th>Data de início da campanha</th>\n",
       "      <th>Data de término da campanha</th>\n",
       "      <th>Público</th>\n",
       "      <th>Impressões</th>\n",
       "      <th>Visualizações do vídeo</th>\n",
       "      <th>Cliques</th>\n",
       "      <th>Taxa de cliques (CTR)</th>\n",
       "      <th>Gostaram</th>\n",
       "      <th>Comentários</th>\n",
       "      <th>Compartilhamentos</th>\n",
       "      <th>Seguidores</th>\n",
       "      <th>Taxa de engajamento</th>\n",
       "    </tr>\n",
       "  </thead>\n",
       "  <tbody>\n",
       "    <tr>\n",
       "      <td>0</td>\n",
       "      <td>Frase do dia:\\n\\n#engenharia #lideranças #insp...</td>\n",
       "      <td>https://www.linkedin.com/feed/update/urn:li:ac...</td>\n",
       "      <td>Orgânico</td>\n",
       "      <td>NaN</td>\n",
       "      <td>Luan Sasaki</td>\n",
       "      <td>09/30/2020</td>\n",
       "      <td>NaN</td>\n",
       "      <td>NaN</td>\n",
       "      <td>Todos os seguidores</td>\n",
       "      <td>393</td>\n",
       "      <td>NaN</td>\n",
       "      <td>2</td>\n",
       "      <td>0.005089</td>\n",
       "      <td>11</td>\n",
       "      <td>0</td>\n",
       "      <td>0</td>\n",
       "      <td>NaN</td>\n",
       "      <td>0.033079</td>\n",
       "    </tr>\n",
       "    <tr>\n",
       "      <td>1</td>\n",
       "      <td>Por que o CARISMA é uma habilidade importante ...</td>\n",
       "      <td>https://www.linkedin.com/feed/update/urn:li:ac...</td>\n",
       "      <td>Orgânico</td>\n",
       "      <td>NaN</td>\n",
       "      <td>Luan Sasaki</td>\n",
       "      <td>09/29/2020</td>\n",
       "      <td>NaN</td>\n",
       "      <td>NaN</td>\n",
       "      <td>Todos os seguidores</td>\n",
       "      <td>439</td>\n",
       "      <td>NaN</td>\n",
       "      <td>47</td>\n",
       "      <td>0.107062</td>\n",
       "      <td>10</td>\n",
       "      <td>0</td>\n",
       "      <td>2</td>\n",
       "      <td>NaN</td>\n",
       "      <td>0.134396</td>\n",
       "    </tr>\n",
       "    <tr>\n",
       "      <td>2</td>\n",
       "      <td>Neste episódio #13 do Podcast da Engenharia Ex...</td>\n",
       "      <td>https://www.linkedin.com/feed/update/urn:li:ac...</td>\n",
       "      <td>Orgânico</td>\n",
       "      <td>NaN</td>\n",
       "      <td>Luan Sasaki</td>\n",
       "      <td>09/28/2020</td>\n",
       "      <td>NaN</td>\n",
       "      <td>NaN</td>\n",
       "      <td>Todos os seguidores</td>\n",
       "      <td>3594</td>\n",
       "      <td>NaN</td>\n",
       "      <td>127</td>\n",
       "      <td>0.035337</td>\n",
       "      <td>102</td>\n",
       "      <td>17</td>\n",
       "      <td>3</td>\n",
       "      <td>NaN</td>\n",
       "      <td>0.069282</td>\n",
       "    </tr>\n",
       "    <tr>\n",
       "      <td>3</td>\n",
       "      <td>Neste episódio #13 do Podcast da Engenharia Ex...</td>\n",
       "      <td>https://www.linkedin.com/feed/update/urn:li:ac...</td>\n",
       "      <td>Em destaque</td>\n",
       "      <td>Conhecimento da marca - Sep 27, 2020</td>\n",
       "      <td>Luan Sasaki</td>\n",
       "      <td>09/28/2020</td>\n",
       "      <td>09/28/2020</td>\n",
       "      <td>10/09/2020</td>\n",
       "      <td>Todos os seguidores</td>\n",
       "      <td>53</td>\n",
       "      <td>NaN</td>\n",
       "      <td>0</td>\n",
       "      <td>0.000000</td>\n",
       "      <td>0</td>\n",
       "      <td>0</td>\n",
       "      <td>0</td>\n",
       "      <td>0.0</td>\n",
       "      <td>0.000000</td>\n",
       "    </tr>\n",
       "    <tr>\n",
       "      <td>4</td>\n",
       "      <td>Neste episódio #13 do Podcast da Engenharia Ex...</td>\n",
       "      <td>https://www.linkedin.com/feed/update/urn:li:ac...</td>\n",
       "      <td>Total</td>\n",
       "      <td>NaN</td>\n",
       "      <td>Luan Sasaki</td>\n",
       "      <td>09/28/2020</td>\n",
       "      <td>NaN</td>\n",
       "      <td>NaN</td>\n",
       "      <td>Todos os seguidores</td>\n",
       "      <td>3647</td>\n",
       "      <td>NaN</td>\n",
       "      <td>127</td>\n",
       "      <td>0.034823</td>\n",
       "      <td>102</td>\n",
       "      <td>17</td>\n",
       "      <td>3</td>\n",
       "      <td>0.0</td>\n",
       "      <td>0.068275</td>\n",
       "    </tr>\n",
       "  </tbody>\n",
       "</table>\n",
       "</div>"
      ],
      "text/plain": [
       "                               Título da atualização  \\\n",
       "0  Frase do dia:\\n\\n#engenharia #lideranças #insp...   \n",
       "1  Por que o CARISMA é uma habilidade importante ...   \n",
       "2  Neste episódio #13 do Podcast da Engenharia Ex...   \n",
       "3  Neste episódio #13 do Podcast da Engenharia Ex...   \n",
       "4  Neste episódio #13 do Podcast da Engenharia Ex...   \n",
       "\n",
       "                                 Link da atualização Tipo de atualização  \\\n",
       "0  https://www.linkedin.com/feed/update/urn:li:ac...            Orgânico   \n",
       "1  https://www.linkedin.com/feed/update/urn:li:ac...            Orgânico   \n",
       "2  https://www.linkedin.com/feed/update/urn:li:ac...            Orgânico   \n",
       "3  https://www.linkedin.com/feed/update/urn:li:ac...         Em destaque   \n",
       "4  https://www.linkedin.com/feed/update/urn:li:ac...               Total   \n",
       "\n",
       "                       Nome da campanha Publicada por Data de criação  \\\n",
       "0                                   NaN   Luan Sasaki      09/30/2020   \n",
       "1                                   NaN   Luan Sasaki      09/29/2020   \n",
       "2                                   NaN   Luan Sasaki      09/28/2020   \n",
       "3  Conhecimento da marca - Sep 27, 2020   Luan Sasaki      09/28/2020   \n",
       "4                                   NaN   Luan Sasaki      09/28/2020   \n",
       "\n",
       "  Data de início da campanha Data de término da campanha              Público  \\\n",
       "0                        NaN                         NaN  Todos os seguidores   \n",
       "1                        NaN                         NaN  Todos os seguidores   \n",
       "2                        NaN                         NaN  Todos os seguidores   \n",
       "3                 09/28/2020                  10/09/2020  Todos os seguidores   \n",
       "4                        NaN                         NaN  Todos os seguidores   \n",
       "\n",
       "   Impressões  Visualizações do vídeo  Cliques  Taxa de cliques (CTR)  \\\n",
       "0         393                     NaN        2               0.005089   \n",
       "1         439                     NaN       47               0.107062   \n",
       "2        3594                     NaN      127               0.035337   \n",
       "3          53                     NaN        0               0.000000   \n",
       "4        3647                     NaN      127               0.034823   \n",
       "\n",
       "   Gostaram  Comentários  Compartilhamentos  Seguidores  Taxa de engajamento  \n",
       "0        11            0                  0         NaN             0.033079  \n",
       "1        10            0                  2         NaN             0.134396  \n",
       "2       102           17                  3         NaN             0.069282  \n",
       "3         0            0                  0         0.0             0.000000  \n",
       "4       102           17                  3         0.0             0.068275  "
      ]
     },
     "execution_count": 3,
     "metadata": {},
     "output_type": "execute_result"
    }
   ],
   "source": [
    "df.head()"
   ]
  },
  {
   "cell_type": "code",
   "execution_count": 4,
   "metadata": {},
   "outputs": [
    {
     "name": "stdout",
     "output_type": "stream",
     "text": [
      "Tabela tem 148 linhas\n",
      "Tabela tem 18 colunas\n"
     ]
    }
   ],
   "source": [
    "df.shape\n",
    "\n",
    "print('Tabela tem', df.shape[0], 'linhas')\n",
    "print('Tabela tem', df.shape[1], 'colunas')"
   ]
  },
  {
   "cell_type": "code",
   "execution_count": 5,
   "metadata": {},
   "outputs": [
    {
     "data": {
      "text/plain": [
       "Título da atualização            0\n",
       "Link da atualização              0\n",
       "Tipo de atualização              0\n",
       "Nome da campanha               138\n",
       "Publicada por                    0\n",
       "Data de criação                  0\n",
       "Data de início da campanha     138\n",
       "Data de término da campanha    138\n",
       "Público                          0\n",
       "Impressões                       0\n",
       "Visualizações do vídeo         143\n",
       "Cliques                          0\n",
       "Taxa de cliques (CTR)            0\n",
       "Gostaram                         0\n",
       "Comentários                      0\n",
       "Compartilhamentos                0\n",
       "Seguidores                     128\n",
       "Taxa de engajamento              0\n",
       "dtype: int64"
      ]
     },
     "execution_count": 5,
     "metadata": {},
     "output_type": "execute_result"
    }
   ],
   "source": [
    "# verificando dados nulos\n",
    "df.isna().sum()"
   ]
  },
  {
   "cell_type": "code",
   "execution_count": 6,
   "metadata": {},
   "outputs": [
    {
     "name": "stdout",
     "output_type": "stream",
     "text": [
      "<class 'pandas.core.frame.DataFrame'>\n",
      "RangeIndex: 148 entries, 0 to 147\n",
      "Data columns (total 18 columns):\n",
      "Título da atualização          148 non-null object\n",
      "Link da atualização            148 non-null object\n",
      "Tipo de atualização            148 non-null object\n",
      "Nome da campanha               10 non-null object\n",
      "Publicada por                  148 non-null object\n",
      "Data de criação                148 non-null object\n",
      "Data de início da campanha     10 non-null object\n",
      "Data de término da campanha    10 non-null object\n",
      "Público                        148 non-null object\n",
      "Impressões                     148 non-null int64\n",
      "Visualizações do vídeo         5 non-null float64\n",
      "Cliques                        148 non-null int64\n",
      "Taxa de cliques (CTR)          148 non-null float64\n",
      "Gostaram                       148 non-null int64\n",
      "Comentários                    148 non-null int64\n",
      "Compartilhamentos              148 non-null int64\n",
      "Seguidores                     20 non-null float64\n",
      "Taxa de engajamento            148 non-null float64\n",
      "dtypes: float64(4), int64(5), object(9)\n",
      "memory usage: 20.9+ KB\n"
     ]
    }
   ],
   "source": [
    "df.info()"
   ]
  },
  {
   "cell_type": "code",
   "execution_count": 7,
   "metadata": {},
   "outputs": [],
   "source": [
    "df['Data de criação'] = pd.to_datetime(df['Data de criação'])"
   ]
  },
  {
   "cell_type": "code",
   "execution_count": 8,
   "metadata": {},
   "outputs": [
    {
     "name": "stdout",
     "output_type": "stream",
     "text": [
      "<class 'pandas.core.frame.DataFrame'>\n",
      "RangeIndex: 148 entries, 0 to 147\n",
      "Data columns (total 18 columns):\n",
      "Título da atualização          148 non-null object\n",
      "Link da atualização            148 non-null object\n",
      "Tipo de atualização            148 non-null object\n",
      "Nome da campanha               10 non-null object\n",
      "Publicada por                  148 non-null object\n",
      "Data de criação                148 non-null datetime64[ns]\n",
      "Data de início da campanha     10 non-null object\n",
      "Data de término da campanha    10 non-null object\n",
      "Público                        148 non-null object\n",
      "Impressões                     148 non-null int64\n",
      "Visualizações do vídeo         5 non-null float64\n",
      "Cliques                        148 non-null int64\n",
      "Taxa de cliques (CTR)          148 non-null float64\n",
      "Gostaram                       148 non-null int64\n",
      "Comentários                    148 non-null int64\n",
      "Compartilhamentos              148 non-null int64\n",
      "Seguidores                     20 non-null float64\n",
      "Taxa de engajamento            148 non-null float64\n",
      "dtypes: datetime64[ns](1), float64(4), int64(5), object(8)\n",
      "memory usage: 20.9+ KB\n"
     ]
    }
   ],
   "source": [
    "df.info()"
   ]
  },
  {
   "cell_type": "code",
   "execution_count": 9,
   "metadata": {},
   "outputs": [
    {
     "data": {
      "text/plain": [
       "Orgânico       128\n",
       "Em destaque     10\n",
       "Total           10\n",
       "Name: Tipo de atualização, dtype: int64"
      ]
     },
     "metadata": {},
     "output_type": "display_data"
    },
    {
     "data": {
      "text/plain": [
       "<matplotlib.axes._subplots.AxesSubplot at 0x17672034108>"
      ]
     },
     "execution_count": 9,
     "metadata": {},
     "output_type": "execute_result"
    },
    {
     "data": {
      "image/png": "[encoded data removed]",
      "text/plain": [
       "<Figure size 432x288 with 1 Axes>"
      ]
     },
     "metadata": {
      "needs_background": "light"
     },
     "output_type": "display_data"
    }
   ],
   "source": [
    "display(df['Tipo de atualização'].value_counts())\n",
    "\n",
    "sns.countplot(x = df['Tipo de atualização'])"
   ]
  },
  {
   "cell_type": "code",
   "execution_count": 10,
   "metadata": {},
   "outputs": [],
   "source": [
    "## criando uma coluna nova com o nome do dia que foi feita a postagem\n",
    "\n",
    "df['Dia_da_semana'] = df['Data de criação'].dt.day_name()"
   ]
  },
  {
   "cell_type": "code",
   "execution_count": 11,
   "metadata": {},
   "outputs": [
    {
     "data": {
      "text/html": [
       "<div>\n",
       "<style scoped>\n",
       "    .dataframe tbody tr th:only-of-type {\n",
       "        vertical-align: middle;\n",
       "    }\n",
       "\n",
       "    .dataframe tbody tr th {\n",
       "        vertical-align: top;\n",
       "    }\n",
       "\n",
       "    .dataframe thead th {\n",
       "        text-align: right;\n",
       "    }\n",
       "</style>\n",
       "<table border=\"1\" class=\"dataframe\">\n",
       "  <thead>\n",
       "    <tr style=\"text-align: right;\">\n",
       "      <th></th>\n",
       "      <th>Título da atualização</th>\n",
       "      <th>Link da atualização</th>\n",
       "      <th>Tipo de atualização</th>\n",
       "      <th>Nome da campanha</th>\n",
       "      <th>Publicada por</th>\n",
       "      <th>Data de criação</th>\n",
       "      <th>Data de início da campanha</th>\n",
       "      <th>Data de término da campanha</th>\n",
       "      <th>Público</th>\n",
       "      <th>Impressões</th>\n",
       "      <th>Visualizações do vídeo</th>\n",
       "      <th>Cliques</th>\n",
       "      <th>Taxa de cliques (CTR)</th>\n",
       "      <th>Gostaram</th>\n",
       "      <th>Comentários</th>\n",
       "      <th>Compartilhamentos</th>\n",
       "      <th>Seguidores</th>\n",
       "      <th>Taxa de engajamento</th>\n",
       "      <th>Dia_da_semana</th>\n",
       "    </tr>\n",
       "  </thead>\n",
       "  <tbody>\n",
       "    <tr>\n",
       "      <td>0</td>\n",
       "      <td>Frase do dia:\\n\\n#engenharia #lideranças #insp...</td>\n",
       "      <td>https://www.linkedin.com/feed/update/urn:li:ac...</td>\n",
       "      <td>Orgânico</td>\n",
       "      <td>NaN</td>\n",
       "      <td>Luan Sasaki</td>\n",
       "      <td>2020-09-30</td>\n",
       "      <td>NaN</td>\n",
       "      <td>NaN</td>\n",
       "      <td>Todos os seguidores</td>\n",
       "      <td>393</td>\n",
       "      <td>NaN</td>\n",
       "      <td>2</td>\n",
       "      <td>0.005089</td>\n",
       "      <td>11</td>\n",
       "      <td>0</td>\n",
       "      <td>0</td>\n",
       "      <td>NaN</td>\n",
       "      <td>0.033079</td>\n",
       "      <td>Wednesday</td>\n",
       "    </tr>\n",
       "    <tr>\n",
       "      <td>1</td>\n",
       "      <td>Por que o CARISMA é uma habilidade importante ...</td>\n",
       "      <td>https://www.linkedin.com/feed/update/urn:li:ac...</td>\n",
       "      <td>Orgânico</td>\n",
       "      <td>NaN</td>\n",
       "      <td>Luan Sasaki</td>\n",
       "      <td>2020-09-29</td>\n",
       "      <td>NaN</td>\n",
       "      <td>NaN</td>\n",
       "      <td>Todos os seguidores</td>\n",
       "      <td>439</td>\n",
       "      <td>NaN</td>\n",
       "      <td>47</td>\n",
       "      <td>0.107062</td>\n",
       "      <td>10</td>\n",
       "      <td>0</td>\n",
       "      <td>2</td>\n",
       "      <td>NaN</td>\n",
       "      <td>0.134396</td>\n",
       "      <td>Tuesday</td>\n",
       "    </tr>\n",
       "    <tr>\n",
       "      <td>2</td>\n",
       "      <td>Neste episódio #13 do Podcast da Engenharia Ex...</td>\n",
       "      <td>https://www.linkedin.com/feed/update/urn:li:ac...</td>\n",
       "      <td>Orgânico</td>\n",
       "      <td>NaN</td>\n",
       "      <td>Luan Sasaki</td>\n",
       "      <td>2020-09-28</td>\n",
       "      <td>NaN</td>\n",
       "      <td>NaN</td>\n",
       "      <td>Todos os seguidores</td>\n",
       "      <td>3594</td>\n",
       "      <td>NaN</td>\n",
       "      <td>127</td>\n",
       "      <td>0.035337</td>\n",
       "      <td>102</td>\n",
       "      <td>17</td>\n",
       "      <td>3</td>\n",
       "      <td>NaN</td>\n",
       "      <td>0.069282</td>\n",
       "      <td>Monday</td>\n",
       "    </tr>\n",
       "    <tr>\n",
       "      <td>3</td>\n",
       "      <td>Neste episódio #13 do Podcast da Engenharia Ex...</td>\n",
       "      <td>https://www.linkedin.com/feed/update/urn:li:ac...</td>\n",
       "      <td>Em destaque</td>\n",
       "      <td>Conhecimento da marca - Sep 27, 2020</td>\n",
       "      <td>Luan Sasaki</td>\n",
       "      <td>2020-09-28</td>\n",
       "      <td>09/28/2020</td>\n",
       "      <td>10/09/2020</td>\n",
       "      <td>Todos os seguidores</td>\n",
       "      <td>53</td>\n",
       "      <td>NaN</td>\n",
       "      <td>0</td>\n",
       "      <td>0.000000</td>\n",
       "      <td>0</td>\n",
       "      <td>0</td>\n",
       "      <td>0</td>\n",
       "      <td>0.0</td>\n",
       "      <td>0.000000</td>\n",
       "      <td>Monday</td>\n",
       "    </tr>\n",
       "    <tr>\n",
       "      <td>4</td>\n",
       "      <td>Neste episódio #13 do Podcast da Engenharia Ex...</td>\n",
       "      <td>https://www.linkedin.com/feed/update/urn:li:ac...</td>\n",
       "      <td>Total</td>\n",
       "      <td>NaN</td>\n",
       "      <td>Luan Sasaki</td>\n",
       "      <td>2020-09-28</td>\n",
       "      <td>NaN</td>\n",
       "      <td>NaN</td>\n",
       "      <td>Todos os seguidores</td>\n",
       "      <td>3647</td>\n",
       "      <td>NaN</td>\n",
       "      <td>127</td>\n",
       "      <td>0.034823</td>\n",
       "      <td>102</td>\n",
       "      <td>17</td>\n",
       "      <td>3</td>\n",
       "      <td>0.0</td>\n",
       "      <td>0.068275</td>\n",
       "      <td>Monday</td>\n",
       "    </tr>\n",
       "  </tbody>\n",
       "</table>\n",
       "</div>"
      ],
      "text/plain": [
       "                               Título da atualização  \\\n",
       "0  Frase do dia:\\n\\n#engenharia #lideranças #insp...   \n",
       "1  Por que o CARISMA é uma habilidade importante ...   \n",
       "2  Neste episódio #13 do Podcast da Engenharia Ex...   \n",
       "3  Neste episódio #13 do Podcast da Engenharia Ex...   \n",
       "4  Neste episódio #13 do Podcast da Engenharia Ex...   \n",
       "\n",
       "                                 Link da atualização Tipo de atualização  \\\n",
       "0  https://www.linkedin.com/feed/update/urn:li:ac...            Orgânico   \n",
       "1  https://www.linkedin.com/feed/update/urn:li:ac...            Orgânico   \n",
       "2  https://www.linkedin.com/feed/update/urn:li:ac...            Orgânico   \n",
       "3  https://www.linkedin.com/feed/update/urn:li:ac...         Em destaque   \n",
       "4  https://www.linkedin.com/feed/update/urn:li:ac...               Total   \n",
       "\n",
       "                       Nome da campanha Publicada por Data de criação  \\\n",
       "0                                   NaN   Luan Sasaki      2020-09-30   \n",
       "1                                   NaN   Luan Sasaki      2020-09-29   \n",
       "2                                   NaN   Luan Sasaki      2020-09-28   \n",
       "3  Conhecimento da marca - Sep 27, 2020   Luan Sasaki      2020-09-28   \n",
       "4                                   NaN   Luan Sasaki      2020-09-28   \n",
       "\n",
       "  Data de início da campanha Data de término da campanha              Público  \\\n",
       "0                        NaN                         NaN  Todos os seguidores   \n",
       "1                        NaN                         NaN  Todos os seguidores   \n",
       "2                        NaN                         NaN  Todos os seguidores   \n",
       "3                 09/28/2020                  10/09/2020  Todos os seguidores   \n",
       "4                        NaN                         NaN  Todos os seguidores   \n",
       "\n",
       "   Impressões  Visualizações do vídeo  Cliques  Taxa de cliques (CTR)  \\\n",
       "0         393                     NaN        2               0.005089   \n",
       "1         439                     NaN       47               0.107062   \n",
       "2        3594                     NaN      127               0.035337   \n",
       "3          53                     NaN        0               0.000000   \n",
       "4        3647                     NaN      127               0.034823   \n",
       "\n",
       "   Gostaram  Comentários  Compartilhamentos  Seguidores  Taxa de engajamento  \\\n",
       "0        11            0                  0         NaN             0.033079   \n",
       "1        10            0                  2         NaN             0.134396   \n",
       "2       102           17                  3         NaN             0.069282   \n",
       "3         0            0                  0         0.0             0.000000   \n",
       "4       102           17                  3         0.0             0.068275   \n",
       "\n",
       "  Dia_da_semana  \n",
       "0     Wednesday  \n",
       "1       Tuesday  \n",
       "2        Monday  \n",
       "3        Monday  \n",
       "4        Monday  "
      ]
     },
     "execution_count": 11,
     "metadata": {},
     "output_type": "execute_result"
    }
   ],
   "source": [
    "df.head()"
   ]
  },
  {
   "cell_type": "markdown",
   "metadata": {},
   "source": [
    "O engajamento é: \n",
    "\n",
    "\n",
    "impressões / (cliques + curtidas + comentários + compartilhamentos)\n"
   ]
  },
  {
   "cell_type": "code",
   "execution_count": 12,
   "metadata": {},
   "outputs": [
    {
     "data": {
      "text/html": [
       "<div>\n",
       "<style scoped>\n",
       "    .dataframe tbody tr th:only-of-type {\n",
       "        vertical-align: middle;\n",
       "    }\n",
       "\n",
       "    .dataframe tbody tr th {\n",
       "        vertical-align: top;\n",
       "    }\n",
       "\n",
       "    .dataframe thead th {\n",
       "        text-align: right;\n",
       "    }\n",
       "</style>\n",
       "<table border=\"1\" class=\"dataframe\">\n",
       "  <thead>\n",
       "    <tr style=\"text-align: right;\">\n",
       "      <th></th>\n",
       "      <th>Impressões</th>\n",
       "      <th>Visualizações do vídeo</th>\n",
       "      <th>Cliques</th>\n",
       "      <th>Taxa de cliques (CTR)</th>\n",
       "      <th>Gostaram</th>\n",
       "      <th>Comentários</th>\n",
       "      <th>Compartilhamentos</th>\n",
       "      <th>Seguidores</th>\n",
       "      <th>Taxa de engajamento</th>\n",
       "    </tr>\n",
       "  </thead>\n",
       "  <tbody>\n",
       "    <tr>\n",
       "      <td>count</td>\n",
       "      <td>148.000000</td>\n",
       "      <td>5.00000</td>\n",
       "      <td>148.000000</td>\n",
       "      <td>148.000000</td>\n",
       "      <td>148.000000</td>\n",
       "      <td>148.000000</td>\n",
       "      <td>148.000000</td>\n",
       "      <td>20.0</td>\n",
       "      <td>148.000000</td>\n",
       "    </tr>\n",
       "    <tr>\n",
       "      <td>mean</td>\n",
       "      <td>1122.608108</td>\n",
       "      <td>62.20000</td>\n",
       "      <td>28.114865</td>\n",
       "      <td>0.041824</td>\n",
       "      <td>16.297297</td>\n",
       "      <td>1.263514</td>\n",
       "      <td>1.101351</td>\n",
       "      <td>0.0</td>\n",
       "      <td>0.073192</td>\n",
       "    </tr>\n",
       "    <tr>\n",
       "      <td>std</td>\n",
       "      <td>4031.511358</td>\n",
       "      <td>39.25812</td>\n",
       "      <td>42.138825</td>\n",
       "      <td>0.044707</td>\n",
       "      <td>17.827007</td>\n",
       "      <td>2.467094</td>\n",
       "      <td>1.510687</td>\n",
       "      <td>0.0</td>\n",
       "      <td>0.047251</td>\n",
       "    </tr>\n",
       "    <tr>\n",
       "      <td>min</td>\n",
       "      <td>53.000000</td>\n",
       "      <td>17.00000</td>\n",
       "      <td>0.000000</td>\n",
       "      <td>0.000000</td>\n",
       "      <td>0.000000</td>\n",
       "      <td>0.000000</td>\n",
       "      <td>0.000000</td>\n",
       "      <td>0.0</td>\n",
       "      <td>0.000000</td>\n",
       "    </tr>\n",
       "    <tr>\n",
       "      <td>25%</td>\n",
       "      <td>373.500000</td>\n",
       "      <td>27.00000</td>\n",
       "      <td>5.000000</td>\n",
       "      <td>0.011647</td>\n",
       "      <td>10.000000</td>\n",
       "      <td>0.000000</td>\n",
       "      <td>0.000000</td>\n",
       "      <td>0.0</td>\n",
       "      <td>0.042978</td>\n",
       "    </tr>\n",
       "    <tr>\n",
       "      <td>50%</td>\n",
       "      <td>487.000000</td>\n",
       "      <td>77.00000</td>\n",
       "      <td>11.000000</td>\n",
       "      <td>0.023361</td>\n",
       "      <td>14.000000</td>\n",
       "      <td>0.000000</td>\n",
       "      <td>1.000000</td>\n",
       "      <td>0.0</td>\n",
       "      <td>0.059698</td>\n",
       "    </tr>\n",
       "    <tr>\n",
       "      <td>75%</td>\n",
       "      <td>587.000000</td>\n",
       "      <td>79.00000</td>\n",
       "      <td>31.250000</td>\n",
       "      <td>0.047754</td>\n",
       "      <td>17.000000</td>\n",
       "      <td>2.000000</td>\n",
       "      <td>2.000000</td>\n",
       "      <td>0.0</td>\n",
       "      <td>0.092671</td>\n",
       "    </tr>\n",
       "    <tr>\n",
       "      <td>max</td>\n",
       "      <td>34362.000000</td>\n",
       "      <td>111.00000</td>\n",
       "      <td>295.000000</td>\n",
       "      <td>0.214545</td>\n",
       "      <td>138.000000</td>\n",
       "      <td>17.000000</td>\n",
       "      <td>8.000000</td>\n",
       "      <td>0.0</td>\n",
       "      <td>0.247273</td>\n",
       "    </tr>\n",
       "  </tbody>\n",
       "</table>\n",
       "</div>"
      ],
      "text/plain": [
       "         Impressões  Visualizações do vídeo     Cliques  \\\n",
       "count    148.000000                 5.00000  148.000000   \n",
       "mean    1122.608108                62.20000   28.114865   \n",
       "std     4031.511358                39.25812   42.138825   \n",
       "min       53.000000                17.00000    0.000000   \n",
       "25%      373.500000                27.00000    5.000000   \n",
       "50%      487.000000                77.00000   11.000000   \n",
       "75%      587.000000                79.00000   31.250000   \n",
       "max    34362.000000               111.00000  295.000000   \n",
       "\n",
       "       Taxa de cliques (CTR)    Gostaram  Comentários  Compartilhamentos  \\\n",
       "count             148.000000  148.000000   148.000000         148.000000   \n",
       "mean                0.041824   16.297297     1.263514           1.101351   \n",
       "std                 0.044707   17.827007     2.467094           1.510687   \n",
       "min                 0.000000    0.000000     0.000000           0.000000   \n",
       "25%                 0.011647   10.000000     0.000000           0.000000   \n",
       "50%                 0.023361   14.000000     0.000000           1.000000   \n",
       "75%                 0.047754   17.000000     2.000000           2.000000   \n",
       "max                 0.214545  138.000000    17.000000           8.000000   \n",
       "\n",
       "       Seguidores  Taxa de engajamento  \n",
       "count        20.0           148.000000  \n",
       "mean          0.0             0.073192  \n",
       "std           0.0             0.047251  \n",
       "min           0.0             0.000000  \n",
       "25%           0.0             0.042978  \n",
       "50%           0.0             0.059698  \n",
       "75%           0.0             0.092671  \n",
       "max           0.0             0.247273  "
      ]
     },
     "execution_count": 12,
     "metadata": {},
     "output_type": "execute_result"
    }
   ],
   "source": [
    "df.describe()"
   ]
  },
  {
   "cell_type": "markdown",
   "metadata": {},
   "source": [
    "## Vamos iniciar a exploração"
   ]
  },
  {
   "cell_type": "code",
   "execution_count": 13,
   "metadata": {},
   "outputs": [
    {
     "name": "stderr",
     "output_type": "stream",
     "text": [
      "C:\\Users\\user\\Anaconda3\\lib\\site-packages\\pandas\\plotting\\_matplotlib\\converter.py:103: FutureWarning: Using an implicitly registered datetime converter for a matplotlib plotting method. The converter was registered by pandas on import. Future versions of pandas will require you to explicitly register matplotlib converters.\n",
      "\n",
      "To register the converters:\n",
      "\t>>> from pandas.plotting import register_matplotlib_converters\n",
      "\t>>> register_matplotlib_converters()\n",
      "  warnings.warn(msg, FutureWarning)\n"
     ]
    },
    {
     "data": {
      "image/png": "[encoded data removed]",
      "text/plain": [
       "<Figure size 576x432 with 1 Axes>"
      ]
     },
     "metadata": {
      "needs_background": "light"
     },
     "output_type": "display_data"
    },
    {
     "data": {
      "image/png": "[encoded data removed]",
      "text/plain": [
       "<Figure size 576x432 with 1 Axes>"
      ]
     },
     "metadata": {
      "needs_background": "light"
     },
     "output_type": "display_data"
    }
   ],
   "source": [
    "plt.figure(figsize = (8,6))\n",
    "\n",
    "\n",
    "plt.plot(df['Data de criação'], df['Impressões'])\n",
    "plt.title('Impressões ao longo do tempo', fontsize = 12)\n",
    "plt.xticks(rotation = 70);\n",
    "\n",
    "plt.show()\n",
    "\n",
    "plt.figure(figsize = (8,6))\n",
    "plt.plot(df['Data de criação'], df['Taxa de engajamento'],'g' )\n",
    "plt.title('Engajamento ao longo do tempo', fontsize = 12)\n",
    "plt.xticks(rotation = 70);\n",
    "\n",
    "plt.show()"
   ]
  },
  {
   "cell_type": "markdown",
   "metadata": {},
   "source": [
    "Esses dois indicadores podem definir a estratégia da página\n",
    "\n",
    "- Se vamos investir em:\n",
    "    **alcance** ou \n",
    "    **engajamento**\n",
    "    \n",
    "    \n",
    "\n",
    "Temos alguns valores bem altos com relação as impressões... Vamos checar quais foram esses posts"
   ]
  },
  {
   "cell_type": "code",
   "execution_count": 14,
   "metadata": {},
   "outputs": [
    {
     "data": {
      "text/html": [
       "<div>\n",
       "<style scoped>\n",
       "    .dataframe tbody tr th:only-of-type {\n",
       "        vertical-align: middle;\n",
       "    }\n",
       "\n",
       "    .dataframe tbody tr th {\n",
       "        vertical-align: top;\n",
       "    }\n",
       "\n",
       "    .dataframe thead th {\n",
       "        text-align: right;\n",
       "    }\n",
       "</style>\n",
       "<table border=\"1\" class=\"dataframe\">\n",
       "  <thead>\n",
       "    <tr style=\"text-align: right;\">\n",
       "      <th></th>\n",
       "      <th>Título da atualização</th>\n",
       "      <th>Link da atualização</th>\n",
       "      <th>Tipo de atualização</th>\n",
       "      <th>Nome da campanha</th>\n",
       "      <th>Publicada por</th>\n",
       "      <th>Data de criação</th>\n",
       "      <th>Data de início da campanha</th>\n",
       "      <th>Data de término da campanha</th>\n",
       "      <th>Público</th>\n",
       "      <th>Impressões</th>\n",
       "      <th>Visualizações do vídeo</th>\n",
       "      <th>Cliques</th>\n",
       "      <th>Taxa de cliques (CTR)</th>\n",
       "      <th>Gostaram</th>\n",
       "      <th>Comentários</th>\n",
       "      <th>Compartilhamentos</th>\n",
       "      <th>Seguidores</th>\n",
       "      <th>Taxa de engajamento</th>\n",
       "      <th>Dia_da_semana</th>\n",
       "    </tr>\n",
       "  </thead>\n",
       "  <tbody>\n",
       "    <tr>\n",
       "      <td>115</td>\n",
       "      <td>Dicas bem legais para quem está em busca de no...</td>\n",
       "      <td>https://www.linkedin.com/feed/update/urn:li:ac...</td>\n",
       "      <td>Total</td>\n",
       "      <td>NaN</td>\n",
       "      <td>Heitor Sasaki</td>\n",
       "      <td>2020-05-18</td>\n",
       "      <td>NaN</td>\n",
       "      <td>NaN</td>\n",
       "      <td>Todos os seguidores</td>\n",
       "      <td>34362</td>\n",
       "      <td>NaN</td>\n",
       "      <td>33</td>\n",
       "      <td>0.000960</td>\n",
       "      <td>14</td>\n",
       "      <td>0</td>\n",
       "      <td>2</td>\n",
       "      <td>0.0</td>\n",
       "      <td>0.001426</td>\n",
       "      <td>Monday</td>\n",
       "    </tr>\n",
       "    <tr>\n",
       "      <td>114</td>\n",
       "      <td>Dicas bem legais para quem está em busca de no...</td>\n",
       "      <td>https://www.linkedin.com/feed/update/urn:li:ac...</td>\n",
       "      <td>Em destaque</td>\n",
       "      <td>Conhecimento da marca - Sep 27, 2020</td>\n",
       "      <td>Heitor Sasaki</td>\n",
       "      <td>2020-05-18</td>\n",
       "      <td>09/28/2020</td>\n",
       "      <td>10/09/2020</td>\n",
       "      <td>Todos os seguidores</td>\n",
       "      <td>33812</td>\n",
       "      <td>NaN</td>\n",
       "      <td>9</td>\n",
       "      <td>0.000266</td>\n",
       "      <td>0</td>\n",
       "      <td>0</td>\n",
       "      <td>0</td>\n",
       "      <td>0.0</td>\n",
       "      <td>0.000266</td>\n",
       "      <td>Monday</td>\n",
       "    </tr>\n",
       "    <tr>\n",
       "      <td>82</td>\n",
       "      <td>O que é o Canvas?\\n\\nA ferramenta surgiu em me...</td>\n",
       "      <td>https://www.linkedin.com/feed/update/urn:li:ac...</td>\n",
       "      <td>Total</td>\n",
       "      <td>NaN</td>\n",
       "      <td>Luan Sasaki</td>\n",
       "      <td>2020-06-25</td>\n",
       "      <td>NaN</td>\n",
       "      <td>NaN</td>\n",
       "      <td>Todos os seguidores</td>\n",
       "      <td>10108</td>\n",
       "      <td>NaN</td>\n",
       "      <td>295</td>\n",
       "      <td>0.029185</td>\n",
       "      <td>138</td>\n",
       "      <td>9</td>\n",
       "      <td>7</td>\n",
       "      <td>0.0</td>\n",
       "      <td>0.043035</td>\n",
       "      <td>Thursday</td>\n",
       "    </tr>\n",
       "    <tr>\n",
       "      <td>81</td>\n",
       "      <td>O que é o Canvas?\\n\\nA ferramenta surgiu em me...</td>\n",
       "      <td>https://www.linkedin.com/feed/update/urn:li:ac...</td>\n",
       "      <td>Em destaque</td>\n",
       "      <td>Conhecimento da marca - Sep 27, 2020</td>\n",
       "      <td>Luan Sasaki</td>\n",
       "      <td>2020-06-25</td>\n",
       "      <td>09/28/2020</td>\n",
       "      <td>10/09/2020</td>\n",
       "      <td>Todos os seguidores</td>\n",
       "      <td>8826</td>\n",
       "      <td>NaN</td>\n",
       "      <td>229</td>\n",
       "      <td>0.025946</td>\n",
       "      <td>14</td>\n",
       "      <td>0</td>\n",
       "      <td>0</td>\n",
       "      <td>0.0</td>\n",
       "      <td>0.025946</td>\n",
       "      <td>Thursday</td>\n",
       "    </tr>\n",
       "    <tr>\n",
       "      <td>4</td>\n",
       "      <td>Neste episódio #13 do Podcast da Engenharia Ex...</td>\n",
       "      <td>https://www.linkedin.com/feed/update/urn:li:ac...</td>\n",
       "      <td>Total</td>\n",
       "      <td>NaN</td>\n",
       "      <td>Luan Sasaki</td>\n",
       "      <td>2020-09-28</td>\n",
       "      <td>NaN</td>\n",
       "      <td>NaN</td>\n",
       "      <td>Todos os seguidores</td>\n",
       "      <td>3647</td>\n",
       "      <td>NaN</td>\n",
       "      <td>127</td>\n",
       "      <td>0.034823</td>\n",
       "      <td>102</td>\n",
       "      <td>17</td>\n",
       "      <td>3</td>\n",
       "      <td>0.0</td>\n",
       "      <td>0.068275</td>\n",
       "      <td>Monday</td>\n",
       "    </tr>\n",
       "    <tr>\n",
       "      <td>2</td>\n",
       "      <td>Neste episódio #13 do Podcast da Engenharia Ex...</td>\n",
       "      <td>https://www.linkedin.com/feed/update/urn:li:ac...</td>\n",
       "      <td>Orgânico</td>\n",
       "      <td>NaN</td>\n",
       "      <td>Luan Sasaki</td>\n",
       "      <td>2020-09-28</td>\n",
       "      <td>NaN</td>\n",
       "      <td>NaN</td>\n",
       "      <td>Todos os seguidores</td>\n",
       "      <td>3594</td>\n",
       "      <td>NaN</td>\n",
       "      <td>127</td>\n",
       "      <td>0.035337</td>\n",
       "      <td>102</td>\n",
       "      <td>17</td>\n",
       "      <td>3</td>\n",
       "      <td>NaN</td>\n",
       "      <td>0.069282</td>\n",
       "      <td>Monday</td>\n",
       "    </tr>\n",
       "  </tbody>\n",
       "</table>\n",
       "</div>"
      ],
      "text/plain": [
       "                                 Título da atualização  \\\n",
       "115  Dicas bem legais para quem está em busca de no...   \n",
       "114  Dicas bem legais para quem está em busca de no...   \n",
       "82   O que é o Canvas?\\n\\nA ferramenta surgiu em me...   \n",
       "81   O que é o Canvas?\\n\\nA ferramenta surgiu em me...   \n",
       "4    Neste episódio #13 do Podcast da Engenharia Ex...   \n",
       "2    Neste episódio #13 do Podcast da Engenharia Ex...   \n",
       "\n",
       "                                   Link da atualização Tipo de atualização  \\\n",
       "115  https://www.linkedin.com/feed/update/urn:li:ac...               Total   \n",
       "114  https://www.linkedin.com/feed/update/urn:li:ac...         Em destaque   \n",
       "82   https://www.linkedin.com/feed/update/urn:li:ac...               Total   \n",
       "81   https://www.linkedin.com/feed/update/urn:li:ac...         Em destaque   \n",
       "4    https://www.linkedin.com/feed/update/urn:li:ac...               Total   \n",
       "2    https://www.linkedin.com/feed/update/urn:li:ac...            Orgânico   \n",
       "\n",
       "                         Nome da campanha  Publicada por Data de criação  \\\n",
       "115                                   NaN  Heitor Sasaki      2020-05-18   \n",
       "114  Conhecimento da marca - Sep 27, 2020  Heitor Sasaki      2020-05-18   \n",
       "82                                    NaN    Luan Sasaki      2020-06-25   \n",
       "81   Conhecimento da marca - Sep 27, 2020    Luan Sasaki      2020-06-25   \n",
       "4                                     NaN    Luan Sasaki      2020-09-28   \n",
       "2                                     NaN    Luan Sasaki      2020-09-28   \n",
       "\n",
       "    Data de início da campanha Data de término da campanha  \\\n",
       "115                        NaN                         NaN   \n",
       "114                 09/28/2020                  10/09/2020   \n",
       "82                         NaN                         NaN   \n",
       "81                  09/28/2020                  10/09/2020   \n",
       "4                          NaN                         NaN   \n",
       "2                          NaN                         NaN   \n",
       "\n",
       "                 Público  Impressões  Visualizações do vídeo  Cliques  \\\n",
       "115  Todos os seguidores       34362                     NaN       33   \n",
       "114  Todos os seguidores       33812                     NaN        9   \n",
       "82   Todos os seguidores       10108                     NaN      295   \n",
       "81   Todos os seguidores        8826                     NaN      229   \n",
       "4    Todos os seguidores        3647                     NaN      127   \n",
       "2    Todos os seguidores        3594                     NaN      127   \n",
       "\n",
       "     Taxa de cliques (CTR)  Gostaram  Comentários  Compartilhamentos  \\\n",
       "115               0.000960        14            0                  2   \n",
       "114               0.000266         0            0                  0   \n",
       "82                0.029185       138            9                  7   \n",
       "81                0.025946        14            0                  0   \n",
       "4                 0.034823       102           17                  3   \n",
       "2                 0.035337       102           17                  3   \n",
       "\n",
       "     Seguidores  Taxa de engajamento Dia_da_semana  \n",
       "115         0.0             0.001426        Monday  \n",
       "114         0.0             0.000266        Monday  \n",
       "82          0.0             0.043035      Thursday  \n",
       "81          0.0             0.025946      Thursday  \n",
       "4           0.0             0.068275        Monday  \n",
       "2           NaN             0.069282        Monday  "
      ]
     },
     "execution_count": 14,
     "metadata": {},
     "output_type": "execute_result"
    }
   ],
   "source": [
    "df[df['Impressões'] > 1000].sort_values(by = 'Impressões', ascending = False)[:6]"
   ]
  },
  {
   "cell_type": "markdown",
   "metadata": {},
   "source": [
    "Os posts com maiores impressões foram posts do Luan (Canvas) e Heitor (Dicas de Entrevista)."
   ]
  },
  {
   "cell_type": "code",
   "execution_count": 15,
   "metadata": {},
   "outputs": [
    {
     "data": {
      "image/png": "[encoded data removed]",
      "text/plain": [
       "<Figure size 432x288 with 1 Axes>"
      ]
     },
     "metadata": {
      "needs_background": "light"
     },
     "output_type": "display_data"
    },
    {
     "data": {
      "image/png": "[encoded data removed]",
      "text/plain": [
       "<Figure size 432x288 with 1 Axes>"
      ]
     },
     "metadata": {
      "needs_background": "light"
     },
     "output_type": "display_data"
    }
   ],
   "source": [
    "## vamos ver nossa média de likes\n",
    "\n",
    "sns.barplot(data = df, y = 'Gostaram')\n",
    "plt.title('Média de Likes dos nossos posts', fontsize = 12);\n",
    "\n",
    "plt.show()\n",
    "\n",
    "\n",
    "sns.barplot(data = df, y = 'Comentários',  palette='Greys_r')\n",
    "plt.title('Média de comentários dos nossos posts', fontsize = 12);\n",
    "\n",
    "plt.show()"
   ]
  },
  {
   "cell_type": "markdown",
   "metadata": {},
   "source": [
    "## Plotando agora a Distribuição de dos valores numéricos"
   ]
  },
  {
   "cell_type": "code",
   "execution_count": 16,
   "metadata": {},
   "outputs": [
    {
     "data": {
      "image/png": "[encoded data removed]",
      "text/plain": [
       "<Figure size 432x288 with 1 Axes>"
      ]
     },
     "metadata": {
      "needs_background": "light"
     },
     "output_type": "display_data"
    },
    {
     "data": {
      "image/png": "[encoded data removed]",
      "text/plain": [
       "<Figure size 432x288 with 1 Axes>"
      ]
     },
     "metadata": {
      "needs_background": "light"
     },
     "output_type": "display_data"
    }
   ],
   "source": [
    "sns.histplot(df[df['Impressões'] < 2000]['Impressões'], kde = True)\n",
    "plt.title('Gráfico de Impressões', fontsize = 12);\n",
    "\n",
    "plt.show()\n",
    "\n",
    "sns.boxplot(y = df[df['Impressões'] < 2000]['Impressões'])\n",
    "plt.title('Gráfico de Impressões', fontsize = 12);\n",
    "plt.show()\n"
   ]
  },
  {
   "cell_type": "code",
   "execution_count": 17,
   "metadata": {},
   "outputs": [
    {
     "data": {
      "image/png": "[encoded data removed]",
      "text/plain": [
       "<Figure size 432x288 with 1 Axes>"
      ]
     },
     "metadata": {
      "needs_background": "light"
     },
     "output_type": "display_data"
    },
    {
     "data": {
      "image/png": "[encoded data removed]",
      "text/plain": [
       "<Figure size 432x288 with 1 Axes>"
      ]
     },
     "metadata": {
      "needs_background": "light"
     },
     "output_type": "display_data"
    }
   ],
   "source": [
    "sns.histplot(df[df['Gostaram'] < 60]['Gostaram'], kde = True, color = 'g')\n",
    "plt.title('Histograma de Likes', fontsize = 12);\n",
    "\n",
    "plt.show()\n",
    "\n",
    "sns.boxplot(y = df[df['Gostaram'] < 60]['Gostaram'], color = 'g', saturation = 1.5)\n",
    "plt.title('Boxplot de likes', fontsize = 12);\n",
    "plt.show()"
   ]
  },
  {
   "cell_type": "code",
   "execution_count": 18,
   "metadata": {},
   "outputs": [
    {
     "data": {
      "image/png": "[encoded data removed]",
      "text/plain": [
       "<Figure size 432x288 with 1 Axes>"
      ]
     },
     "metadata": {
      "needs_background": "light"
     },
     "output_type": "display_data"
    },
    {
     "data": {
      "image/png": "[encoded data removed]",
      "text/plain": [
       "<Figure size 432x288 with 1 Axes>"
      ]
     },
     "metadata": {
      "needs_background": "light"
     },
     "output_type": "display_data"
    }
   ],
   "source": [
    "## Verificando nossa taxa de engajamento\n",
    "sns.histplot(df['Taxa de engajamento'], kde = True, color = 'blue')\n",
    "plt.title('Histograma de Engajamento %', fontsize = 12);\n",
    "\n",
    "plt.show()\n",
    "\n",
    "sns.boxplot(y = df['Taxa de engajamento'], color = 'blue', saturation = 0.5)\n",
    "plt.title('Boxplot de Engajamento', fontsize = 12);\n",
    "plt.show()"
   ]
  },
  {
   "cell_type": "code",
   "execution_count": 19,
   "metadata": {},
   "outputs": [
    {
     "data": {
      "image/png": "[encoded data removed]",
      "text/plain": [
       "<Figure size 432x288 with 1 Axes>"
      ]
     },
     "metadata": {
      "needs_background": "light"
     },
     "output_type": "display_data"
    }
   ],
   "source": [
    "plt.figure(figsize = (6,4))\n",
    "sns.scatterplot(data = df[df['Impressões'] < 7000], x = 'Impressões', y = 'Taxa de engajamento')\n",
    "plt.title('Impressões x Taxa de Engajamento', fontsize = 12);"
   ]
  },
  {
   "cell_type": "code",
   "execution_count": 20,
   "metadata": {},
   "outputs": [
    {
     "data": {
      "text/html": [
       "<div>\n",
       "<style scoped>\n",
       "    .dataframe tbody tr th:only-of-type {\n",
       "        vertical-align: middle;\n",
       "    }\n",
       "\n",
       "    .dataframe tbody tr th {\n",
       "        vertical-align: top;\n",
       "    }\n",
       "\n",
       "    .dataframe thead th {\n",
       "        text-align: right;\n",
       "    }\n",
       "</style>\n",
       "<table border=\"1\" class=\"dataframe\">\n",
       "  <thead>\n",
       "    <tr style=\"text-align: right;\">\n",
       "      <th></th>\n",
       "      <th>Título da atualização</th>\n",
       "      <th>Link da atualização</th>\n",
       "      <th>Tipo de atualização</th>\n",
       "      <th>Nome da campanha</th>\n",
       "      <th>Publicada por</th>\n",
       "      <th>Data de criação</th>\n",
       "      <th>Data de início da campanha</th>\n",
       "      <th>Data de término da campanha</th>\n",
       "      <th>Público</th>\n",
       "      <th>Impressões</th>\n",
       "      <th>Visualizações do vídeo</th>\n",
       "      <th>Cliques</th>\n",
       "      <th>Taxa de cliques (CTR)</th>\n",
       "      <th>Gostaram</th>\n",
       "      <th>Comentários</th>\n",
       "      <th>Compartilhamentos</th>\n",
       "      <th>Seguidores</th>\n",
       "      <th>Taxa de engajamento</th>\n",
       "      <th>Dia_da_semana</th>\n",
       "    </tr>\n",
       "  </thead>\n",
       "  <tbody>\n",
       "    <tr>\n",
       "      <td>0</td>\n",
       "      <td>Frase do dia:\\n\\n#engenharia #lideranças #insp...</td>\n",
       "      <td>https://www.linkedin.com/feed/update/urn:li:ac...</td>\n",
       "      <td>Orgânico</td>\n",
       "      <td>NaN</td>\n",
       "      <td>Luan Sasaki</td>\n",
       "      <td>2020-09-30</td>\n",
       "      <td>NaN</td>\n",
       "      <td>NaN</td>\n",
       "      <td>Todos os seguidores</td>\n",
       "      <td>393</td>\n",
       "      <td>NaN</td>\n",
       "      <td>2</td>\n",
       "      <td>0.005089</td>\n",
       "      <td>11</td>\n",
       "      <td>0</td>\n",
       "      <td>0</td>\n",
       "      <td>NaN</td>\n",
       "      <td>0.033079</td>\n",
       "      <td>Wednesday</td>\n",
       "    </tr>\n",
       "    <tr>\n",
       "      <td>1</td>\n",
       "      <td>Por que o CARISMA é uma habilidade importante ...</td>\n",
       "      <td>https://www.linkedin.com/feed/update/urn:li:ac...</td>\n",
       "      <td>Orgânico</td>\n",
       "      <td>NaN</td>\n",
       "      <td>Luan Sasaki</td>\n",
       "      <td>2020-09-29</td>\n",
       "      <td>NaN</td>\n",
       "      <td>NaN</td>\n",
       "      <td>Todos os seguidores</td>\n",
       "      <td>439</td>\n",
       "      <td>NaN</td>\n",
       "      <td>47</td>\n",
       "      <td>0.107062</td>\n",
       "      <td>10</td>\n",
       "      <td>0</td>\n",
       "      <td>2</td>\n",
       "      <td>NaN</td>\n",
       "      <td>0.134396</td>\n",
       "      <td>Tuesday</td>\n",
       "    </tr>\n",
       "    <tr>\n",
       "      <td>2</td>\n",
       "      <td>Neste episódio #13 do Podcast da Engenharia Ex...</td>\n",
       "      <td>https://www.linkedin.com/feed/update/urn:li:ac...</td>\n",
       "      <td>Orgânico</td>\n",
       "      <td>NaN</td>\n",
       "      <td>Luan Sasaki</td>\n",
       "      <td>2020-09-28</td>\n",
       "      <td>NaN</td>\n",
       "      <td>NaN</td>\n",
       "      <td>Todos os seguidores</td>\n",
       "      <td>3594</td>\n",
       "      <td>NaN</td>\n",
       "      <td>127</td>\n",
       "      <td>0.035337</td>\n",
       "      <td>102</td>\n",
       "      <td>17</td>\n",
       "      <td>3</td>\n",
       "      <td>NaN</td>\n",
       "      <td>0.069282</td>\n",
       "      <td>Monday</td>\n",
       "    </tr>\n",
       "    <tr>\n",
       "      <td>3</td>\n",
       "      <td>Neste episódio #13 do Podcast da Engenharia Ex...</td>\n",
       "      <td>https://www.linkedin.com/feed/update/urn:li:ac...</td>\n",
       "      <td>Em destaque</td>\n",
       "      <td>Conhecimento da marca - Sep 27, 2020</td>\n",
       "      <td>Luan Sasaki</td>\n",
       "      <td>2020-09-28</td>\n",
       "      <td>09/28/2020</td>\n",
       "      <td>10/09/2020</td>\n",
       "      <td>Todos os seguidores</td>\n",
       "      <td>53</td>\n",
       "      <td>NaN</td>\n",
       "      <td>0</td>\n",
       "      <td>0.000000</td>\n",
       "      <td>0</td>\n",
       "      <td>0</td>\n",
       "      <td>0</td>\n",
       "      <td>0.0</td>\n",
       "      <td>0.000000</td>\n",
       "      <td>Monday</td>\n",
       "    </tr>\n",
       "    <tr>\n",
       "      <td>4</td>\n",
       "      <td>Neste episódio #13 do Podcast da Engenharia Ex...</td>\n",
       "      <td>https://www.linkedin.com/feed/update/urn:li:ac...</td>\n",
       "      <td>Total</td>\n",
       "      <td>NaN</td>\n",
       "      <td>Luan Sasaki</td>\n",
       "      <td>2020-09-28</td>\n",
       "      <td>NaN</td>\n",
       "      <td>NaN</td>\n",
       "      <td>Todos os seguidores</td>\n",
       "      <td>3647</td>\n",
       "      <td>NaN</td>\n",
       "      <td>127</td>\n",
       "      <td>0.034823</td>\n",
       "      <td>102</td>\n",
       "      <td>17</td>\n",
       "      <td>3</td>\n",
       "      <td>0.0</td>\n",
       "      <td>0.068275</td>\n",
       "      <td>Monday</td>\n",
       "    </tr>\n",
       "  </tbody>\n",
       "</table>\n",
       "</div>"
      ],
      "text/plain": [
       "                               Título da atualização  \\\n",
       "0  Frase do dia:\\n\\n#engenharia #lideranças #insp...   \n",
       "1  Por que o CARISMA é uma habilidade importante ...   \n",
       "2  Neste episódio #13 do Podcast da Engenharia Ex...   \n",
       "3  Neste episódio #13 do Podcast da Engenharia Ex...   \n",
       "4  Neste episódio #13 do Podcast da Engenharia Ex...   \n",
       "\n",
       "                                 Link da atualização Tipo de atualização  \\\n",
       "0  https://www.linkedin.com/feed/update/urn:li:ac...            Orgânico   \n",
       "1  https://www.linkedin.com/feed/update/urn:li:ac...            Orgânico   \n",
       "2  https://www.linkedin.com/feed/update/urn:li:ac...            Orgânico   \n",
       "3  https://www.linkedin.com/feed/update/urn:li:ac...         Em destaque   \n",
       "4  https://www.linkedin.com/feed/update/urn:li:ac...               Total   \n",
       "\n",
       "                       Nome da campanha Publicada por Data de criação  \\\n",
       "0                                   NaN   Luan Sasaki      2020-09-30   \n",
       "1                                   NaN   Luan Sasaki      2020-09-29   \n",
       "2                                   NaN   Luan Sasaki      2020-09-28   \n",
       "3  Conhecimento da marca - Sep 27, 2020   Luan Sasaki      2020-09-28   \n",
       "4                                   NaN   Luan Sasaki      2020-09-28   \n",
       "\n",
       "  Data de início da campanha Data de término da campanha              Público  \\\n",
       "0                        NaN                         NaN  Todos os seguidores   \n",
       "1                        NaN                         NaN  Todos os seguidores   \n",
       "2                        NaN                         NaN  Todos os seguidores   \n",
       "3                 09/28/2020                  10/09/2020  Todos os seguidores   \n",
       "4                        NaN                         NaN  Todos os seguidores   \n",
       "\n",
       "   Impressões  Visualizações do vídeo  Cliques  Taxa de cliques (CTR)  \\\n",
       "0         393                     NaN        2               0.005089   \n",
       "1         439                     NaN       47               0.107062   \n",
       "2        3594                     NaN      127               0.035337   \n",
       "3          53                     NaN        0               0.000000   \n",
       "4        3647                     NaN      127               0.034823   \n",
       "\n",
       "   Gostaram  Comentários  Compartilhamentos  Seguidores  Taxa de engajamento  \\\n",
       "0        11            0                  0         NaN             0.033079   \n",
       "1        10            0                  2         NaN             0.134396   \n",
       "2       102           17                  3         NaN             0.069282   \n",
       "3         0            0                  0         0.0             0.000000   \n",
       "4       102           17                  3         0.0             0.068275   \n",
       "\n",
       "  Dia_da_semana  \n",
       "0     Wednesday  \n",
       "1       Tuesday  \n",
       "2        Monday  \n",
       "3        Monday  \n",
       "4        Monday  "
      ]
     },
     "execution_count": 20,
     "metadata": {},
     "output_type": "execute_result"
    }
   ],
   "source": [
    "df.head()"
   ]
  },
  {
   "cell_type": "code",
   "execution_count": 23,
   "metadata": {},
   "outputs": [
    {
     "data": {
      "image/png": "[encoded data removed]",
      "text/plain": [
       "<Figure size 576x504 with 1 Axes>"
      ]
     },
     "metadata": {
      "needs_background": "light"
     },
     "output_type": "display_data"
    }
   ],
   "source": [
    "plt.figure(figsize = (8,7))\n",
    "sns.barplot(data = df, y = 'Gostaram', x ='Dia_da_semana', order = ['Monday', 'Tuesday', 'Wednesday', 'Thursday', 'Friday', 'Saturday', 'Sunday'])\n",
    "plt.title('Média de Likes dos nossos posts por dia', fontsize = 12);\n"
   ]
  },
  {
   "cell_type": "code",
   "execution_count": 25,
   "metadata": {},
   "outputs": [
    {
     "data": {
      "image/png": "[encoded data removed]",
      "text/plain": [
       "<Figure size 576x504 with 1 Axes>"
      ]
     },
     "metadata": {
      "needs_background": "light"
     },
     "output_type": "display_data"
    }
   ],
   "source": [
    "plt.figure(figsize = (8,7))\n",
    "sns.barplot(data = df, y = 'Taxa de engajamento', x ='Dia_da_semana', order = ['Monday', 'Tuesday', 'Wednesday', 'Thursday', 'Friday', 'Saturday', 'Sunday'])\n",
    "plt.title('Média de Engajamento dos nossos posts por dia', fontsize = 12);"
   ]
  },
  {
   "cell_type": "markdown",
   "metadata": {},
   "source": [
    "- Persona: Não está claro\n",
    "    Identificar o nossa persona: Pesquisa - Pesquisar o que nossos ouvintes podem ouvir\n",
    "        Segunda-feira: O que trazer ? Conceitos, práticas\n",
    "            (Nós sugerirmos ou Sugerir comentário sobre o que eles querem ouvir (eng financeira, eng de energia)\n",
    "    \n",
    "    - Pesquisa insta >>> Foto insta (pesquisa >>> link nos stories)\n",
    "             \n",
    "             \n",
    "    - Pesquisa linkedin >>> likes, ideias, curiosidades (caça likes)\n",
    "    \n",
    "    "
   ]
  }
 ],
 "metadata": {
  "kernelspec": {
   "display_name": "Python 3",
   "language": "python",
   "name": "python3"
  },
  "language_info": {
   "codemirror_mode": {
    "name": "ipython",
    "version": 3
   },
   "file_extension": ".py",
   "mimetype": "text/x-python",
   "name": "python",
   "nbconvert_exporter": "python",
   "pygments_lexer": "ipython3",
   "version": "3.7.4"
  }
 },
 "nbformat": 4,
 "nbformat_minor": 2
}
