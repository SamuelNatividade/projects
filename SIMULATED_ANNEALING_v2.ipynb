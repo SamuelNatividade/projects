{
 "cells": [
  {
   "cell_type": "code",
   "execution_count": 14,
   "metadata": {},
   "outputs": [],
   "source": [
    "## SIMULATED ANNEALING\n",
    "import gurobipy as gp\n",
    "import pandas as pd\n",
    "import numpy as np\n",
    "import matplotlib.pyplot as plt\n",
    "from random import randrange\n",
    "import xlsxwriter\n",
    "import math\n",
    "import time \n",
    "import timeit\n",
    "from copy import deepcopy as deepcopy\n",
    "import random\n",
    "import decimal\n",
    "import mpmath\n",
    "mpmath.mp.dps = 8   \n",
    "import matplotlib.pyplot as plt\n",
    "import matplotlib.ticker as ticker"
   ]
  },
  {
   "cell_type": "code",
   "execution_count": 15,
   "metadata": {},
   "outputs": [
    {
     "data": {
      "text/plain": [
       "0.07781766718752514"
      ]
     },
     "execution_count": 15,
     "metadata": {},
     "output_type": "execute_result"
    }
   ],
   "source": [
    "random.uniform(0,1)"
   ]
  },
  {
   "cell_type": "code",
   "execution_count": 16,
   "metadata": {},
   "outputs": [],
   "source": [
    "h = 0.2 ## alterar sempre\n",
    "k = 2 ## alterar sempre\n",
    "df = pd.read_excel(r'C:\\Users\\Samuel Natividade\\Desktop\\Estudo_Mestrado\\PRO5828\\1000\\Heuristica_Construtiva_' + str(h) + '_1000k_' + str(k) +'.xlsx', skiprows = 1)"
   ]
  },
  {
   "cell_type": "code",
   "execution_count": 17,
   "metadata": {},
   "outputs": [],
   "source": [
    "ultimo_job_b = df[(df['eardiness'] == 0) & (df['tardiness'] == 0)]\n",
    "df_b = df[df['eardiness'] < 0] \n",
    "df_a = df[df['tardiness'] > 0]\n",
    "df_b = pd.concat([df_b, ultimo_job_b])"
   ]
  },
  {
   "cell_type": "code",
   "execution_count": 18,
   "metadata": {},
   "outputs": [],
   "source": [
    "jobs_b = df_b['job'].tolist()\n",
    "p_i_b = df_b['pi'].tolist() # tempo de processamento dos jobs\n",
    "a_i_b= df_b['ai'].tolist() # penalti por antecipação\n",
    "b_i_b = df_b['bi'].tolist() # penalti por atraso\n",
    "pi_ai_b = df_b['pi/ai'].tolist()\n",
    "pi_bi_b = df_b['pi/bi'].tolist()\n",
    "eardiness_b = df_b['eardiness'].tolist()\n",
    "tardiness_b = df_b['tardiness'].tolist()\n",
    "\n",
    "###\n",
    "\n",
    "jobs_a = df_a['job'].tolist()\n",
    "p_i_a = df_a['pi'].tolist() # tempo de processamento dos jobs\n",
    "a_i_a= df_a['ai'].tolist() # penalti por antecipação\n",
    "b_i_a= df_a['bi'].tolist() # penalti por atraso\n",
    "pi_ai_a = df_a['pi/ai'].tolist()\n",
    "pi_bi_a = df_a['pi/bi'].tolist()\n",
    "eardiness_a = df_a['eardiness'].tolist()\n",
    "tardiness_a = df_a['tardiness'].tolist()"
   ]
  },
  {
   "cell_type": "code",
   "execution_count": 19,
   "metadata": {},
   "outputs": [],
   "source": [
    "d = math.floor(h * df['pi'].sum())"
   ]
  },
  {
   "cell_type": "code",
   "execution_count": 20,
   "metadata": {},
   "outputs": [],
   "source": [
    "dados_b = []\n",
    "for i in range(len(jobs_b)):\n",
    "    list_b = [jobs_b[i],p_i_b[i], a_i_b[i], b_i_b[i], pi_ai_b[i], pi_bi_b[i]]\n",
    "    dados_b.append(list_b)\n",
    "\n",
    "dados_a = []\n",
    "for i in range(len(jobs_a)):\n",
    "    list_a = [jobs_a[i],p_i_a[i], a_i_a[i], b_i_a[i], pi_ai_a[i], pi_bi_a[i]]\n",
    "    dados_a.append(list_a)"
   ]
  },
  {
   "cell_type": "code",
   "execution_count": 21,
   "metadata": {},
   "outputs": [
    {
     "name": "stdout",
     "output_type": "stream",
     "text": [
      "8\n"
     ]
    }
   ],
   "source": [
    "total_time_b = 0\n",
    "for job in dados_b:\n",
    "    total_time_b += job[1]\n",
    "\n",
    "folga_inicio_2 = d - total_time_b\n",
    "print(folga_inicio_2)"
   ]
  },
  {
   "cell_type": "code",
   "execution_count": 22,
   "metadata": {},
   "outputs": [],
   "source": [
    "## adicionando o starttime no schedule T\n",
    "schedule_t = dados_b + dados_a\n",
    "\n",
    "start_time_2 = [folga_inicio_2]\n",
    "p_i_acumulado_2 = []\n",
    "\n",
    "for job in schedule_t:\n",
    "    if (job == schedule_t[0]):\n",
    "        start_time_2.append(job[1] + folga_inicio_2) \n",
    "    else:\n",
    "        ultimo_job = start_time_2[-1]\n",
    "        start_time_2.append(ultimo_job + job[1])\n",
    "\n",
    "start_time_2 = start_time_2[:-1]\n",
    "\n",
    "\n",
    "for i in range(len(start_time_2)): # adicionando start_time no schedule T\n",
    "    schedule_t[i].append(start_time_2[i])"
   ]
  },
  {
   "cell_type": "code",
   "execution_count": 23,
   "metadata": {},
   "outputs": [],
   "source": [
    "## Agora, objetivo é calcular o eardiness e tardiness, para isso é preciso calcular o flowtime\n",
    "penalty = 0\n",
    "for job in schedule_t:\n",
    "    flowtime = job[1] + job[6]\n",
    "    flowtime_menos_d = flowtime - d\n",
    "    job.append(flowtime_menos_d)\n",
    "    if flowtime_menos_d < 0:\n",
    "        eardiness = abs(flowtime_menos_d * job[2])\n",
    "        ##penalty.append(eardiness)\n",
    "        penalty = eardiness\n",
    "        job.append(penalty)\n",
    "    elif flowtime_menos_d > 0:\n",
    "        tardiness = flowtime_menos_d * job[3]\n",
    "        penalty = tardiness\n",
    "        job.append(penalty)\n",
    "        ##penalty.append(tardiness)\n",
    "    else:\n",
    "        job.append(0)"
   ]
  },
  {
   "cell_type": "code",
   "execution_count": 24,
   "metadata": {},
   "outputs": [
    {
     "name": "stdout",
     "output_type": "stream",
     "text": [
      "15593788\n"
     ]
    }
   ],
   "source": [
    "## cálculo da função objetivo\n",
    "F_O = 0\n",
    "\n",
    "for job in schedule_t:\n",
    "    F_O += job[8]\n",
    "print(F_O)"
   ]
  },
  {
   "cell_type": "code",
   "execution_count": 25,
   "metadata": {},
   "outputs": [],
   "source": [
    "##SIMULATED ANNEALING\n",
    "## Parâmetros de Entrada\n",
    "T_0 = 1000000000 # temperatura inicial\n",
    "T_f = 20 # temperatura final\n",
    "L = 15\n",
    "alfa = 0.99 # indice de resfriamento\n",
    "T = T_0\n",
    "S_incumbente = list()\n",
    "FO_incumbente = 9999999\n",
    "S_linha = 0 ## recebe a heuristica construtiva\n",
    "S_0 = schedule_t.copy()\n",
    "probabilidade_de_aceite = random.uniform(0,1)\n",
    "outputs = []\n",
    "tic=timeit.default_timer()"
   ]
  },
  {
   "cell_type": "code",
   "execution_count": 26,
   "metadata": {},
   "outputs": [],
   "source": [
    "contador = 0\n",
    "while T > T_f:\n",
    "    contador += 1\n",
    "# for i in range(L):\n",
    "#######  SELECIONANDO A VIZINHA DE S ############\n",
    "    dados_b_sa = list() ## dados antes simulated annealing\n",
    "    dados_a_sa = list() ## dados depois simulated annealing\n",
    "    for jobs in S_0:\n",
    "        if (jobs[7] <= 0):\n",
    "            dados_b_sa.append(jobs) # antes \n",
    "        else:\n",
    "            dados_a_sa.append(jobs) # depois \n",
    "\n",
    "    qtdade_jobs_b_sa = len(dados_b_sa) ## quantidade de jobs antes do due date\n",
    "    job_sorteado = random.randint(0,qtdade_jobs_b_sa-1) ## sorteado um job dentre os jobs antes do due date\n",
    "\n",
    "    adicionar_em_a = dados_b_sa[job_sorteado] \n",
    "    ## agora preciso calcular o start_time atual (folga no inicio) e calcular o tempo de processamento\n",
    "    folga_inicio_2 = dados_b_sa[0][6] + dados_b_sa[job_sorteado][1]\n",
    "\n",
    "    lista_cadidata_a = []\n",
    "    for jobs in dados_a_sa:\n",
    "        if (jobs[1]) <= folga_inicio_2:\n",
    "            lista_cadidata_a.append(jobs)\n",
    "        else:\n",
    "            pass\n",
    "\n",
    "    lista_candidata_sorted = sorted(lista_cadidata_a,key=lambda x: x[8], reverse = True) \n",
    "    adicionar_em_b_2 = list()\n",
    "    dados_a_copy = dados_a_sa.copy()\n",
    "    sum_pi = 0\n",
    "\n",
    "    for jobs in lista_candidata_sorted:\n",
    "        sum_pi += jobs[1]\n",
    "        if sum_pi <= folga_inicio_2:\n",
    "            adicionar_em_b_2.append(jobs)\n",
    "        else:\n",
    "            break\n",
    "\n",
    "    dados_a_sa_temp = [x for x in dados_a_sa if x not in adicionar_em_b_2] ## excluindo os jobs que sairão de A e irão para B\n",
    "    dados_b_sa_temp = dados_b_sa.copy()\n",
    "    dados_b_sa_temp.pop(job_sorteado)\n",
    "    dados_a_sa_temp.append(adicionar_em_a)\n",
    "\n",
    "    for jobs in adicionar_em_b_2:\n",
    "        dados_b_sa_temp.append(jobs)\n",
    "\n",
    "    dados_b_temp_sorted = sorted(dados_b_sa_temp,key=lambda x: x[4], reverse = True)\n",
    "    dados_a_temp_sorted = sorted(dados_a_sa_temp,key=lambda x: x[5])\n",
    "\n",
    "    dados_b_sorted_new = list()\n",
    "    for job in dados_b_temp_sorted: ## deletando os valores antigos\n",
    "        dados_b_sorted_new.append(job[:6])\n",
    "\n",
    "    dados_a_sorted_new = list()\n",
    "    for job in dados_a_temp_sorted: ## deletando os valores antigos\n",
    "        dados_a_sorted_new.append(job[:6])\n",
    "\n",
    "    ### agora calculando os novos parâmetros para dados_b_temp_sorted e dados_a_temp_sorted\n",
    "    # primeiro calculando o starttime\n",
    "    total_time_b_3 = 0\n",
    "    for job in dados_b_sorted_new:\n",
    "        total_time_b_3 += job[1]\n",
    "\n",
    "    folga_inicio_3 = d - total_time_b_3\n",
    "\n",
    "    S_linha = dados_b_sorted_new + dados_a_sorted_new\n",
    "\n",
    "    start_time_3 = [folga_inicio_3]\n",
    "    p_i_acumulado_3 = []\n",
    "\n",
    "    for job in S_linha:\n",
    "        if (job == S_linha[0]):\n",
    "            start_time_3.append(job[1] + folga_inicio_3) \n",
    "        else:\n",
    "            ultimo_job = start_time_3[-1]\n",
    "            start_time_3.append(ultimo_job + job[1])\n",
    "\n",
    "    start_time_3 = start_time_3[:-1]\n",
    "    for i in range(len(start_time_3)): # adicionando start_time no schedule T\n",
    "        S_linha[i].append(start_time_3[i])\n",
    "\n",
    "\n",
    "    penalty = 0\n",
    "    for job in S_linha:\n",
    "        flowtime = job[1] + job[6]\n",
    "        flowtime_menos_d = flowtime - d\n",
    "        job.append(flowtime_menos_d)\n",
    "        if flowtime_menos_d < 0:\n",
    "            eardiness = abs(flowtime_menos_d * job[2])\n",
    "            penalty = eardiness\n",
    "            job.append(penalty)\n",
    "        elif flowtime_menos_d > 0:\n",
    "            tardiness = flowtime_menos_d * job[3]\n",
    "            penalty = tardiness\n",
    "            job.append(penalty)\n",
    "        else:\n",
    "            job.append(0)\n",
    "\n",
    "            \n",
    "    FO_Slinha = 0\n",
    "    for job in S_linha:\n",
    "        FO_Slinha += job[8]\n",
    "        \n",
    "    FO_S0 = 0\n",
    "    for job in S_0:\n",
    "        FO_S0 += job[8]\n",
    "    ############# CALCULO DELTA CUSTO ####################\n",
    "    delta_custo = FO_Slinha - FO_S0\n",
    "    outputs.append(FO_Slinha)\n",
    "    if (delta_custo < 0) or (probabilidade_de_aceite < math.e**(delta_custo/T)):\n",
    "        FO_S0 = FO_Slinha\n",
    "        S_0 = []\n",
    "        S_0 = S_linha.copy()\n",
    "\n",
    "    T = T * alfa"
   ]
  },
  {
   "cell_type": "code",
   "execution_count": 27,
   "metadata": {},
   "outputs": [],
   "source": [
    "x_ = []\n",
    "for i in range(0,len(outputs)):\n",
    "    x_.append(i+1)"
   ]
  },
  {
   "cell_type": "code",
   "execution_count": 28,
   "metadata": {},
   "outputs": [
    {
     "data": {
      "text/plain": [
       "13777046"
      ]
     },
     "execution_count": 28,
     "metadata": {},
     "output_type": "execute_result"
    }
   ],
   "source": [
    "min(outputs)"
   ]
  },
  {
   "cell_type": "code",
   "execution_count": 29,
   "metadata": {},
   "outputs": [],
   "source": [
    "toc=timeit.default_timer()"
   ]
  },
  {
   "cell_type": "code",
   "execution_count": 30,
   "metadata": {},
   "outputs": [
    {
     "name": "stdout",
     "output_type": "stream",
     "text": [
      "7.9115660000000005\n"
     ]
    }
   ],
   "source": [
    "tempo = toc - tic #elapsed time in seconds\n",
    "print(tempo)"
   ]
  },
  {
   "cell_type": "code",
   "execution_count": 31,
   "metadata": {},
   "outputs": [
    {
     "data": {
      "image/png": "[encoded data removed]",
      "text/plain": [
       "<Figure size 1080x720 with 1 Axes>"
      ]
     },
     "metadata": {
      "needs_background": "light"
     },
     "output_type": "display_data"
    }
   ],
   "source": [
    "plt.figure(figsize = (15,10))\n",
    "plt.rc('font', family='sans-serif') \n",
    "plt.rc('font', serif='Helvetica Neue') \n",
    "plt.rc('text', usetex='false')\n",
    "plt.plot(outputs, color = 'green')\n",
    "plt.ylabel(\"Funçao Objetivo\", fontsize = 16)\n",
    "plt.xlabel(\"Iterações\", fontsize = 16)\n",
    "plt.grid()\n",
    "plt.savefig('Simulated_Annealing.jpg', format='jpg', dpi=300)"
   ]
  },
  {
   "cell_type": "code",
   "execution_count": null,
   "metadata": {},
   "outputs": [],
   "source": []
  }
 ],
 "metadata": {
  "kernelspec": {
   "display_name": "Python 3.9.1 64-bit",
   "language": "python",
   "name": "python3"
  },
  "language_info": {
   "codemirror_mode": {
    "name": "ipython",
    "version": 3
   },
   "file_extension": ".py",
   "mimetype": "text/x-python",
   "name": "python",
   "nbconvert_exporter": "python",
   "pygments_lexer": "ipython3",
   "version": "3.9.1"
  },
  "orig_nbformat": 4,
  "vscode": {
   "interpreter": {
    "hash": "143b52edd0face4e7e7dc724022ea69bbc0cc412aa6cb307a20d6328200545f4"
   }
  }
 },
 "nbformat": 4,
 "nbformat_minor": 2
}
